{
 "cells": [
  {
   "cell_type": "markdown",
   "id": "25d7736c-ba17-4aff-b6bb-66eba20fbf4e",
   "metadata": {},
   "source": [
    "# Lab | Pandas"
   ]
  },
  {
   "cell_type": "markdown",
   "id": "d1973e9e-8be6-4039-b70e-d73ee0d94c99",
   "metadata": {},
   "source": [
    "In this lab, we will be working with the customer data from an insurance company, which can be found in the CSV file located at the following link: https://raw.githubusercontent.com/data-bootcamp-v4/data/main/file1.csv\n",
    "\n",
    "The data includes information such as customer ID, state, gender, education, income, and other variables that can be used to perform various analyses.\n",
    "\n",
    "Throughout the lab, we will be using the pandas library in Python to manipulate and analyze the data. Pandas is a powerful library that provides various data manipulation and analysis tools, including the ability to load and manipulate data from a variety of sources, including CSV files."
   ]
  },
  {
   "cell_type": "markdown",
   "id": "8045146f-f4f7-44d9-8cd9-130d6400c73a",
   "metadata": {},
   "source": [
    "### Data Description\n",
    "\n",
    "- Customer - Customer ID\n",
    "\n",
    "- ST - State where customers live\n",
    "\n",
    "- Gender - Gender of the customer\n",
    "\n",
    "- Education - Background education of customers \n",
    "\n",
    "- Customer Lifetime Value - Customer lifetime value(CLV) is the total revenue the client will derive from their entire relationship with a customer. In other words, is the predicted or calculated value of a customer over their entire duration as a policyholder with the insurance company. It is an estimation of the net profit that the insurance company expects to generate from a customer throughout their relationship with the company. Customer Lifetime Value takes into account factors such as the duration of the customer's policy, premium payments, claim history, renewal likelihood, and potential additional services or products the customer may purchase. It helps insurers assess the long-term profitability and value associated with retaining a particular customer.\n",
    "\n",
    "- Income - Customers income\n",
    "\n",
    "- Monthly Premium Auto - Amount of money the customer pays on a monthly basis as a premium for their auto insurance coverage. It represents the recurring cost that the insured person must pay to maintain their insurance policy and receive coverage for potential damages, accidents, or other covered events related to their vehicle.\n",
    "\n",
    "- Number of Open Complaints - Number of complaints the customer opened\n",
    "\n",
    "- Policy Type - There are three type of policies in car insurance (Corporate Auto, Personal Auto, and Special Auto)\n",
    "\n",
    "- Vehicle Class - Type of vehicle classes that customers have Two-Door Car, Four-Door Car SUV, Luxury SUV, Sports Car, and Luxury Car\n",
    "\n",
    "- Total Claim Amount - the sum of all claims made by the customer. It represents the total monetary value of all approved claims for incidents such as accidents, theft, vandalism, or other covered events.\n"
   ]
  },
  {
   "cell_type": "markdown",
   "id": "3a72419b-20fc-4905-817a-8c83abc59de6",
   "metadata": {},
   "source": [
    "External Resources: https://towardsdatascience.com/filtering-data-frames-in-pandas-b570b1f834b9"
   ]
  },
  {
   "cell_type": "markdown",
   "id": "8f8ece17-e919-4e23-96c0-c7c59778436a",
   "metadata": {},
   "source": [
    "## Challenge 1: Understanding the data\n",
    "\n",
    "In this challenge, you will use pandas to explore a given dataset. Your task is to gain a deep understanding of the data by analyzing its characteristics, dimensions, and statistical properties."
   ]
  },
  {
   "cell_type": "markdown",
   "id": "91437bd5-59a6-49c0-8150-ef0e6e6eb253",
   "metadata": {},
   "source": [
    "- Identify the dimensions of the dataset by determining the number of rows and columns it contains.\n",
    "- Determine the data types of each column and evaluate whether they are appropriate for the nature of the variable. You should also provide suggestions for fixing any incorrect data types.\n",
    "- Identify the number of unique values for each column and determine which columns appear to be categorical. You should also describe the unique values of each categorical column and the range of values for numerical columns, and give your insights.\n",
    "- Compute summary statistics such as mean, median, mode, standard deviation, and quartiles to understand the central tendency and distribution of the data for numerical columns. You should also provide your conclusions based on these summary statistics.\n",
    "- Compute summary statistics for categorical columns and providing your conclusions based on these statistics."
   ]
  },
  {
   "cell_type": "code",
   "execution_count": 14,
   "id": "dd4e8cd8-a6f6-486c-a5c4-1745b0c035f4",
   "metadata": {},
   "outputs": [
    {
     "name": "stdout",
     "output_type": "stream",
     "text": [
      "The first five entries are:\n",
      "  Customer          ST GENDER             Education Customer Lifetime Value  \\\n",
      "0  RB50392  Washington    NaN                Master                     NaN   \n",
      "1  QZ44356     Arizona      F              Bachelor              697953.59%   \n",
      "2  AI49188      Nevada      F              Bachelor             1288743.17%   \n",
      "3  WW63253  California      M              Bachelor              764586.18%   \n",
      "4  GA49547  Washington      M  High School or Below              536307.65%   \n",
      "\n",
      "    Income  Monthly Premium Auto Number of Open Complaints     Policy Type  \\\n",
      "0      0.0                1000.0                    1/0/00   Personal Auto   \n",
      "1      0.0                  94.0                    1/0/00   Personal Auto   \n",
      "2  48767.0                 108.0                    1/0/00   Personal Auto   \n",
      "3      0.0                 106.0                    1/0/00  Corporate Auto   \n",
      "4  36357.0                  68.0                    1/0/00   Personal Auto   \n",
      "\n",
      "   Vehicle Class  Total Claim Amount  \n",
      "0  Four-Door Car            2.704934  \n",
      "1  Four-Door Car         1131.464935  \n",
      "2   Two-Door Car          566.472247  \n",
      "3            SUV          529.881344  \n",
      "4  Four-Door Car           17.269323  \n",
      "The index is equal to:\n",
      "RangeIndex(start=0, stop=4008, step=1)\n",
      "The columns of the data frame are: Index(['Customer', 'ST', 'GENDER', 'Education', 'Customer Lifetime Value',\n",
      "       'Income', 'Monthly Premium Auto', 'Number of Open Complaints',\n",
      "       'Policy Type', 'Vehicle Class', 'Total Claim Amount'],\n",
      "      dtype='object')\n",
      "<bound method DataFrame.info of      Customer          ST GENDER             Education  \\\n",
      "0     RB50392  Washington    NaN                Master   \n",
      "1     QZ44356     Arizona      F              Bachelor   \n",
      "2     AI49188      Nevada      F              Bachelor   \n",
      "3     WW63253  California      M              Bachelor   \n",
      "4     GA49547  Washington      M  High School or Below   \n",
      "...       ...         ...    ...                   ...   \n",
      "4003      NaN         NaN    NaN                   NaN   \n",
      "4004      NaN         NaN    NaN                   NaN   \n",
      "4005      NaN         NaN    NaN                   NaN   \n",
      "4006      NaN         NaN    NaN                   NaN   \n",
      "4007      NaN         NaN    NaN                   NaN   \n",
      "\n",
      "     Customer Lifetime Value   Income  Monthly Premium Auto  \\\n",
      "0                        NaN      0.0                1000.0   \n",
      "1                 697953.59%      0.0                  94.0   \n",
      "2                1288743.17%  48767.0                 108.0   \n",
      "3                 764586.18%      0.0                 106.0   \n",
      "4                 536307.65%  36357.0                  68.0   \n",
      "...                      ...      ...                   ...   \n",
      "4003                     NaN      NaN                   NaN   \n",
      "4004                     NaN      NaN                   NaN   \n",
      "4005                     NaN      NaN                   NaN   \n",
      "4006                     NaN      NaN                   NaN   \n",
      "4007                     NaN      NaN                   NaN   \n",
      "\n",
      "     Number of Open Complaints     Policy Type  Vehicle Class  \\\n",
      "0                       1/0/00   Personal Auto  Four-Door Car   \n",
      "1                       1/0/00   Personal Auto  Four-Door Car   \n",
      "2                       1/0/00   Personal Auto   Two-Door Car   \n",
      "3                       1/0/00  Corporate Auto            SUV   \n",
      "4                       1/0/00   Personal Auto  Four-Door Car   \n",
      "...                        ...             ...            ...   \n",
      "4003                       NaN             NaN            NaN   \n",
      "4004                       NaN             NaN            NaN   \n",
      "4005                       NaN             NaN            NaN   \n",
      "4006                       NaN             NaN            NaN   \n",
      "4007                       NaN             NaN            NaN   \n",
      "\n",
      "      Total Claim Amount  \n",
      "0               2.704934  \n",
      "1            1131.464935  \n",
      "2             566.472247  \n",
      "3             529.881344  \n",
      "4              17.269323  \n",
      "...                  ...  \n",
      "4003                 NaN  \n",
      "4004                 NaN  \n",
      "4005                 NaN  \n",
      "4006                 NaN  \n",
      "4007                 NaN  \n",
      "\n",
      "[4008 rows x 11 columns]>\n",
      "The dataset contains 4008 rows and 11 columns\n",
      "Let's analyze the first column\n",
      "0       RB50392\n",
      "1       QZ44356\n",
      "2       AI49188\n",
      "3       WW63253\n",
      "4       GA49547\n",
      "         ...   \n",
      "4003        NaN\n",
      "4004        NaN\n",
      "4005        NaN\n",
      "4006        NaN\n",
      "4007        NaN\n",
      "Name: Customer, Length: 4008, dtype: object\n"
     ]
    }
   ],
   "source": [
    "# First we import numpy\n",
    "import numpy as np\n",
    "#Second we import pandas\n",
    "import pandas as pd\n",
    "#Third we import the file\n",
    "url=\"https://raw.githubusercontent.com/data-bootcamp-v4/data/main/file1.csv\"\n",
    "insurance_customers_df=pd.read_csv(url)\n",
    "#To check the structure of the data, we first are going to use head() and look at the first 5 entries\n",
    "insurance_customers_df.head(5)\n",
    "print(\"The first five entries are:\")\n",
    "\n",
    "print(  insurance_customers_df.head(5))\n",
    "#Now with an idea of how it looks, we use index an columns to check the dimensions of the dataframe\n",
    "insurance_customers_df.index\n",
    "\n",
    "print(\"The index is equal to:\")\n",
    "print(insurance_customers_df.index)\n",
    "insurance_customers_df.columns\n",
    "\n",
    "print(\"The columns of the data frame are:\")\n",
    "print(insurance_customers_df.columns)\n",
    "\n",
    "\n",
    "\n",
    "\n"
   ]
  },
  {
   "cell_type": "code",
   "execution_count": 17,
   "id": "2c745c96",
   "metadata": {},
   "outputs": [
    {
     "name": "stdout",
     "output_type": "stream",
     "text": [
      "The dataset contains 4008 rows and 11 columns\n"
     ]
    }
   ],
   "source": [
    "#The dataset contains 4008 rows and 11 columns\n",
    "print(\"The dataset contains 4008 rows and 11 columns\")"
   ]
  },
  {
   "cell_type": "code",
   "execution_count": 28,
   "id": "c70903b7",
   "metadata": {},
   "outputs": [
    {
     "data": {
      "text/plain": [
       "0       RB50392\n",
       "1       QZ44356\n",
       "2       AI49188\n",
       "3       WW63253\n",
       "4       GA49547\n",
       "         ...   \n",
       "4003        NaN\n",
       "4004        NaN\n",
       "4005        NaN\n",
       "4006        NaN\n",
       "4007        NaN\n",
       "Name: Customer, Length: 4008, dtype: object"
      ]
     },
     "execution_count": 28,
     "metadata": {},
     "output_type": "execute_result"
    }
   ],
   "source": [
    "#We are going to check the datatype of each column\n",
    "\n",
    "#First Column Customer\n",
    "\n",
    "insurance_customers_df.Customer\n",
    "\n",
    "\n"
   ]
  },
  {
   "cell_type": "code",
   "execution_count": 20,
   "id": "3352fb8a",
   "metadata": {},
   "outputs": [
    {
     "data": {
      "text/plain": [
       "0       Washington\n",
       "1          Arizona\n",
       "2           Nevada\n",
       "3       California\n",
       "4       Washington\n",
       "           ...    \n",
       "4003           NaN\n",
       "4004           NaN\n",
       "4005           NaN\n",
       "4006           NaN\n",
       "4007           NaN\n",
       "Name: ST, Length: 4008, dtype: object"
      ]
     },
     "execution_count": 20,
     "metadata": {},
     "output_type": "execute_result"
    }
   ],
   "source": [
    "#Second Column ST\n",
    "insurance_customers_df.ST"
   ]
  },
  {
   "cell_type": "code",
   "execution_count": 25,
   "id": "14a0c04c",
   "metadata": {},
   "outputs": [
    {
     "data": {
      "text/plain": [
       "0       NaN\n",
       "1         F\n",
       "2         F\n",
       "3         M\n",
       "4         M\n",
       "       ... \n",
       "4003    NaN\n",
       "4004    NaN\n",
       "4005    NaN\n",
       "4006    NaN\n",
       "4007    NaN\n",
       "Name: GENDER, Length: 4008, dtype: object"
      ]
     },
     "execution_count": 25,
     "metadata": {},
     "output_type": "execute_result"
    }
   ],
   "source": [
    "#Third column GENDER\n",
    "insurance_customers_df.GENDER\n"
   ]
  },
  {
   "cell_type": "code",
   "execution_count": 26,
   "id": "3fc9a510",
   "metadata": {},
   "outputs": [
    {
     "data": {
      "text/plain": [
       "0                     Master\n",
       "1                   Bachelor\n",
       "2                   Bachelor\n",
       "3                   Bachelor\n",
       "4       High School or Below\n",
       "                ...         \n",
       "4003                     NaN\n",
       "4004                     NaN\n",
       "4005                     NaN\n",
       "4006                     NaN\n",
       "4007                     NaN\n",
       "Name: Education, Length: 4008, dtype: object"
      ]
     },
     "execution_count": 26,
     "metadata": {},
     "output_type": "execute_result"
    }
   ],
   "source": [
    "#Fourth column\n",
    "insurance_customers_df.Education\n"
   ]
  },
  {
   "cell_type": "code",
   "execution_count": null,
   "id": "5c555db1",
   "metadata": {},
   "outputs": [],
   "source": []
  },
  {
   "cell_type": "code",
   "execution_count": 27,
   "id": "82100f78",
   "metadata": {},
   "outputs": [
    {
     "data": {
      "text/plain": [
       "0           0.0\n",
       "1           0.0\n",
       "2       48767.0\n",
       "3           0.0\n",
       "4       36357.0\n",
       "         ...   \n",
       "4003        NaN\n",
       "4004        NaN\n",
       "4005        NaN\n",
       "4006        NaN\n",
       "4007        NaN\n",
       "Name: Income, Length: 4008, dtype: float64"
      ]
     },
     "execution_count": 27,
     "metadata": {},
     "output_type": "execute_result"
    }
   ],
   "source": [
    "#Sixth column\n",
    "insurance_customers_df.Income"
   ]
  },
  {
   "cell_type": "code",
   "execution_count": 40,
   "id": "471f2f83",
   "metadata": {},
   "outputs": [
    {
     "name": "stdout",
     "output_type": "stream",
     "text": [
      "     Customer          ST GENDER             Education  \\\n",
      "0     RB50392  Washington    NaN                Master   \n",
      "1     QZ44356     Arizona      F              Bachelor   \n",
      "2     AI49188      Nevada      F              Bachelor   \n",
      "3     WW63253  California      M              Bachelor   \n",
      "4     GA49547  Washington      M  High School or Below   \n",
      "...       ...         ...    ...                   ...   \n",
      "4003      NaN         NaN    NaN                   NaN   \n",
      "4004      NaN         NaN    NaN                   NaN   \n",
      "4005      NaN         NaN    NaN                   NaN   \n",
      "4006      NaN         NaN    NaN                   NaN   \n",
      "4007      NaN         NaN    NaN                   NaN   \n",
      "\n",
      "     Customer_Lifetime_Value   Income  Monthly_Premium_Auto  \\\n",
      "0                        NaN      0.0                1000.0   \n",
      "1                 697953.59%      0.0                  94.0   \n",
      "2                1288743.17%  48767.0                 108.0   \n",
      "3                 764586.18%      0.0                 106.0   \n",
      "4                 536307.65%  36357.0                  68.0   \n",
      "...                      ...      ...                   ...   \n",
      "4003                     NaN      NaN                   NaN   \n",
      "4004                     NaN      NaN                   NaN   \n",
      "4005                     NaN      NaN                   NaN   \n",
      "4006                     NaN      NaN                   NaN   \n",
      "4007                     NaN      NaN                   NaN   \n",
      "\n",
      "     Number_of_Open_Complaints     Policy_Type  Vehicle_Class  \\\n",
      "0                       1/0/00   Personal Auto  Four-Door Car   \n",
      "1                       1/0/00   Personal Auto  Four-Door Car   \n",
      "2                       1/0/00   Personal Auto   Two-Door Car   \n",
      "3                       1/0/00  Corporate Auto            SUV   \n",
      "4                       1/0/00   Personal Auto  Four-Door Car   \n",
      "...                        ...             ...            ...   \n",
      "4003                       NaN             NaN            NaN   \n",
      "4004                       NaN             NaN            NaN   \n",
      "4005                       NaN             NaN            NaN   \n",
      "4006                       NaN             NaN            NaN   \n",
      "4007                       NaN             NaN            NaN   \n",
      "\n",
      "      Total_Claim_Amount  \n",
      "0               2.704934  \n",
      "1            1131.464935  \n",
      "2             566.472247  \n",
      "3             529.881344  \n",
      "4              17.269323  \n",
      "...                  ...  \n",
      "4003                 NaN  \n",
      "4004                 NaN  \n",
      "4005                 NaN  \n",
      "4006                 NaN  \n",
      "4007                 NaN  \n",
      "\n",
      "[4008 rows x 11 columns]\n"
     ]
    }
   ],
   "source": [
    "#The remaining columns have gaps in their title; so first we need to change that before learning more about their data type\n",
    "#To remove the spaces in the column title we are going to use \n",
    "\n",
    "insurance_customers_df.columns=insurance_customers_df.columns.str.replace(\" \",\"_\")\n",
    "print(insurance_customers_df)\n"
   ]
  },
  {
   "cell_type": "code",
   "execution_count": 41,
   "id": "d60955cb",
   "metadata": {},
   "outputs": [
    {
     "data": {
      "text/plain": [
       "0               NaN\n",
       "1        697953.59%\n",
       "2       1288743.17%\n",
       "3        764586.18%\n",
       "4        536307.65%\n",
       "           ...     \n",
       "4003            NaN\n",
       "4004            NaN\n",
       "4005            NaN\n",
       "4006            NaN\n",
       "4007            NaN\n",
       "Name: Customer_Lifetime_Value, Length: 4008, dtype: object"
      ]
     },
     "execution_count": 41,
     "metadata": {},
     "output_type": "execute_result"
    }
   ],
   "source": [
    "#Now that we have modified the blank spaces in the column titles, we can check their data type\n",
    "# Column Customer_Lifetime_Value\n",
    "insurance_customers_df.Customer_Lifetime_Value"
   ]
  },
  {
   "cell_type": "code",
   "execution_count": 42,
   "id": "d51433e4",
   "metadata": {},
   "outputs": [
    {
     "data": {
      "text/plain": [
       "0       1000.0\n",
       "1         94.0\n",
       "2        108.0\n",
       "3        106.0\n",
       "4         68.0\n",
       "         ...  \n",
       "4003       NaN\n",
       "4004       NaN\n",
       "4005       NaN\n",
       "4006       NaN\n",
       "4007       NaN\n",
       "Name: Monthly_Premium_Auto, Length: 4008, dtype: float64"
      ]
     },
     "execution_count": 42,
     "metadata": {},
     "output_type": "execute_result"
    }
   ],
   "source": [
    "#Column Monthly_Premium_Auto\n",
    "insurance_customers_df.Monthly_Premium_Auto"
   ]
  },
  {
   "cell_type": "code",
   "execution_count": 44,
   "id": "3eeaa01a",
   "metadata": {},
   "outputs": [
    {
     "data": {
      "text/plain": [
       "0       1/0/00\n",
       "1       1/0/00\n",
       "2       1/0/00\n",
       "3       1/0/00\n",
       "4       1/0/00\n",
       "         ...  \n",
       "4003       NaN\n",
       "4004       NaN\n",
       "4005       NaN\n",
       "4006       NaN\n",
       "4007       NaN\n",
       "Name: Number_of_Open_Complaints, Length: 4008, dtype: object"
      ]
     },
     "execution_count": 44,
     "metadata": {},
     "output_type": "execute_result"
    }
   ],
   "source": [
    "#Column Number_of_open_complaints\n",
    "insurance_customers_df.Number_of_Open_Complaints\n",
    "\n"
   ]
  },
  {
   "cell_type": "code",
   "execution_count": 47,
   "id": "18cc7ca8",
   "metadata": {},
   "outputs": [
    {
     "data": {
      "text/plain": [
       "0        Personal Auto\n",
       "1        Personal Auto\n",
       "2        Personal Auto\n",
       "3       Corporate Auto\n",
       "4        Personal Auto\n",
       "             ...      \n",
       "4003               NaN\n",
       "4004               NaN\n",
       "4005               NaN\n",
       "4006               NaN\n",
       "4007               NaN\n",
       "Name: Policy_Type, Length: 4008, dtype: object"
      ]
     },
     "execution_count": 47,
     "metadata": {},
     "output_type": "execute_result"
    }
   ],
   "source": [
    "#Column Policy_Type\n",
    "insurance_customers_df.Policy_Type"
   ]
  },
  {
   "cell_type": "code",
   "execution_count": 48,
   "id": "eae4ac1f",
   "metadata": {},
   "outputs": [
    {
     "data": {
      "text/plain": [
       "0       Four-Door Car\n",
       "1       Four-Door Car\n",
       "2        Two-Door Car\n",
       "3                 SUV\n",
       "4       Four-Door Car\n",
       "            ...      \n",
       "4003              NaN\n",
       "4004              NaN\n",
       "4005              NaN\n",
       "4006              NaN\n",
       "4007              NaN\n",
       "Name: Vehicle_Class, Length: 4008, dtype: object"
      ]
     },
     "execution_count": 48,
     "metadata": {},
     "output_type": "execute_result"
    }
   ],
   "source": [
    "#Column Vehicle_Class\n",
    "insurance_customers_df.Vehicle_Class"
   ]
  },
  {
   "cell_type": "code",
   "execution_count": null,
   "id": "0f6c8b51",
   "metadata": {},
   "outputs": [],
   "source": [
    "#Columns  dtype is object :Customer,ST,GENDER,Education,Customer_Lifetime_Value, Number_of_Open_Complaints,Policy_Type,Vehicle_Class\n",
    "#Columns dtype is float64 : Income, Monthly_Premium_Auto,\n"
   ]
  },
  {
   "cell_type": "markdown",
   "id": "4a703890-63db-4944-b7ab-95a4f8185120",
   "metadata": {},
   "source": [
    "## Challenge 2: analyzing the data"
   ]
  },
  {
   "cell_type": "markdown",
   "id": "0776a403-c56a-452f-ac33-5fd4fdb06fc7",
   "metadata": {},
   "source": [
    "### Exercise 1"
   ]
  },
  {
   "cell_type": "markdown",
   "id": "eedbc484-da4d-4f9c-9343-e1d44311a87e",
   "metadata": {},
   "source": [
    "The marketing team wants to know the top 5 less common customer locations. Create a pandas Series object that contains the customer locations and their frequencies, and then retrieve the top 5 less common locations in ascending order."
   ]
  },
  {
   "cell_type": "code",
   "execution_count": 81,
   "id": "2dca5073-4520-4f42-9390-4b92733284ed",
   "metadata": {},
   "outputs": [
    {
     "name": "stdout",
     "output_type": "stream",
     "text": [
      "['Washington', 'Arizona', 'Nevada', 'California', 'Washington', 'Oregon', 'Oregon', 'Arizona', 'Oregon', 'Oregon', 'California', 'California', 'California', 'Arizona', 'California', 'Oregon', 'Nevada', 'Cali', 'Oregon', 'California', 'Oregon', 'Washington', 'Arizona', 'Nevada', 'California', 'Oregon', 'California', 'Washington', 'AZ', 'Oregon', 'Arizona', 'Nevada', 'California', 'Washington', 'Oregon', 'Arizona', 'California', 'Oregon', 'Oregon', 'Arizona', 'Nevada', 'Oregon', 'California', 'Arizona', 'Washington', 'Oregon', 'Arizona', 'Oregon', 'California', 'Arizona', 'Oregon', 'California', 'Nevada', 'Washington', 'California', 'Arizona', 'California', 'Arizona', 'Oregon', 'Oregon', 'Arizona', 'California', 'Oregon', 'California', 'Arizona', 'WA', 'Oregon', 'AZ', 'Oregon', 'California', 'Oregon', 'Oregon', 'Oregon', 'Oregon', 'Oregon', 'Oregon', 'Oregon', 'Nevada', 'Washington', 'California', 'California', 'California', 'California', 'Nevada', 'Oregon', 'Washington', 'California', 'California', 'Oregon', 'California', 'Oregon', 'Washington', 'Oregon', 'Oregon', 'California', 'Oregon', 'AZ', 'California', 'AZ', 'Oregon', 'California', 'California', 'Oregon', 'California', 'California', 'Oregon', 'California', 'Oregon', 'California', 'Oregon', 'California', 'Washington', 'AZ', 'Oregon', 'Washington', 'California', 'Oregon', 'AZ', 'California', 'California', 'Washington', 'California', 'Oregon', 'California', 'Nevada', 'Oregon', 'Oregon', 'AZ', 'Oregon', 'Washington', 'AZ', 'Nevada', 'Oregon', 'AZ', 'AZ', 'AZ', 'Oregon', 'Washington', 'Oregon', 'AZ', 'Oregon', 'AZ', 'California', 'Washington', 'Oregon', 'Nevada', 'California', 'Arizona', 'Arizona', 'Oregon', 'Washington', 'Washington', 'Arizona', 'Arizona', 'California', 'California', 'Oregon', 'Oregon', 'Arizona', 'Arizona', 'California', 'Washington', 'California', 'Washington', 'California', 'Oregon', 'California', 'California', 'Oregon', 'California', 'California', 'Oregon', 'Nevada', 'Nevada', 'California', 'California', 'Washington', 'Arizona', 'Washington', 'California', 'California', 'Nevada', 'Oregon', 'Nevada', 'California', 'California', 'California', 'Arizona', 'California', 'Oregon', 'California', 'California', 'California', 'Oregon', 'Arizona', 'WA', 'Oregon', 'Oregon', 'WA', 'California', 'California', 'Nevada', 'Arizona', 'California', 'California', 'California', 'California', 'California', 'Oregon', 'WA', 'Cali', 'Cali', 'WA', 'Cali', 'Arizona', 'Oregon', 'Oregon', 'Oregon', 'WA', 'Cali', 'Oregon', 'Cali', 'Nevada', 'WA', 'Oregon', 'Oregon', 'Nevada', 'Nevada', 'Arizona', 'Cali', 'Arizona', 'Arizona', 'Arizona', 'Oregon', 'Arizona', 'Cali', 'Cali', 'WA', 'WA', 'WA', 'Nevada', 'Arizona', 'Oregon', 'Cali', 'Cali', 'Cali', 'Arizona', 'Arizona', 'Oregon', 'Cali', 'Arizona', 'Nevada', 'Arizona', 'WA', 'Oregon', 'Nevada', 'Oregon', 'Cali', 'WA', 'Oregon', 'Cali', 'Cali', 'Arizona', 'Arizona', 'Cali', 'Oregon', 'Arizona', 'Arizona', 'Cali', 'Arizona', 'Nevada', 'WA', 'Oregon', 'Arizona', 'WA', 'Oregon', 'Arizona', 'Arizona', 'Cali', 'Oregon', 'Nevada', 'Cali', 'Nevada', 'WA', 'WA', 'Arizona', 'Arizona', 'Cali', 'Cali', 'WA', 'Oregon', 'California', 'Oregon', 'Arizona', 'Oregon', 'Arizona', 'California', 'WA', 'Arizona', 'Oregon', 'California', 'Nevada', 'Oregon', 'WA', 'Oregon', 'Washington', 'California', 'Oregon', 'Oregon', 'California', 'Oregon', 'Oregon', 'California', 'Oregon', 'Oregon', 'Oregon', 'Oregon', 'California', 'California', 'California', 'Arizona', 'Arizona', 'Oregon', 'California', 'California', 'California', 'Nevada', 'Nevada', 'Oregon', 'California', 'California', 'California', 'California', 'Oregon', 'Arizona', 'Arizona', 'California', 'California', 'Arizona', 'California', 'California', 'California', 'Oregon', 'California', 'California', 'Nevada', 'Oregon', 'Washington', 'Nevada', 'Oregon', 'California', 'Arizona', 'California', 'Washington', 'Washington', 'California', 'Oregon', 'California', 'Nevada', 'California', 'Nevada', 'Arizona', 'California', 'Oregon', 'California', 'Arizona', 'California', 'California', 'Oregon', 'Oregon', 'California', 'California', 'Arizona', 'California', 'Oregon', 'Arizona', 'California', 'California', 'Nevada', 'California', 'Arizona', 'Arizona', 'Washington', 'Arizona', 'Washington', 'Oregon', 'Washington', 'Oregon', 'California', 'California', 'California', 'California', 'California', 'Nevada', 'Washington', 'Oregon', 'Oregon', 'Arizona', 'Nevada', 'Oregon', 'Washington', 'Washington', 'Oregon', 'Arizona', 'Nevada', 'California', 'Oregon', 'California', 'Arizona', 'California', 'Oregon', 'California', 'Oregon', 'California', 'Arizona', 'Oregon', 'Washington', 'Oregon', 'Nevada', 'Oregon', 'Oregon', 'Oregon', 'Arizona', 'Oregon', 'Oregon', 'California', 'Arizona', 'Oregon', 'Oregon', 'Oregon', 'Washington', 'Washington', 'California', 'Oregon', 'Washington', 'California', 'Washington', 'Oregon', 'Nevada', 'Oregon', 'Washington', 'Nevada', 'Oregon', 'Oregon', 'Arizona', 'California', 'California', 'California', 'Nevada', 'Washington', 'Oregon', 'Oregon', 'Oregon', 'Nevada', 'Nevada', 'Oregon', 'Nevada', 'California', 'California', 'California', 'Oregon', 'California', 'Nevada', 'Arizona', 'Oregon', 'Oregon', 'California', 'Oregon', 'Arizona', 'California', 'California', 'Arizona', 'AZ', 'AZ', 'AZ', 'Oregon', 'Nevada', 'AZ', 'Oregon', 'Washington', 'Oregon', 'Washington', 'AZ', 'California', 'AZ', 'AZ', 'AZ', 'California', 'Oregon', 'Oregon', 'California', 'Oregon', 'Nevada', 'AZ', 'California', 'California', 'Oregon', 'AZ', 'Nevada', 'Oregon', 'Nevada', 'California', 'Nevada', 'AZ', 'Oregon', 'California', 'Oregon', 'Oregon', 'Nevada', 'Oregon', 'Oregon', 'Oregon', 'Oregon', 'California', 'California', 'California', 'AZ', 'Arizona', 'Oregon', 'Oregon', 'California', 'Oregon', 'California', 'Nevada', 'Arizona', 'Arizona', 'Oregon', 'Oregon', 'Oregon', 'California', 'Arizona', 'Arizona', 'Oregon', 'Arizona', 'Nevada', 'Arizona', 'Oregon', 'Oregon', 'California', 'Oregon', 'Oregon', 'Oregon', 'Washington', 'Arizona', 'California', 'Oregon', 'Washington', 'Arizona', 'Arizona', 'California', 'Oregon', 'Oregon', 'Oregon', 'Oregon', 'California', 'Arizona', 'California', 'California', 'California', 'Arizona', 'California', 'Washington', 'Oregon', 'Nevada', 'California', 'California', 'California', 'California', 'Oregon', 'Oregon', 'California', 'Oregon', 'Oregon', 'California', 'Arizona', 'Oregon', 'Oregon', 'Oregon', 'Oregon', 'Washington', 'Oregon', 'Arizona', 'Washington', 'California', 'Nevada', 'California', 'Oregon', 'California', 'California', 'Nevada', 'Arizona', 'California', 'California', 'Oregon', 'Washington', 'Nevada', 'Oregon', 'Arizona', 'Oregon', 'Arizona', 'Oregon', 'Oregon', 'California', 'Oregon', 'Oregon', 'California', 'Nevada', 'California', 'Washington', 'California', 'Oregon', 'Oregon', 'Arizona', 'Arizona', 'California', 'Nevada', 'Oregon', 'Nevada', 'California', 'Nevada', 'Oregon', 'Washington', 'California', 'Oregon', 'Arizona', 'California', 'California', 'Nevada', 'Arizona', 'Oregon', 'California', 'California', 'Oregon', 'California', 'California', 'Oregon', 'Washington', 'Oregon', 'California', 'California', 'Washington', 'Arizona', 'Arizona', 'California', 'Washington', 'Nevada', 'Oregon', 'Oregon', 'Oregon', 'Oregon', 'Oregon', 'Arizona', 'Oregon', 'Oregon', 'Washington', 'Arizona', 'Washington', 'Washington', 'Oregon', 'Oregon', 'California', 'Washington', 'California', 'California', 'Arizona', 'California', 'Oregon', 'Oregon', 'Arizona', 'California', 'California', 'Oregon', 'California', 'Arizona', 'Oregon', 'Arizona', 'Oregon', 'Oregon', 'Oregon', 'Nevada', 'Arizona', 'Arizona', 'Oregon', 'California', 'Oregon', 'Oregon', 'California', 'Arizona', 'Oregon', 'Oregon', 'Arizona', 'Arizona', 'Oregon', 'Washington', 'California', 'Oregon', 'Arizona', 'Nevada', 'Arizona', 'Washington', 'Oregon', 'Arizona', 'California', 'California', 'Nevada', 'California', 'California', 'Oregon', 'California', 'Oregon', 'California', 'Oregon', 'Arizona', 'California', 'Nevada', 'Arizona', 'Oregon', 'California', 'Arizona', 'Washington', 'California', 'California', 'California', 'California', 'Oregon', 'Arizona', 'Arizona', 'Oregon', 'California', 'California', 'Nevada', 'Washington', 'Arizona', 'Nevada', 'Arizona', 'Arizona', 'California', 'Arizona', 'Oregon', 'California', 'Oregon', 'Washington', 'Oregon', 'California', 'Nevada', 'Oregon', 'California', 'WA', 'Nevada', 'Oregon', 'California', 'WA', 'Arizona', 'California', 'California', 'Cali', 'Nevada', 'Arizona', 'Arizona', 'Oregon', 'WA', 'Cali', 'Cali', 'Arizona', 'Nevada', 'Oregon', 'Oregon', 'Cali', 'Cali', 'Oregon', 'WA', 'Cali', 'Nevada', 'Cali', 'Arizona', 'Oregon', 'Cali', 'Cali', 'Oregon', 'Cali', 'Oregon', 'Oregon', 'Cali', 'Nevada', 'Oregon', 'Cali', 'Arizona', 'Nevada', 'Oregon', 'Arizona', 'WA', 'Cali', 'Arizona', 'Arizona', 'Arizona', 'Oregon', 'Nevada', 'WA', 'Cali', 'Oregon', 'Oregon', 'Oregon', 'Cali', 'Oregon', 'Oregon', 'Nevada', 'Cali', 'Arizona', 'Arizona', 'Cali', 'Oregon', 'WA', 'Arizona', 'Arizona', 'WA', 'Cali', 'Oregon', 'Cali', 'Cali', 'Oregon', 'WA', 'Nevada', 'Oregon', 'Oregon', 'Cali', 'Cali', 'Cali', 'Nevada', 'Nevada', 'Oregon', 'Cali', 'Oregon', 'Oregon', 'Cali', 'WA', 'Arizona', 'Arizona', 'Arizona', 'Cali', 'Oregon', 'Cali', 'Cali', 'Cali', 'Cali', 'Cali', 'Arizona', 'Cali', 'Cali', 'Oregon', 'Cali', 'Oregon', 'Cali', 'Oregon', 'WA', 'Cali', 'Cali', 'Washington', 'Cali', 'Cali', 'Oregon', 'Arizona', 'Washington', 'Cali', 'Oregon', 'Oregon', 'Cali', 'Arizona', 'Nevada', 'Nevada', 'Washington', 'Oregon', 'Arizona', 'Arizona', 'Washington', 'Cali', 'Oregon', 'Cali', 'Arizona', 'Cali', 'Oregon', 'Arizona', 'Arizona', 'Arizona', 'Oregon', 'Washington', 'Nevada', 'Arizona', 'Cali', 'Arizona', 'Cali', 'Cali', 'Cali', 'Arizona', 'Arizona', 'Oregon', 'Cali', 'Washington', 'Washington', 'Nevada', 'Cali', 'Arizona', 'Cali', 'Oregon', 'Oregon', 'Arizona', 'Cali', 'Arizona', 'Cali', 'Arizona', 'Nevada', 'Oregon', 'Arizona', 'Arizona', 'Cali', 'Washington', 'Washington', 'Oregon', 'Arizona', 'Washington', 'Cali', 'Cali', 'Oregon', 'Oregon', 'Arizona', 'Arizona', 'Cali', 'Oregon', 'Nevada', 'Nevada', 'Oregon', 'Cali', 'Nevada', 'Oregon', 'Washington', 'Oregon', 'Cali', 'Arizona', 'Cali', 'Oregon', 'Cali', 'Arizona', 'Oregon', 'Washington', 'Arizona', 'Arizona', 'Oregon', 'Cali', 'Arizona', 'Arizona', 'Oregon', 'Oregon', 'Arizona', 'Cali', 'Oregon', 'Cali', 'Arizona', 'Nevada', 'Washington', 'Arizona', 'Cali', 'Cali', 'Oregon', 'Oregon', 'Oregon', 'Cali', 'Cali', 'Arizona', 'Oregon', 'Cali', 'Washington', 'Oregon', 'Arizona', 'Nevada', 'Nevada', 'Arizona', 'Oregon', 'Arizona', 'Oregon', 'Cali', 'Cali', 'Oregon', 'Arizona', 'Cali', 'Cali', 'Cali', 'Oregon', 'Arizona', 'Oregon', 'Washington', 'Nevada', 'Arizona', 'Oregon', 'Arizona', 'Arizona', 'Cali', 'Oregon', 'Oregon', 'Arizona', 'Oregon', 'Cali', 'Oregon', 'Cali', 'Oregon', 'Nevada', 'Arizona', 'Cali', 'Nevada', 'Arizona', 'Nevada', 'Oregon', 'Cali', 'Oregon', 'Arizona', 'Cali', 'Oregon', 'Oregon', 'Cali', 'Cali', 'Cali', 'Cali', 'Oregon', 'Cali', 'Cali', 'Cali', 'Arizona', 'Oregon', 'Nevada', 'Oregon', 'Washington', 'Cali', 'Oregon', 'Cali', 'Oregon', 'Oregon', 'Oregon', 'Washington', 'Cali', 'Nevada', 'Cali', 'Cali', 'Oregon', 'Washington', 'Arizona', 'Arizona', 'Arizona', 'Oregon', 'Oregon', 'Oregon', 'Arizona', 'Cali', 'Arizona', 'Oregon', 'Oregon', 'Nevada', 'Washington', 'Oregon', 'Oregon', 'Cali', 'Oregon', 'Oregon', 'Oregon', 'Cali', 'Arizona', 'Cali', 'Washington', 'Cali', 'Oregon', 'Cali', 'Arizona', 'California', 'California', nan, nan, nan, nan, nan, nan, nan, nan, nan, nan, nan, nan, nan, nan, nan, nan, nan, nan, nan, nan, nan, nan, nan, nan, nan, nan, nan, nan, nan, nan, nan, nan, nan, nan, nan, nan, nan, nan, nan, nan, nan, nan, nan, nan, nan, nan, nan, nan, nan, nan, nan, nan, nan, nan, nan, nan, nan, nan, nan, nan, nan, nan, nan, nan, nan, nan, nan, nan, nan, nan, nan, nan, nan, nan, nan, nan, nan, nan, nan, nan, nan, nan, nan, nan, nan, nan, nan, nan, nan, nan, nan, nan, nan, nan, nan, nan, nan, nan, nan, nan, nan, nan, nan, nan, nan, nan, nan, nan, nan, nan, nan, nan, nan, nan, nan, nan, nan, nan, nan, nan, nan, nan, nan, nan, nan, nan, nan, nan, nan, nan, nan, nan, nan, nan, nan, nan, nan, nan, nan, nan, nan, nan, nan, nan, nan, nan, nan, nan, nan, nan, nan, nan, nan, nan, nan, nan, nan, nan, nan, nan, nan, nan, nan, nan, nan, nan, nan, nan, nan, nan, nan, nan, nan, nan, nan, nan, nan, nan, nan, nan, nan, nan, nan, nan, nan, nan, nan, nan, nan, nan, nan, nan, nan, nan, nan, nan, nan, nan, nan, nan, nan, nan, nan, nan, nan, nan, nan, nan, nan, nan, nan, nan, nan, nan, nan, nan, nan, nan, nan, nan, nan, nan, nan, nan, nan, nan, nan, nan, nan, nan, nan, nan, nan, nan, nan, nan, nan, nan, nan, nan, nan, nan, nan, nan, nan, nan, nan, nan, nan, nan, nan, nan, nan, nan, nan, nan, nan, nan, nan, nan, nan, nan, nan, nan, nan, nan, nan, nan, nan, nan, nan, nan, nan, nan, nan, nan, nan, nan, nan, nan, nan, nan, nan, nan, nan, nan, nan, nan, nan, nan, nan, nan, nan, nan, nan, nan, nan, nan, nan, nan, nan, nan, nan, nan, nan, nan, nan, nan, nan, nan, nan, nan, nan, nan, nan, nan, nan, nan, nan, nan, nan, nan, nan, nan, nan, nan, nan, nan, nan, nan, nan, nan, nan, nan, nan, nan, nan, nan, nan, nan, nan, nan, nan, nan, nan, nan, nan, nan, nan, nan, nan, nan, nan, nan, nan, nan, nan, nan, nan, nan, nan, nan, nan, nan, nan, nan, nan, nan, nan, nan, nan, nan, nan, nan, nan, nan, nan, nan, nan, nan, nan, nan, nan, nan, nan, nan, nan, nan, nan, nan, nan, nan, nan, nan, nan, nan, nan, nan, nan, nan, nan, nan, nan, nan, nan, nan, nan, nan, nan, nan, nan, nan, nan, nan, nan, nan, nan, nan, nan, nan, nan, nan, nan, nan, nan, nan, nan, nan, nan, nan, nan, nan, nan, nan, nan, nan, nan, nan, nan, nan, nan, nan, nan, nan, nan, nan, nan, nan, nan, nan, nan, nan, nan, nan, nan, nan, nan, nan, nan, nan, nan, nan, nan, nan, nan, nan, nan, nan, nan, nan, nan, nan, nan, nan, nan, nan, nan, nan, nan, nan, nan, nan, nan, nan, nan, nan, nan, nan, nan, nan, nan, nan, nan, nan, nan, nan, nan, nan, nan, nan, nan, nan, nan, nan, nan, nan, nan, nan, nan, nan, nan, nan, nan, nan, nan, nan, nan, nan, nan, nan, nan, nan, nan, nan, nan, nan, nan, nan, nan, nan, nan, nan, nan, nan, nan, nan, nan, nan, nan, nan, nan, nan, nan, nan, nan, nan, nan, nan, nan, nan, nan, nan, nan, nan, nan, nan, nan, nan, nan, nan, nan, nan, nan, nan, nan, nan, nan, nan, nan, nan, nan, nan, nan, nan, nan, nan, nan, nan, nan, nan, nan, nan, nan, nan, nan, nan, nan, nan, nan, nan, nan, nan, nan, nan, nan, nan, nan, nan, nan, nan, nan, nan, nan, nan, nan, nan, nan, nan, nan, nan, nan, nan, nan, nan, nan, nan, nan, nan, nan, nan, nan, nan, nan, nan, nan, nan, nan, nan, nan, nan, nan, nan, nan, nan, nan, nan, nan, nan, nan, nan, nan, nan, nan, nan, nan, nan, nan, nan, nan, nan, nan, nan, nan, nan, nan, nan, nan, nan, nan, nan, nan, nan, nan, nan, nan, nan, nan, nan, nan, nan, nan, nan, nan, nan, nan, nan, nan, nan, nan, nan, nan, nan, nan, nan, nan, nan, nan, nan, nan, nan, nan, nan, nan, nan, nan, nan, nan, nan, nan, nan, nan, nan, nan, nan, nan, nan, nan, nan, nan, nan, nan, nan, nan, nan, nan, nan, nan, nan, nan, nan, nan, nan, nan, nan, nan, nan, nan, nan, nan, nan, nan, nan, nan, nan, nan, nan, nan, nan, nan, nan, nan, nan, nan, nan, nan, nan, nan, nan, nan, nan, nan, nan, nan, nan, nan, nan, nan, nan, nan, nan, nan, nan, nan, nan, nan, nan, nan, nan, nan, nan, nan, nan, nan, nan, nan, nan, nan, nan, nan, nan, nan, nan, nan, nan, nan, nan, nan, nan, nan, nan, nan, nan, nan, nan, nan, nan, nan, nan, nan, nan, nan, nan, nan, nan, nan, nan, nan, nan, nan, nan, nan, nan, nan, nan, nan, nan, nan, nan, nan, nan, nan, nan, nan, nan, nan, nan, nan, nan, nan, nan, nan, nan, nan, nan, nan, nan, nan, nan, nan, nan, nan, nan, nan, nan, nan, nan, nan, nan, nan, nan, nan, nan, nan, nan, nan, nan, nan, nan, nan, nan, nan, nan, nan, nan, nan, nan, nan, nan, nan, nan, nan, nan, nan, nan, nan, nan, nan, nan, nan, nan, nan, nan, nan, nan, nan, nan, nan, nan, nan, nan, nan, nan, nan, nan, nan, nan, nan, nan, nan, nan, nan, nan, nan, nan, nan, nan, nan, nan, nan, nan, nan, nan, nan, nan, nan, nan, nan, nan, nan, nan, nan, nan, nan, nan, nan, nan, nan, nan, nan, nan, nan, nan, nan, nan, nan, nan, nan, nan, nan, nan, nan, nan, nan, nan, nan, nan, nan, nan, nan, nan, nan, nan, nan, nan, nan, nan, nan, nan, nan, nan, nan, nan, nan, nan, nan, nan, nan, nan, nan, nan, nan, nan, nan, nan, nan, nan, nan, nan, nan, nan, nan, nan, nan, nan, nan, nan, nan, nan, nan, nan, nan, nan, nan, nan, nan, nan, nan, nan, nan, nan, nan, nan, nan, nan, nan, nan, nan, nan, nan, nan, nan, nan, nan, nan, nan, nan, nan, nan, nan, nan, nan, nan, nan, nan, nan, nan, nan, nan, nan, nan, nan, nan, nan, nan, nan, nan, nan, nan, nan, nan, nan, nan, nan, nan, nan, nan, nan, nan, nan, nan, nan, nan, nan, nan, nan, nan, nan, nan, nan, nan, nan, nan, nan, nan, nan, nan, nan, nan, nan, nan, nan, nan, nan, nan, nan, nan, nan, nan, nan, nan, nan, nan, nan, nan, nan, nan, nan, nan, nan, nan, nan, nan, nan, nan, nan, nan, nan, nan, nan, nan, nan, nan, nan, nan, nan, nan, nan, nan, nan, nan, nan, nan, nan, nan, nan, nan, nan, nan, nan, nan, nan, nan, nan, nan, nan, nan, nan, nan, nan, nan, nan, nan, nan, nan, nan, nan, nan, nan, nan, nan, nan, nan, nan, nan, nan, nan, nan, nan, nan, nan, nan, nan, nan, nan, nan, nan, nan, nan, nan, nan, nan, nan, nan, nan, nan, nan, nan, nan, nan, nan, nan, nan, nan, nan, nan, nan, nan, nan, nan, nan, nan, nan, nan, nan, nan, nan, nan, nan, nan, nan, nan, nan, nan, nan, nan, nan, nan, nan, nan, nan, nan, nan, nan, nan, nan, nan, nan, nan, nan, nan, nan, nan, nan, nan, nan, nan, nan, nan, nan, nan, nan, nan, nan, nan, nan, nan, nan, nan, nan, nan, nan, nan, nan, nan, nan, nan, nan, nan, nan, nan, nan, nan, nan, nan, nan, nan, nan, nan, nan, nan, nan, nan, nan, nan, nan, nan, nan, nan, nan, nan, nan, nan, nan, nan, nan, nan, nan, nan, nan, nan, nan, nan, nan, nan, nan, nan, nan, nan, nan, nan, nan, nan, nan, nan, nan, nan, nan, nan, nan, nan, nan, nan, nan, nan, nan, nan, nan, nan, nan, nan, nan, nan, nan, nan, nan, nan, nan, nan, nan, nan, nan, nan, nan, nan, nan, nan, nan, nan, nan, nan, nan, nan, nan, nan, nan, nan, nan, nan, nan, nan, nan, nan, nan, nan, nan, nan, nan, nan, nan, nan, nan, nan, nan, nan, nan, nan, nan, nan, nan, nan, nan, nan, nan, nan, nan, nan, nan, nan, nan, nan, nan, nan, nan, nan, nan, nan, nan, nan, nan, nan, nan, nan, nan, nan, nan, nan, nan, nan, nan, nan, nan, nan, nan, nan, nan, nan, nan, nan, nan, nan, nan, nan, nan, nan, nan, nan, nan, nan, nan, nan, nan, nan, nan, nan, nan, nan, nan, nan, nan, nan, nan, nan, nan, nan, nan, nan, nan, nan, nan, nan, nan, nan, nan, nan, nan, nan, nan, nan, nan, nan, nan, nan, nan, nan, nan, nan, nan, nan, nan, nan, nan, nan, nan, nan, nan, nan, nan, nan, nan, nan, nan, nan, nan, nan, nan, nan, nan, nan, nan, nan, nan, nan, nan, nan, nan, nan, nan, nan, nan, nan, nan, nan, nan, nan, nan, nan, nan, nan, nan, nan, nan, nan, nan, nan, nan, nan, nan, nan, nan, nan, nan, nan, nan, nan, nan, nan, nan, nan, nan, nan, nan, nan, nan, nan, nan, nan, nan, nan, nan, nan, nan, nan, nan, nan, nan, nan, nan, nan, nan, nan, nan, nan, nan, nan, nan, nan, nan, nan, nan, nan, nan, nan, nan, nan, nan, nan, nan, nan, nan, nan, nan, nan, nan, nan, nan, nan, nan, nan, nan, nan, nan, nan, nan, nan, nan, nan, nan, nan, nan, nan, nan, nan, nan, nan, nan, nan, nan, nan, nan, nan, nan, nan, nan, nan, nan, nan, nan, nan, nan, nan, nan, nan, nan, nan, nan, nan, nan, nan, nan, nan, nan, nan, nan, nan, nan, nan, nan, nan, nan, nan, nan, nan, nan, nan, nan, nan, nan, nan, nan, nan, nan, nan, nan, nan, nan, nan, nan, nan, nan, nan, nan, nan, nan, nan, nan, nan, nan, nan, nan, nan, nan, nan, nan, nan, nan, nan, nan, nan, nan, nan, nan, nan, nan, nan, nan, nan, nan, nan, nan, nan, nan, nan, nan, nan, nan, nan, nan, nan, nan, nan, nan, nan, nan, nan, nan, nan, nan, nan, nan, nan, nan, nan, nan, nan, nan, nan, nan, nan, nan, nan, nan, nan, nan, nan, nan, nan, nan, nan, nan, nan, nan, nan, nan, nan, nan, nan, nan, nan, nan, nan, nan, nan, nan, nan, nan, nan, nan, nan, nan, nan, nan, nan, nan, nan, nan, nan, nan, nan, nan, nan, nan, nan, nan, nan, nan, nan, nan, nan, nan, nan, nan, nan, nan, nan, nan, nan, nan, nan, nan, nan, nan, nan, nan, nan, nan, nan, nan, nan, nan, nan, nan, nan, nan, nan, nan, nan, nan, nan, nan, nan, nan, nan, nan, nan, nan, nan, nan, nan, nan, nan, nan, nan, nan, nan, nan, nan, nan, nan, nan, nan, nan, nan, nan, nan, nan, nan, nan, nan, nan, nan, nan, nan, nan, nan, nan, nan, nan, nan, nan, nan, nan, nan, nan, nan, nan, nan, nan, nan, nan, nan, nan, nan, nan, nan, nan, nan, nan, nan, nan, nan, nan, nan, nan, nan, nan, nan, nan, nan, nan, nan, nan, nan, nan, nan, nan, nan, nan, nan, nan, nan, nan, nan, nan, nan, nan, nan, nan, nan, nan, nan, nan, nan, nan, nan, nan, nan, nan, nan, nan, nan, nan, nan, nan, nan, nan, nan, nan, nan, nan, nan, nan, nan, nan, nan, nan, nan, nan, nan, nan, nan, nan, nan, nan, nan, nan, nan, nan, nan, nan, nan, nan, nan, nan, nan, nan, nan, nan, nan, nan, nan, nan, nan, nan, nan, nan, nan, nan, nan, nan, nan, nan, nan, nan, nan, nan, nan, nan, nan, nan, nan, nan, nan, nan, nan, nan, nan, nan, nan, nan, nan, nan, nan, nan, nan, nan, nan, nan, nan, nan, nan, nan, nan, nan, nan, nan, nan, nan, nan, nan, nan, nan, nan, nan, nan, nan, nan, nan, nan, nan, nan, nan, nan, nan, nan, nan, nan, nan, nan, nan, nan, nan, nan, nan, nan, nan, nan, nan, nan, nan, nan, nan, nan, nan, nan, nan, nan, nan, nan, nan, nan, nan, nan, nan, nan, nan, nan, nan, nan, nan, nan, nan, nan, nan, nan, nan, nan, nan, nan, nan, nan, nan, nan, nan, nan, nan, nan, nan, nan, nan, nan, nan, nan, nan, nan, nan, nan, nan, nan, nan, nan, nan, nan, nan, nan, nan, nan, nan, nan, nan, nan, nan, nan, nan, nan, nan, nan, nan, nan, nan, nan, nan, nan, nan, nan, nan, nan, nan, nan, nan, nan, nan, nan, nan, nan, nan, nan, nan, nan, nan, nan, nan, nan, nan, nan, nan, nan, nan, nan, nan, nan, nan, nan, nan, nan, nan, nan, nan, nan, nan, nan, nan, nan, nan, nan, nan, nan, nan, nan, nan, nan, nan, nan, nan, nan, nan, nan, nan, nan, nan, nan, nan, nan, nan, nan, nan, nan, nan, nan, nan, nan, nan, nan, nan, nan, nan, nan, nan, nan, nan, nan, nan, nan, nan, nan, nan, nan, nan, nan, nan, nan, nan, nan, nan, nan, nan, nan, nan, nan, nan, nan, nan, nan, nan, nan, nan, nan, nan, nan, nan, nan, nan, nan, nan, nan, nan, nan, nan, nan, nan, nan, nan, nan, nan, nan, nan, nan, nan, nan, nan, nan, nan, nan, nan, nan, nan, nan, nan, nan, nan, nan, nan, nan, nan, nan, nan, nan, nan, nan, nan, nan, nan, nan, nan, nan, nan, nan, nan, nan, nan, nan, nan, nan, nan, nan, nan, nan, nan, nan, nan, nan, nan, nan, nan, nan, nan, nan, nan, nan, nan, nan, nan, nan, nan, nan, nan, nan, nan, nan, nan, nan, nan, nan, nan, nan, nan, nan, nan, nan, nan, nan, nan, nan, nan, nan, nan, nan, nan, nan, nan, nan, nan, nan, nan, nan, nan, nan, nan, nan, nan, nan, nan, nan, nan, nan, nan, nan, nan, nan, nan, nan, nan, nan, nan, nan, nan, nan, nan, nan, nan, nan, nan, nan, nan, nan, nan, nan, nan, nan, nan, nan, nan, nan, nan, nan, nan, nan, nan, nan, nan, nan, nan, nan, nan, nan, nan, nan, nan, nan, nan, nan, nan, nan, nan, nan, nan, nan, nan, nan, nan, nan, nan, nan, nan, nan, nan, nan, nan, nan, nan, nan, nan, nan, nan, nan, nan, nan, nan, nan, nan, nan, nan, nan, nan, nan, nan, nan, nan, nan, nan, nan, nan, nan, nan, nan, nan, nan, nan, nan, nan, nan, nan, nan, nan, nan, nan, nan, nan, nan, nan, nan, nan, nan, nan, nan, nan, nan, nan, nan, nan, nan, nan, nan, nan, nan, nan, nan, nan, nan, nan, nan, nan, nan, nan, nan, nan, nan, nan, nan, nan, nan, nan, nan, nan, nan, nan, nan, nan, nan, nan, nan, nan, nan, nan, nan, nan, nan, nan, nan, nan, nan, nan, nan, nan, nan, nan, nan, nan, nan, nan, nan, nan, nan, nan, nan, nan, nan, nan, nan, nan, nan, nan, nan, nan, nan, nan, nan, nan, nan, nan, nan, nan, nan, nan, nan, nan, nan, nan, nan, nan, nan, nan, nan, nan, nan, nan, nan, nan, nan, nan, nan, nan, nan, nan, nan, nan, nan, nan, nan, nan, nan, nan, nan, nan, nan, nan, nan, nan, nan, nan, nan, nan, nan, nan, nan, nan, nan, nan, nan, nan, nan, nan, nan, nan, nan, nan, nan, nan, nan, nan, nan, nan, nan, nan, nan, nan, nan, nan, nan, nan, nan, nan, nan, nan, nan, nan, nan, nan, nan, nan, nan, nan, nan, nan, nan, nan, nan, nan, nan, nan, nan, nan, nan, nan, nan, nan, nan, nan, nan, nan, nan, nan, nan, nan, nan, nan, nan, nan, nan, nan, nan, nan, nan, nan, nan, nan, nan, nan, nan, nan, nan, nan, nan, nan, nan, nan, nan, nan, nan, nan, nan, nan, nan, nan, nan, nan, nan, nan, nan, nan, nan, nan, nan, nan, nan, nan, nan, nan, nan, nan, nan, nan, nan, nan, nan, nan, nan, nan, nan, nan, nan, nan, nan, nan, nan, nan, nan, nan, nan, nan, nan, nan, nan, nan, nan, nan, nan, nan, nan, nan, nan, nan, nan, nan, nan, nan, nan, nan, nan, nan, nan, nan, nan, nan, nan, nan, nan, nan, nan, nan, nan, nan, nan, nan, nan, nan, nan, nan, nan, nan, nan, nan, nan, nan, nan, nan, nan, nan, nan, nan, nan, nan, nan, nan, nan, nan, nan, nan, nan, nan, nan, nan, nan, nan, nan, nan, nan, nan, nan, nan, nan, nan, nan, nan, nan, nan, nan, nan, nan, nan, nan, nan, nan, nan, nan, nan, nan, nan, nan, nan, nan, nan, nan, nan, nan, nan, nan, nan, nan, nan, nan, nan, nan, nan, nan, nan, nan, nan, nan, nan, nan, nan, nan, nan, nan, nan, nan, nan, nan, nan, nan, nan, nan, nan, nan, nan, nan, nan, nan, nan, nan, nan, nan, nan, nan, nan, nan, nan, nan, nan, nan, nan, nan, nan, nan, nan, nan, nan, nan, nan, nan, nan, nan, nan, nan, nan, nan, nan, nan, nan, nan, nan, nan, nan, nan, nan, nan, nan, nan, nan, nan, nan, nan, nan, nan, nan, nan, nan, nan, nan, nan, nan, nan, nan, nan, nan, nan, nan, nan, nan, nan, nan, nan, nan, nan, nan, nan, nan, nan, nan, nan, nan, nan, nan, nan, nan, nan, nan, nan, nan, nan, nan, nan, nan, nan, nan, nan, nan, nan, nan, nan, nan, nan, nan, nan, nan, nan, nan, nan, nan, nan, nan, nan, nan, nan, nan, nan, nan, nan, nan, nan, nan, nan, nan, nan, nan, nan, nan, nan, nan, nan, nan, nan, nan, nan, nan, nan, nan, nan, nan, nan, nan, nan, nan, nan, nan, nan, nan, nan, nan, nan, nan, nan, nan, nan, nan, nan, nan, nan, nan, nan, nan, nan, nan, nan, nan, nan, nan, nan, nan, nan, nan, nan, nan, nan, nan, nan, nan, nan, nan, nan, nan, nan, nan, nan, nan, nan, nan]\n",
      "{'Washington': 81, 'Arizona': 186, 'Nevada': 98, 'California': 211, 'Oregon': 320, 'Cali': 120, 'AZ': 25, 'WA': 30, nan: 2937}\n",
      "Washington      81\n",
      "Arizona        186\n",
      "Nevada          98\n",
      "California     211\n",
      "Oregon         320\n",
      "Cali           120\n",
      "AZ              25\n",
      "WA              30\n",
      "NaN           2937\n",
      "dtype: int64\n",
      "Oregon     320\n",
      "Cali       120\n",
      "AZ          25\n",
      "WA          30\n",
      "NaN       2937\n",
      "dtype: int64\n"
     ]
    }
   ],
   "source": [
    "# Your code here\n",
    "#We are going to use the ST variable (state)\n",
    "#Convert the column into a list\n",
    "ST_list=insurance_customers_df[\"ST\"].tolist()\n",
    "print(ST_list)\n",
    "#Calculate frequency\n",
    "ST_frequency={}\n",
    "for item in ST_list:\n",
    "    if item in ST_frequency:\n",
    "        ST_frequency[item] +=1\n",
    "    else:\n",
    "        ST_frequency[item]=1\n",
    "print(ST_frequency)\n",
    "\n",
    "#Five least common locations in ascending order\n",
    "#Convert ST_frecuency dictionary to pd series\n",
    "ST_frequency_serie=pd.Series(ST_frequency)\n",
    "print(ST_frequency_serie)\n",
    "#search for least common locations in the series\n",
    "ST_frequency_serie.tail(5)\n",
    "print(ST_frequency_serie.tail(5))\n",
    "\n",
    "\n",
    "\n"
   ]
  },
  {
   "cell_type": "markdown",
   "id": "0ce80f43-4afa-43c7-a78a-c917444da4e0",
   "metadata": {},
   "source": [
    "### Exercise 2\n",
    "\n",
    "The sales team wants to know the total number of policies sold for each type of policy. Create a pandas Series object that contains the policy types and their total number of policies sold, and then retrieve the policy type with the highest number of policies sold."
   ]
  },
  {
   "cell_type": "markdown",
   "id": "a9f13997-1555-4f98-aca6-970fda1d2c3f",
   "metadata": {},
   "source": [
    "*Hint:*\n",
    "- *Using value_counts() method simplifies this analysis.*\n",
    "- *Futhermore, there is a method that returns the index of the maximum value in a column or row.*\n"
   ]
  },
  {
   "cell_type": "code",
   "execution_count": 82,
   "id": "bcfad6c1-9af2-4b0b-9aa9-0dc5c17473c0",
   "metadata": {},
   "outputs": [
    {
     "name": "stdout",
     "output_type": "stream",
     "text": [
      "['Personal Auto', 'Personal Auto', 'Personal Auto', 'Corporate Auto', 'Personal Auto', 'Personal Auto', 'Corporate Auto', 'Corporate Auto', 'Corporate Auto', 'Special Auto', 'Personal Auto', 'Personal Auto', 'Corporate Auto', 'Corporate Auto', 'Corporate Auto', 'Corporate Auto', 'Personal Auto', 'Personal Auto', 'Personal Auto', 'Corporate Auto', 'Personal Auto', 'Personal Auto', 'Personal Auto', 'Corporate Auto', 'Corporate Auto', 'Personal Auto', 'Personal Auto', 'Personal Auto', 'Personal Auto', 'Personal Auto', 'Personal Auto', 'Corporate Auto', 'Personal Auto', 'Personal Auto', 'Corporate Auto', 'Personal Auto', 'Personal Auto', 'Personal Auto', 'Personal Auto', 'Personal Auto', 'Corporate Auto', 'Corporate Auto', 'Personal Auto', 'Personal Auto', 'Personal Auto', 'Personal Auto', 'Personal Auto', 'Personal Auto', 'Corporate Auto', 'Personal Auto', 'Personal Auto', 'Corporate Auto', 'Special Auto', 'Personal Auto', 'Personal Auto', 'Corporate Auto', 'Special Auto', 'Personal Auto', 'Personal Auto', 'Personal Auto', 'Personal Auto', 'Personal Auto', 'Personal Auto', 'Personal Auto', 'Personal Auto', 'Personal Auto', 'Corporate Auto', 'Personal Auto', 'Personal Auto', 'Personal Auto', 'Personal Auto', 'Personal Auto', 'Personal Auto', 'Personal Auto', 'Personal Auto', 'Personal Auto', 'Personal Auto', 'Personal Auto', 'Personal Auto', 'Personal Auto', 'Personal Auto', 'Personal Auto', 'Personal Auto', 'Personal Auto', 'Personal Auto', 'Corporate Auto', 'Personal Auto', 'Corporate Auto', 'Personal Auto', 'Personal Auto', 'Personal Auto', 'Personal Auto', 'Corporate Auto', 'Corporate Auto', 'Personal Auto', 'Personal Auto', 'Personal Auto', 'Personal Auto', 'Personal Auto', 'Personal Auto', 'Personal Auto', 'Personal Auto', 'Corporate Auto', 'Personal Auto', 'Personal Auto', 'Personal Auto', 'Personal Auto', 'Personal Auto', 'Personal Auto', 'Corporate Auto', 'Personal Auto', 'Personal Auto', 'Personal Auto', 'Personal Auto', 'Personal Auto', 'Corporate Auto', 'Personal Auto', 'Personal Auto', 'Personal Auto', 'Corporate Auto', 'Personal Auto', 'Personal Auto', 'Personal Auto', 'Personal Auto', 'Personal Auto', 'Personal Auto', 'Personal Auto', 'Special Auto', 'Personal Auto', 'Personal Auto', 'Personal Auto', 'Special Auto', 'Personal Auto', 'Personal Auto', 'Corporate Auto', 'Personal Auto', 'Special Auto', 'Personal Auto', 'Personal Auto', 'Special Auto', 'Personal Auto', 'Personal Auto', 'Personal Auto', 'Personal Auto', 'Personal Auto', 'Corporate Auto', 'Corporate Auto', 'Corporate Auto', 'Personal Auto', 'Corporate Auto', 'Personal Auto', 'Personal Auto', 'Personal Auto', 'Personal Auto', 'Personal Auto', 'Personal Auto', 'Personal Auto', 'Personal Auto', 'Personal Auto', 'Personal Auto', 'Corporate Auto', 'Personal Auto', 'Personal Auto', 'Personal Auto', 'Personal Auto', 'Personal Auto', 'Personal Auto', 'Personal Auto', 'Personal Auto', 'Personal Auto', 'Personal Auto', 'Personal Auto', 'Personal Auto', 'Personal Auto', 'Personal Auto', 'Personal Auto', 'Personal Auto', 'Personal Auto', 'Personal Auto', 'Personal Auto', 'Personal Auto', 'Personal Auto', 'Personal Auto', 'Personal Auto', 'Personal Auto', 'Personal Auto', 'Corporate Auto', 'Personal Auto', 'Personal Auto', 'Personal Auto', 'Special Auto', 'Special Auto', 'Personal Auto', 'Personal Auto', 'Personal Auto', 'Personal Auto', 'Corporate Auto', 'Special Auto', 'Personal Auto', 'Personal Auto', 'Personal Auto', 'Personal Auto', 'Corporate Auto', 'Personal Auto', 'Personal Auto', 'Personal Auto', 'Personal Auto', 'Corporate Auto', 'Corporate Auto', 'Personal Auto', 'Personal Auto', 'Special Auto', 'Corporate Auto', 'Special Auto', 'Personal Auto', 'Corporate Auto', 'Corporate Auto', 'Special Auto', 'Personal Auto', 'Personal Auto', 'Personal Auto', 'Personal Auto', 'Personal Auto', 'Personal Auto', 'Personal Auto', 'Personal Auto', 'Personal Auto', 'Corporate Auto', 'Corporate Auto', 'Corporate Auto', 'Corporate Auto', 'Personal Auto', 'Personal Auto', 'Personal Auto', 'Personal Auto', 'Personal Auto', 'Personal Auto', 'Corporate Auto', 'Personal Auto', 'Personal Auto', 'Corporate Auto', 'Personal Auto', 'Corporate Auto', 'Personal Auto', 'Personal Auto', 'Corporate Auto', 'Personal Auto', 'Personal Auto', 'Corporate Auto', 'Personal Auto', 'Personal Auto', 'Personal Auto', 'Personal Auto', 'Personal Auto', 'Personal Auto', 'Personal Auto', 'Personal Auto', 'Personal Auto', 'Personal Auto', 'Corporate Auto', 'Personal Auto', 'Personal Auto', 'Personal Auto', 'Personal Auto', 'Personal Auto', 'Corporate Auto', 'Corporate Auto', 'Personal Auto', 'Corporate Auto', 'Corporate Auto', 'Personal Auto', 'Personal Auto', 'Personal Auto', 'Personal Auto', 'Personal Auto', 'Special Auto', 'Corporate Auto', 'Personal Auto', 'Personal Auto', 'Personal Auto', 'Personal Auto', 'Personal Auto', 'Personal Auto', 'Personal Auto', 'Personal Auto', 'Personal Auto', 'Corporate Auto', 'Personal Auto', 'Personal Auto', 'Personal Auto', 'Personal Auto', 'Personal Auto', 'Personal Auto', 'Corporate Auto', 'Personal Auto', 'Special Auto', 'Personal Auto', 'Special Auto', 'Personal Auto', 'Corporate Auto', 'Personal Auto', 'Corporate Auto', 'Personal Auto', 'Personal Auto', 'Personal Auto', 'Personal Auto', 'Corporate Auto', 'Personal Auto', 'Personal Auto', 'Corporate Auto', 'Personal Auto', 'Personal Auto', 'Corporate Auto', 'Personal Auto', 'Corporate Auto', 'Personal Auto', 'Corporate Auto', 'Personal Auto', 'Personal Auto', 'Personal Auto', 'Corporate Auto', 'Personal Auto', 'Corporate Auto', 'Personal Auto', 'Personal Auto', 'Personal Auto', 'Personal Auto', 'Corporate Auto', 'Personal Auto', 'Personal Auto', 'Personal Auto', 'Corporate Auto', 'Personal Auto', 'Personal Auto', 'Personal Auto', 'Personal Auto', 'Personal Auto', 'Corporate Auto', 'Personal Auto', 'Personal Auto', 'Personal Auto', 'Personal Auto', 'Personal Auto', 'Personal Auto', 'Personal Auto', 'Personal Auto', 'Personal Auto', 'Corporate Auto', 'Personal Auto', 'Corporate Auto', 'Personal Auto', 'Corporate Auto', 'Corporate Auto', 'Personal Auto', 'Personal Auto', 'Personal Auto', 'Personal Auto', 'Personal Auto', 'Personal Auto', 'Personal Auto', 'Personal Auto', 'Personal Auto', 'Personal Auto', 'Personal Auto', 'Special Auto', 'Corporate Auto', 'Personal Auto', 'Corporate Auto', 'Personal Auto', 'Corporate Auto', 'Personal Auto', 'Personal Auto', 'Corporate Auto', 'Personal Auto', 'Personal Auto', 'Special Auto', 'Personal Auto', 'Personal Auto', 'Personal Auto', 'Corporate Auto', 'Personal Auto', 'Special Auto', 'Personal Auto', 'Personal Auto', 'Corporate Auto', 'Personal Auto', 'Personal Auto', 'Personal Auto', 'Personal Auto', 'Personal Auto', 'Personal Auto', 'Corporate Auto', 'Personal Auto', 'Personal Auto', 'Personal Auto', 'Corporate Auto', 'Personal Auto', 'Corporate Auto', 'Personal Auto', 'Personal Auto', 'Personal Auto', 'Personal Auto', 'Special Auto', 'Personal Auto', 'Personal Auto', 'Personal Auto', 'Corporate Auto', 'Personal Auto', 'Personal Auto', 'Personal Auto', 'Personal Auto', 'Personal Auto', 'Corporate Auto', 'Personal Auto', 'Personal Auto', 'Special Auto', 'Personal Auto', 'Corporate Auto', 'Personal Auto', 'Personal Auto', 'Personal Auto', 'Personal Auto', 'Personal Auto', 'Personal Auto', 'Personal Auto', 'Personal Auto', 'Personal Auto', 'Personal Auto', 'Corporate Auto', 'Corporate Auto', 'Personal Auto', 'Personal Auto', 'Personal Auto', 'Corporate Auto', 'Personal Auto', 'Personal Auto', 'Personal Auto', 'Personal Auto', 'Personal Auto', 'Personal Auto', 'Corporate Auto', 'Personal Auto', 'Personal Auto', 'Personal Auto', 'Personal Auto', 'Corporate Auto', 'Personal Auto', 'Special Auto', 'Corporate Auto', 'Personal Auto', 'Personal Auto', 'Personal Auto', 'Personal Auto', 'Corporate Auto', 'Personal Auto', 'Corporate Auto', 'Corporate Auto', 'Personal Auto', 'Corporate Auto', 'Corporate Auto', 'Personal Auto', 'Personal Auto', 'Personal Auto', 'Personal Auto', 'Personal Auto', 'Personal Auto', 'Corporate Auto', 'Corporate Auto', 'Corporate Auto', 'Corporate Auto', 'Personal Auto', 'Special Auto', 'Corporate Auto', 'Corporate Auto', 'Personal Auto', 'Personal Auto', 'Personal Auto', 'Personal Auto', 'Personal Auto', 'Personal Auto', 'Personal Auto', 'Personal Auto', 'Personal Auto', 'Personal Auto', 'Personal Auto', 'Personal Auto', 'Personal Auto', 'Personal Auto', 'Personal Auto', 'Personal Auto', 'Corporate Auto', 'Personal Auto', 'Personal Auto', 'Corporate Auto', 'Personal Auto', 'Personal Auto', 'Personal Auto', 'Personal Auto', 'Personal Auto', 'Personal Auto', 'Corporate Auto', 'Personal Auto', 'Corporate Auto', 'Personal Auto', 'Corporate Auto', 'Personal Auto', 'Corporate Auto', 'Corporate Auto', 'Personal Auto', 'Corporate Auto', 'Personal Auto', 'Personal Auto', 'Corporate Auto', 'Corporate Auto', 'Personal Auto', 'Personal Auto', 'Special Auto', 'Corporate Auto', 'Personal Auto', 'Personal Auto', 'Corporate Auto', 'Corporate Auto', 'Corporate Auto', 'Personal Auto', 'Personal Auto', 'Corporate Auto', 'Personal Auto', 'Personal Auto', 'Personal Auto', 'Special Auto', 'Corporate Auto', 'Personal Auto', 'Corporate Auto', 'Personal Auto', 'Personal Auto', 'Personal Auto', 'Personal Auto', 'Personal Auto', 'Personal Auto', 'Personal Auto', 'Personal Auto', 'Personal Auto', 'Corporate Auto', 'Personal Auto', 'Special Auto', 'Personal Auto', 'Personal Auto', 'Personal Auto', 'Personal Auto', 'Corporate Auto', 'Personal Auto', 'Corporate Auto', 'Personal Auto', 'Personal Auto', 'Personal Auto', 'Personal Auto', 'Personal Auto', 'Corporate Auto', 'Corporate Auto', 'Personal Auto', 'Corporate Auto', 'Corporate Auto', 'Personal Auto', 'Personal Auto', 'Personal Auto', 'Corporate Auto', 'Personal Auto', 'Personal Auto', 'Corporate Auto', 'Personal Auto', 'Personal Auto', 'Personal Auto', 'Special Auto', 'Personal Auto', 'Personal Auto', 'Personal Auto', 'Personal Auto', 'Personal Auto', 'Personal Auto', 'Personal Auto', 'Personal Auto', 'Personal Auto', 'Personal Auto', 'Personal Auto', 'Personal Auto', 'Personal Auto', 'Personal Auto', 'Personal Auto', 'Personal Auto', 'Personal Auto', 'Personal Auto', 'Personal Auto', 'Special Auto', 'Personal Auto', 'Corporate Auto', 'Personal Auto', 'Personal Auto', 'Personal Auto', 'Personal Auto', 'Personal Auto', 'Corporate Auto', 'Personal Auto', 'Personal Auto', 'Corporate Auto', 'Personal Auto', 'Corporate Auto', 'Corporate Auto', 'Personal Auto', 'Personal Auto', 'Personal Auto', 'Special Auto', 'Personal Auto', 'Special Auto', 'Personal Auto', 'Personal Auto', 'Corporate Auto', 'Personal Auto', 'Corporate Auto', 'Corporate Auto', 'Personal Auto', 'Personal Auto', 'Personal Auto', 'Personal Auto', 'Personal Auto', 'Personal Auto', 'Personal Auto', 'Personal Auto', 'Personal Auto', 'Personal Auto', 'Personal Auto', 'Personal Auto', 'Personal Auto', 'Corporate Auto', 'Personal Auto', 'Corporate Auto', 'Special Auto', 'Personal Auto', 'Personal Auto', 'Personal Auto', 'Special Auto', 'Personal Auto', 'Personal Auto', 'Personal Auto', 'Personal Auto', 'Personal Auto', 'Corporate Auto', 'Corporate Auto', 'Personal Auto', 'Corporate Auto', 'Personal Auto', 'Personal Auto', 'Personal Auto', 'Personal Auto', 'Corporate Auto', 'Personal Auto', 'Personal Auto', 'Personal Auto', 'Personal Auto', 'Personal Auto', 'Corporate Auto', 'Special Auto', 'Corporate Auto', 'Corporate Auto', 'Personal Auto', 'Personal Auto', 'Corporate Auto', 'Personal Auto', 'Personal Auto', 'Personal Auto', 'Personal Auto', 'Personal Auto', 'Personal Auto', 'Personal Auto', 'Personal Auto', 'Corporate Auto', 'Corporate Auto', 'Personal Auto', 'Personal Auto', 'Personal Auto', 'Personal Auto', 'Personal Auto', 'Personal Auto', 'Personal Auto', 'Corporate Auto', 'Special Auto', 'Personal Auto', 'Personal Auto', 'Personal Auto', 'Personal Auto', 'Personal Auto', 'Personal Auto', 'Personal Auto', 'Personal Auto', 'Corporate Auto', 'Personal Auto', 'Personal Auto', 'Corporate Auto', 'Personal Auto', 'Corporate Auto', 'Personal Auto', 'Personal Auto', 'Personal Auto', 'Personal Auto', 'Corporate Auto', 'Personal Auto', 'Personal Auto', 'Personal Auto', 'Personal Auto', 'Personal Auto', 'Personal Auto', 'Personal Auto', 'Personal Auto', 'Personal Auto', 'Corporate Auto', 'Personal Auto', 'Personal Auto', 'Corporate Auto', 'Personal Auto', 'Corporate Auto', 'Personal Auto', 'Special Auto', 'Personal Auto', 'Personal Auto', 'Personal Auto', 'Corporate Auto', 'Personal Auto', 'Personal Auto', 'Corporate Auto', 'Corporate Auto', 'Corporate Auto', 'Personal Auto', 'Personal Auto', 'Personal Auto', 'Corporate Auto', 'Personal Auto', 'Personal Auto', 'Personal Auto', 'Personal Auto', 'Personal Auto', 'Personal Auto', 'Personal Auto', 'Personal Auto', 'Corporate Auto', 'Personal Auto', 'Personal Auto', 'Personal Auto', 'Personal Auto', 'Personal Auto', 'Personal Auto', 'Special Auto', 'Personal Auto', 'Personal Auto', 'Personal Auto', 'Special Auto', 'Personal Auto', 'Personal Auto', 'Personal Auto', 'Corporate Auto', 'Personal Auto', 'Personal Auto', 'Corporate Auto', 'Personal Auto', 'Personal Auto', 'Corporate Auto', 'Personal Auto', 'Personal Auto', 'Corporate Auto', 'Personal Auto', 'Personal Auto', 'Corporate Auto', 'Personal Auto', 'Personal Auto', 'Personal Auto', 'Personal Auto', 'Personal Auto', 'Corporate Auto', 'Personal Auto', 'Corporate Auto', 'Corporate Auto', 'Personal Auto', 'Personal Auto', 'Personal Auto', 'Corporate Auto', 'Corporate Auto', 'Personal Auto', 'Special Auto', 'Corporate Auto', 'Personal Auto', 'Personal Auto', 'Special Auto', 'Personal Auto', 'Personal Auto', 'Personal Auto', 'Personal Auto', 'Personal Auto', 'Personal Auto', 'Personal Auto', 'Personal Auto', 'Personal Auto', 'Personal Auto', 'Personal Auto', 'Personal Auto', 'Personal Auto', 'Corporate Auto', 'Corporate Auto', 'Special Auto', 'Personal Auto', 'Corporate Auto', 'Special Auto', 'Special Auto', 'Personal Auto', 'Personal Auto', 'Personal Auto', 'Personal Auto', 'Special Auto', 'Personal Auto', 'Personal Auto', 'Personal Auto', 'Personal Auto', 'Personal Auto', 'Personal Auto', 'Personal Auto', 'Personal Auto', 'Personal Auto', 'Corporate Auto', 'Personal Auto', 'Corporate Auto', 'Personal Auto', 'Corporate Auto', 'Corporate Auto', 'Corporate Auto', 'Personal Auto', 'Personal Auto', 'Personal Auto', 'Personal Auto', 'Personal Auto', 'Personal Auto', 'Personal Auto', 'Personal Auto', 'Personal Auto', 'Personal Auto', 'Personal Auto', 'Personal Auto', 'Personal Auto', 'Corporate Auto', 'Personal Auto', 'Personal Auto', 'Personal Auto', 'Personal Auto', 'Personal Auto', 'Personal Auto', 'Personal Auto', 'Corporate Auto', 'Personal Auto', 'Personal Auto', 'Personal Auto', 'Corporate Auto', 'Personal Auto', 'Personal Auto', 'Personal Auto', 'Personal Auto', 'Personal Auto', 'Personal Auto', 'Personal Auto', 'Personal Auto', 'Corporate Auto', 'Personal Auto', 'Personal Auto', 'Personal Auto', 'Personal Auto', 'Personal Auto', 'Personal Auto', 'Personal Auto', 'Corporate Auto', 'Personal Auto', 'Personal Auto', 'Personal Auto', 'Personal Auto', 'Personal Auto', 'Corporate Auto', 'Personal Auto', 'Personal Auto', 'Personal Auto', 'Personal Auto', 'Special Auto', 'Corporate Auto', 'Personal Auto', 'Corporate Auto', 'Personal Auto', 'Corporate Auto', 'Personal Auto', 'Corporate Auto', 'Personal Auto', 'Special Auto', 'Corporate Auto', 'Personal Auto', 'Personal Auto', 'Corporate Auto', 'Corporate Auto', 'Personal Auto', 'Special Auto', 'Personal Auto', 'Personal Auto', 'Personal Auto', 'Personal Auto', 'Personal Auto', 'Corporate Auto', 'Personal Auto', 'Personal Auto', 'Corporate Auto', 'Personal Auto', 'Corporate Auto', 'Personal Auto', 'Personal Auto', 'Corporate Auto', 'Corporate Auto', 'Special Auto', 'Special Auto', 'Personal Auto', 'Personal Auto', 'Corporate Auto', 'Personal Auto', 'Personal Auto', 'Personal Auto', 'Personal Auto', 'Corporate Auto', 'Personal Auto', 'Special Auto', 'Personal Auto', 'Personal Auto', 'Corporate Auto', 'Personal Auto', 'Special Auto', 'Personal Auto', 'Personal Auto', 'Personal Auto', 'Personal Auto', 'Personal Auto', 'Corporate Auto', 'Personal Auto', 'Corporate Auto', 'Personal Auto', 'Personal Auto', 'Personal Auto', 'Special Auto', 'Personal Auto', 'Personal Auto', 'Personal Auto', 'Personal Auto', 'Personal Auto', 'Personal Auto', 'Personal Auto', 'Corporate Auto', 'Personal Auto', 'Personal Auto', 'Personal Auto', 'Personal Auto', 'Personal Auto', 'Personal Auto', 'Personal Auto', 'Corporate Auto', 'Personal Auto', 'Corporate Auto', 'Personal Auto', 'Corporate Auto', 'Personal Auto', 'Personal Auto', 'Personal Auto', 'Corporate Auto', 'Personal Auto', 'Personal Auto', 'Personal Auto', 'Corporate Auto', 'Corporate Auto', 'Corporate Auto', 'Personal Auto', 'Personal Auto', 'Special Auto', 'Corporate Auto', 'Corporate Auto', 'Corporate Auto', 'Personal Auto', 'Personal Auto', 'Personal Auto', 'Personal Auto', 'Personal Auto', 'Personal Auto', 'Special Auto', 'Personal Auto', 'Corporate Auto', 'Personal Auto', 'Personal Auto', 'Personal Auto', 'Personal Auto', 'Personal Auto', 'Personal Auto', 'Personal Auto', 'Corporate Auto', 'Personal Auto', 'Corporate Auto', 'Personal Auto', 'Personal Auto', 'Personal Auto', 'Personal Auto', 'Personal Auto', 'Personal Auto', 'Personal Auto', 'Personal Auto', 'Special Auto', 'Corporate Auto', 'Corporate Auto', 'Personal Auto', 'Personal Auto', 'Special Auto', 'Personal Auto', 'Personal Auto', 'Personal Auto', 'Personal Auto', 'Corporate Auto', 'Personal Auto', 'Corporate Auto', 'Personal Auto', 'Personal Auto', 'Corporate Auto', 'Personal Auto', 'Corporate Auto', 'Special Auto', 'Corporate Auto', 'Personal Auto', 'Personal Auto', 'Personal Auto', 'Personal Auto', 'Corporate Auto', 'Personal Auto', 'Personal Auto', 'Personal Auto', 'Personal Auto', 'Personal Auto', 'Personal Auto', 'Corporate Auto', 'Personal Auto', 'Corporate Auto', 'Personal Auto', 'Personal Auto', 'Personal Auto', 'Corporate Auto', 'Personal Auto', 'Personal Auto', 'Personal Auto', 'Personal Auto', 'Corporate Auto', 'Personal Auto', 'Corporate Auto', 'Personal Auto', 'Personal Auto', 'Personal Auto', 'Corporate Auto', 'Personal Auto', 'Personal Auto', 'Corporate Auto', 'Personal Auto', 'Personal Auto', 'Personal Auto', 'Personal Auto', 'Personal Auto', 'Personal Auto', 'Personal Auto', 'Personal Auto', 'Personal Auto', 'Special Auto', 'Personal Auto', nan, nan, nan, nan, nan, nan, nan, nan, nan, nan, nan, nan, nan, nan, nan, nan, nan, nan, nan, nan, nan, nan, nan, nan, nan, nan, nan, nan, nan, nan, nan, nan, nan, nan, nan, nan, nan, nan, nan, nan, nan, nan, nan, nan, nan, nan, nan, nan, nan, nan, nan, nan, nan, nan, nan, nan, nan, nan, nan, nan, nan, nan, nan, nan, nan, nan, nan, nan, nan, nan, nan, nan, nan, nan, nan, nan, nan, nan, nan, nan, nan, nan, nan, nan, nan, nan, nan, nan, nan, nan, nan, nan, nan, nan, nan, nan, nan, nan, nan, nan, nan, nan, nan, nan, nan, nan, nan, nan, nan, nan, nan, nan, nan, nan, nan, nan, nan, nan, nan, nan, nan, nan, nan, nan, nan, nan, nan, nan, nan, nan, nan, nan, nan, nan, nan, nan, nan, nan, nan, nan, nan, nan, nan, nan, nan, nan, nan, nan, nan, nan, nan, nan, nan, nan, nan, nan, nan, nan, nan, nan, nan, nan, nan, nan, nan, nan, nan, nan, nan, nan, nan, nan, nan, nan, nan, nan, nan, nan, nan, nan, nan, nan, nan, nan, nan, nan, nan, nan, nan, nan, nan, nan, nan, nan, nan, nan, nan, nan, nan, nan, nan, nan, nan, nan, nan, nan, nan, nan, nan, nan, nan, nan, nan, nan, nan, nan, nan, nan, nan, nan, nan, nan, nan, nan, nan, nan, nan, nan, nan, nan, nan, nan, nan, nan, nan, nan, nan, nan, nan, nan, nan, nan, nan, nan, nan, nan, nan, nan, nan, nan, nan, nan, nan, nan, nan, nan, nan, nan, nan, nan, nan, nan, nan, nan, nan, nan, nan, nan, nan, nan, nan, nan, nan, nan, nan, nan, nan, nan, nan, nan, nan, nan, nan, nan, nan, nan, nan, nan, nan, nan, nan, nan, nan, nan, nan, nan, nan, nan, nan, nan, nan, nan, nan, nan, nan, nan, nan, nan, nan, nan, nan, nan, nan, nan, nan, nan, nan, nan, nan, nan, nan, nan, nan, nan, nan, nan, nan, nan, nan, nan, nan, nan, nan, nan, nan, nan, nan, nan, nan, nan, nan, nan, nan, nan, nan, nan, nan, nan, nan, nan, nan, nan, nan, nan, nan, nan, nan, nan, nan, nan, nan, nan, nan, nan, nan, nan, nan, nan, nan, nan, nan, nan, nan, nan, nan, nan, nan, nan, nan, nan, nan, nan, nan, nan, nan, nan, nan, nan, nan, nan, nan, nan, nan, nan, nan, nan, nan, nan, nan, nan, nan, nan, nan, nan, nan, nan, nan, nan, nan, nan, nan, nan, nan, nan, nan, nan, nan, nan, nan, nan, nan, nan, nan, nan, nan, nan, nan, nan, nan, nan, nan, nan, nan, nan, nan, nan, nan, nan, nan, nan, nan, nan, nan, nan, nan, nan, nan, nan, nan, nan, nan, nan, nan, nan, nan, nan, nan, nan, nan, nan, nan, nan, nan, nan, nan, nan, nan, nan, nan, nan, nan, nan, nan, nan, nan, nan, nan, nan, nan, nan, nan, nan, nan, nan, nan, nan, nan, nan, nan, nan, nan, nan, nan, nan, nan, nan, nan, nan, nan, nan, nan, nan, nan, nan, nan, nan, nan, nan, nan, nan, nan, nan, nan, nan, nan, nan, nan, nan, nan, nan, nan, nan, nan, nan, nan, nan, nan, nan, nan, nan, nan, nan, nan, nan, nan, nan, nan, nan, nan, nan, nan, nan, nan, nan, nan, nan, nan, nan, nan, nan, nan, nan, nan, nan, nan, nan, nan, nan, nan, nan, nan, nan, nan, nan, nan, nan, nan, nan, nan, nan, nan, nan, nan, nan, nan, nan, nan, nan, nan, nan, nan, nan, nan, nan, nan, nan, nan, nan, nan, nan, nan, nan, nan, nan, nan, nan, nan, nan, nan, nan, nan, nan, nan, nan, nan, nan, nan, nan, nan, nan, nan, nan, nan, nan, nan, nan, nan, nan, nan, nan, nan, nan, nan, nan, nan, nan, nan, nan, nan, nan, nan, nan, nan, nan, nan, nan, nan, nan, nan, nan, nan, nan, nan, nan, nan, nan, nan, nan, nan, nan, nan, nan, nan, nan, nan, nan, nan, nan, nan, nan, nan, nan, nan, nan, nan, nan, nan, nan, nan, nan, nan, nan, nan, nan, nan, nan, nan, nan, nan, nan, nan, nan, nan, nan, nan, nan, nan, nan, nan, nan, nan, nan, nan, nan, nan, nan, nan, nan, nan, nan, nan, nan, nan, nan, nan, nan, nan, nan, nan, nan, nan, nan, nan, nan, nan, nan, nan, nan, nan, nan, nan, nan, nan, nan, nan, nan, nan, nan, nan, nan, nan, nan, nan, nan, nan, nan, nan, nan, nan, nan, nan, nan, nan, nan, nan, nan, nan, nan, nan, nan, nan, nan, nan, nan, nan, nan, nan, nan, nan, nan, nan, nan, nan, nan, nan, nan, nan, nan, nan, nan, nan, nan, nan, nan, nan, nan, nan, nan, nan, nan, nan, nan, nan, nan, nan, nan, nan, nan, nan, nan, nan, nan, nan, nan, nan, nan, nan, nan, nan, nan, nan, nan, nan, nan, nan, nan, nan, nan, nan, nan, nan, nan, nan, nan, nan, nan, nan, nan, nan, nan, nan, nan, nan, nan, nan, nan, nan, nan, nan, nan, nan, nan, nan, nan, nan, nan, nan, nan, nan, nan, nan, nan, nan, nan, nan, nan, nan, nan, nan, nan, nan, nan, nan, nan, nan, nan, nan, nan, nan, nan, nan, nan, nan, nan, nan, nan, nan, nan, nan, nan, nan, nan, nan, nan, nan, nan, nan, nan, nan, nan, nan, nan, nan, nan, nan, nan, nan, nan, nan, nan, nan, nan, nan, nan, nan, nan, nan, nan, nan, nan, nan, nan, nan, nan, nan, nan, nan, nan, nan, nan, nan, nan, nan, nan, nan, nan, nan, nan, nan, nan, nan, nan, nan, nan, nan, nan, nan, nan, nan, nan, nan, nan, nan, nan, nan, nan, nan, nan, nan, nan, nan, nan, nan, nan, nan, nan, nan, nan, nan, nan, nan, nan, nan, nan, nan, nan, nan, nan, nan, nan, nan, nan, nan, nan, nan, nan, nan, nan, nan, nan, nan, nan, nan, nan, nan, nan, nan, nan, nan, nan, nan, nan, nan, nan, nan, nan, nan, nan, nan, nan, nan, nan, nan, nan, nan, nan, nan, nan, nan, nan, nan, nan, nan, nan, nan, nan, nan, nan, nan, nan, nan, nan, nan, nan, nan, nan, nan, nan, nan, nan, nan, nan, nan, nan, nan, nan, nan, nan, nan, nan, nan, nan, nan, nan, nan, nan, nan, nan, nan, nan, nan, nan, nan, nan, nan, nan, nan, nan, nan, nan, nan, nan, nan, nan, nan, nan, nan, nan, nan, nan, nan, nan, nan, nan, nan, nan, nan, nan, nan, nan, nan, nan, nan, nan, nan, nan, nan, nan, nan, nan, nan, nan, nan, nan, nan, nan, nan, nan, nan, nan, nan, nan, nan, nan, nan, nan, nan, nan, nan, nan, nan, nan, nan, nan, nan, nan, nan, nan, nan, nan, nan, nan, nan, nan, nan, nan, nan, nan, nan, nan, nan, nan, nan, nan, nan, nan, nan, nan, nan, nan, nan, nan, nan, nan, nan, nan, nan, nan, nan, nan, nan, nan, nan, nan, nan, nan, nan, nan, nan, nan, nan, nan, nan, nan, nan, nan, nan, nan, nan, nan, nan, nan, nan, nan, nan, nan, nan, nan, nan, nan, nan, nan, nan, nan, nan, nan, nan, nan, nan, nan, nan, nan, nan, nan, nan, nan, nan, nan, nan, nan, nan, nan, nan, nan, nan, nan, nan, nan, nan, nan, nan, nan, nan, nan, nan, nan, nan, nan, nan, nan, nan, nan, nan, nan, nan, nan, nan, nan, nan, nan, nan, nan, nan, nan, nan, nan, nan, nan, nan, nan, nan, nan, nan, nan, nan, nan, nan, nan, nan, nan, nan, nan, nan, nan, nan, nan, nan, nan, nan, nan, nan, nan, nan, nan, nan, nan, nan, nan, nan, nan, nan, nan, nan, nan, nan, nan, nan, nan, nan, nan, nan, nan, nan, nan, nan, nan, nan, nan, nan, nan, nan, nan, nan, nan, nan, nan, nan, nan, nan, nan, nan, nan, nan, nan, nan, nan, nan, nan, nan, nan, nan, nan, nan, nan, nan, nan, nan, nan, nan, nan, nan, nan, nan, nan, nan, nan, nan, nan, nan, nan, nan, nan, nan, nan, nan, nan, nan, nan, nan, nan, nan, nan, nan, nan, nan, nan, nan, nan, nan, nan, nan, nan, nan, nan, nan, nan, nan, nan, nan, nan, nan, nan, nan, nan, nan, nan, nan, nan, nan, nan, nan, nan, nan, nan, nan, nan, nan, nan, nan, nan, nan, nan, nan, nan, nan, nan, nan, nan, nan, nan, nan, nan, nan, nan, nan, nan, nan, nan, nan, nan, nan, nan, nan, nan, nan, nan, nan, nan, nan, nan, nan, nan, nan, nan, nan, nan, nan, nan, nan, nan, nan, nan, nan, nan, nan, nan, nan, nan, nan, nan, nan, nan, nan, nan, nan, nan, nan, nan, nan, nan, nan, nan, nan, nan, nan, nan, nan, nan, nan, nan, nan, nan, nan, nan, nan, nan, nan, nan, nan, nan, nan, nan, nan, nan, nan, nan, nan, nan, nan, nan, nan, nan, nan, nan, nan, nan, nan, nan, nan, nan, nan, nan, nan, nan, nan, nan, nan, nan, nan, nan, nan, nan, nan, nan, nan, nan, nan, nan, nan, nan, nan, nan, nan, nan, nan, nan, nan, nan, nan, nan, nan, nan, nan, nan, nan, nan, nan, nan, nan, nan, nan, nan, nan, nan, nan, nan, nan, nan, nan, nan, nan, nan, nan, nan, nan, nan, nan, nan, nan, nan, nan, nan, nan, nan, nan, nan, nan, nan, nan, nan, nan, nan, nan, nan, nan, nan, nan, nan, nan, nan, nan, nan, nan, nan, nan, nan, nan, nan, nan, nan, nan, nan, nan, nan, nan, nan, nan, nan, nan, nan, nan, nan, nan, nan, nan, nan, nan, nan, nan, nan, nan, nan, nan, nan, nan, nan, nan, nan, nan, nan, nan, nan, nan, nan, nan, nan, nan, nan, nan, nan, nan, nan, nan, nan, nan, nan, nan, nan, nan, nan, nan, nan, nan, nan, nan, nan, nan, nan, nan, nan, nan, nan, nan, nan, nan, nan, nan, nan, nan, nan, nan, nan, nan, nan, nan, nan, nan, nan, nan, nan, nan, nan, nan, nan, nan, nan, nan, nan, nan, nan, nan, nan, nan, nan, nan, nan, nan, nan, nan, nan, nan, nan, nan, nan, nan, nan, nan, nan, nan, nan, nan, nan, nan, nan, nan, nan, nan, nan, nan, nan, nan, nan, nan, nan, nan, nan, nan, nan, nan, nan, nan, nan, nan, nan, nan, nan, nan, nan, nan, nan, nan, nan, nan, nan, nan, nan, nan, nan, nan, nan, nan, nan, nan, nan, nan, nan, nan, nan, nan, nan, nan, nan, nan, nan, nan, nan, nan, nan, nan, nan, nan, nan, nan, nan, nan, nan, nan, nan, nan, nan, nan, nan, nan, nan, nan, nan, nan, nan, nan, nan, nan, nan, nan, nan, nan, nan, nan, nan, nan, nan, nan, nan, nan, nan, nan, nan, nan, nan, nan, nan, nan, nan, nan, nan, nan, nan, nan, nan, nan, nan, nan, nan, nan, nan, nan, nan, nan, nan, nan, nan, nan, nan, nan, nan, nan, nan, nan, nan, nan, nan, nan, nan, nan, nan, nan, nan, nan, nan, nan, nan, nan, nan, nan, nan, nan, nan, nan, nan, nan, nan, nan, nan, nan, nan, nan, nan, nan, nan, nan, nan, nan, nan, nan, nan, nan, nan, nan, nan, nan, nan, nan, nan, nan, nan, nan, nan, nan, nan, nan, nan, nan, nan, nan, nan, nan, nan, nan, nan, nan, nan, nan, nan, nan, nan, nan, nan, nan, nan, nan, nan, nan, nan, nan, nan, nan, nan, nan, nan, nan, nan, nan, nan, nan, nan, nan, nan, nan, nan, nan, nan, nan, nan, nan, nan, nan, nan, nan, nan, nan, nan, nan, nan, nan, nan, nan, nan, nan, nan, nan, nan, nan, nan, nan, nan, nan, nan, nan, nan, nan, nan, nan, nan, nan, nan, nan, nan, nan, nan, nan, nan, nan, nan, nan, nan, nan, nan, nan, nan, nan, nan, nan, nan, nan, nan, nan, nan, nan, nan, nan, nan, nan, nan, nan, nan, nan, nan, nan, nan, nan, nan, nan, nan, nan, nan, nan, nan, nan, nan, nan, nan, nan, nan, nan, nan, nan, nan, nan, nan, nan, nan, nan, nan, nan, nan, nan, nan, nan, nan, nan, nan, nan, nan, nan, nan, nan, nan, nan, nan, nan, nan, nan, nan, nan, nan, nan, nan, nan, nan, nan, nan, nan, nan, nan, nan, nan, nan, nan, nan, nan, nan, nan, nan, nan, nan, nan, nan, nan, nan, nan, nan, nan, nan, nan, nan, nan, nan, nan, nan, nan, nan, nan, nan, nan, nan, nan, nan, nan, nan, nan, nan, nan, nan, nan, nan, nan, nan, nan, nan, nan, nan, nan, nan, nan, nan, nan, nan, nan, nan, nan, nan, nan, nan, nan, nan, nan, nan, nan, nan, nan, nan, nan, nan, nan, nan, nan, nan, nan, nan, nan, nan, nan, nan, nan, nan, nan, nan, nan, nan, nan, nan, nan, nan, nan, nan, nan, nan, nan, nan, nan, nan, nan, nan, nan, nan, nan, nan, nan, nan, nan, nan, nan, nan, nan, nan, nan, nan, nan, nan, nan, nan, nan, nan, nan, nan, nan, nan, nan, nan, nan, nan, nan, nan, nan, nan, nan, nan, nan, nan, nan, nan, nan, nan, nan, nan, nan, nan, nan, nan, nan, nan, nan, nan, nan, nan, nan, nan, nan, nan, nan, nan, nan, nan, nan, nan, nan, nan, nan, nan, nan, nan, nan, nan, nan, nan, nan, nan, nan, nan, nan, nan, nan, nan, nan, nan, nan, nan, nan, nan, nan, nan, nan, nan, nan, nan, nan, nan, nan, nan, nan, nan, nan, nan, nan, nan, nan, nan, nan, nan, nan, nan, nan, nan, nan, nan, nan, nan, nan, nan, nan, nan, nan, nan, nan, nan, nan, nan, nan, nan, nan, nan, nan, nan, nan, nan, nan, nan, nan, nan, nan, nan, nan, nan, nan, nan, nan, nan, nan, nan, nan, nan, nan, nan, nan, nan, nan, nan, nan, nan, nan, nan, nan, nan, nan, nan, nan, nan, nan, nan, nan, nan, nan, nan, nan, nan, nan, nan, nan, nan, nan, nan, nan, nan, nan, nan, nan, nan, nan, nan, nan, nan, nan, nan, nan, nan, nan, nan, nan, nan, nan, nan, nan, nan, nan, nan, nan, nan, nan, nan, nan, nan, nan, nan, nan, nan, nan, nan, nan, nan, nan, nan, nan, nan, nan, nan, nan, nan, nan, nan, nan, nan, nan, nan, nan, nan, nan, nan, nan, nan, nan, nan, nan, nan, nan, nan, nan, nan, nan, nan, nan, nan, nan, nan, nan, nan, nan, nan, nan, nan, nan, nan, nan, nan, nan, nan, nan, nan, nan, nan, nan, nan, nan, nan, nan, nan, nan, nan, nan, nan, nan, nan, nan, nan, nan, nan, nan, nan, nan, nan, nan, nan, nan, nan, nan, nan, nan, nan, nan, nan, nan, nan, nan, nan, nan, nan, nan, nan, nan, nan, nan, nan, nan, nan, nan, nan, nan, nan, nan, nan, nan, nan, nan, nan, nan, nan, nan, nan, nan, nan, nan, nan, nan, nan, nan, nan, nan, nan, nan, nan, nan, nan, nan, nan, nan, nan, nan, nan, nan, nan, nan, nan, nan, nan, nan, nan, nan, nan, nan, nan, nan, nan, nan, nan, nan, nan, nan, nan, nan, nan, nan, nan, nan, nan, nan, nan, nan, nan, nan, nan, nan, nan, nan, nan, nan, nan, nan, nan, nan, nan, nan, nan, nan, nan, nan, nan, nan, nan, nan, nan, nan, nan, nan, nan, nan, nan, nan, nan, nan, nan, nan, nan, nan, nan, nan, nan, nan, nan, nan, nan, nan, nan, nan, nan, nan, nan, nan, nan, nan, nan, nan, nan, nan, nan, nan, nan, nan, nan, nan, nan, nan, nan, nan, nan, nan, nan, nan, nan, nan, nan, nan, nan, nan, nan, nan, nan, nan, nan, nan, nan, nan, nan, nan, nan, nan, nan, nan, nan, nan, nan, nan, nan, nan, nan, nan, nan, nan, nan, nan, nan, nan, nan, nan, nan, nan, nan, nan, nan, nan, nan, nan, nan, nan, nan, nan, nan, nan, nan, nan, nan, nan, nan, nan, nan, nan, nan, nan, nan, nan, nan, nan, nan, nan, nan, nan, nan, nan, nan, nan, nan, nan, nan, nan, nan, nan, nan, nan, nan, nan, nan, nan, nan, nan, nan, nan, nan, nan, nan, nan, nan, nan, nan, nan, nan, nan, nan, nan, nan, nan, nan, nan, nan, nan, nan, nan, nan, nan, nan, nan, nan, nan, nan, nan, nan, nan, nan, nan, nan, nan, nan, nan, nan, nan, nan, nan, nan, nan, nan, nan, nan, nan, nan, nan, nan, nan, nan, nan, nan, nan, nan, nan, nan, nan, nan, nan, nan, nan, nan, nan, nan, nan, nan, nan, nan, nan, nan, nan, nan, nan, nan, nan, nan, nan, nan, nan, nan, nan, nan, nan, nan, nan, nan, nan, nan, nan, nan, nan, nan, nan, nan, nan, nan, nan, nan, nan, nan, nan, nan, nan, nan, nan, nan, nan, nan, nan, nan, nan, nan, nan, nan, nan, nan, nan, nan, nan, nan, nan, nan, nan, nan, nan, nan, nan, nan, nan, nan, nan, nan, nan, nan, nan, nan, nan, nan, nan, nan, nan, nan, nan, nan, nan, nan, nan, nan, nan, nan, nan, nan, nan, nan, nan, nan, nan, nan, nan, nan, nan, nan, nan, nan, nan, nan, nan, nan, nan, nan, nan, nan, nan, nan, nan, nan, nan, nan, nan, nan, nan, nan, nan, nan, nan, nan, nan, nan, nan, nan, nan, nan, nan, nan, nan, nan, nan, nan, nan, nan, nan, nan, nan, nan, nan, nan, nan, nan, nan, nan, nan, nan, nan, nan, nan, nan, nan, nan, nan, nan, nan, nan, nan, nan, nan, nan, nan, nan, nan, nan, nan, nan, nan, nan, nan, nan, nan, nan, nan, nan, nan, nan, nan, nan, nan, nan, nan, nan, nan, nan, nan, nan, nan, nan, nan, nan, nan, nan, nan, nan, nan, nan, nan, nan, nan, nan, nan, nan, nan, nan, nan, nan, nan, nan, nan, nan, nan, nan, nan, nan, nan, nan, nan, nan, nan, nan, nan, nan, nan, nan, nan, nan, nan]\n",
      "0        Personal Auto\n",
      "1        Personal Auto\n",
      "2        Personal Auto\n",
      "3       Corporate Auto\n",
      "4        Personal Auto\n",
      "             ...      \n",
      "4003               NaN\n",
      "4004               NaN\n",
      "4005               NaN\n",
      "4006               NaN\n",
      "4007               NaN\n",
      "Length: 4008, dtype: object\n",
      "Personal Auto     780\n",
      "Corporate Auto    234\n",
      "Special Auto       57\n",
      "Name: count, dtype: int64\n"
     ]
    }
   ],
   "source": [
    "# Your code here\n",
    "#Convert column in to list\n",
    "Policy_list=insurance_customers_df[\"Policy_Type\"].tolist()\n",
    "print(Policy_list)\n",
    "#Concert list to series\n",
    "Policy_Series=pd.Series(Policy_list)\n",
    "print(Policy_Series)\n",
    "#Policy Type with the highest number of policies sold (using value_counts)\n",
    "PT=Policy_Series.value_counts()\n",
    "highest_number=PT.head(5)\n",
    "print(highest_number)\n"
   ]
  },
  {
   "cell_type": "markdown",
   "id": "0b863fd3-bf91-4d5d-86eb-be29ed9f5b70",
   "metadata": {},
   "source": [
    "### Exercise 3\n",
    "\n",
    "The sales team wants to know if customers with Personal Auto have a lower income than those with Corporate Auto. How does the average income compare between the two policy types?"
   ]
  },
  {
   "cell_type": "markdown",
   "id": "b1386d75-2810-4aa1-93e0-9485aa12d552",
   "metadata": {},
   "source": [
    "- Use *loc* to create two dataframes: one containing only Personal Auto policies and one containing only Corporate Auto policies.\n",
    "- Calculate the average income for each policy.\n",
    "- Print the results."
   ]
  },
  {
   "cell_type": "code",
   "execution_count": null,
   "id": "0c0563cf-6f8b-463d-a321-651a972f82e5",
   "metadata": {},
   "outputs": [],
   "source": [
    "# Your code here\n",
    "#Create\n"
   ]
  },
  {
   "cell_type": "markdown",
   "id": "80b16c27-f4a5-4727-a229-1f88671cf4e2",
   "metadata": {},
   "source": [
    "### Bonus: Exercise 4\n"
   ]
  },
  {
   "cell_type": "markdown",
   "id": "ac584986-299b-475f-ac2e-928c16c3f512",
   "metadata": {},
   "source": [
    "Your goal is to identify customers with a high policy claim amount.\n",
    "\n",
    "Instructions:\n",
    "\n",
    "- Review again the statistics for total claim amount to gain an understanding of the data.\n",
    "- To identify potential areas for improving customer retention and profitability, we want to focus on customers with a high policy claim amount. Consider customers with a high policy claim amount to be those in the top 25% of the total claim amount. Create a pandas DataFrame object that contains information about customers with a policy claim amount greater than the 75th percentile.\n",
    "- Use DataFrame methods to calculate summary statistics about the high policy claim amount data. "
   ]
  },
  {
   "cell_type": "markdown",
   "id": "4e3af5f1-6023-4b05-9c01-d05392daa650",
   "metadata": {},
   "source": [
    "*Note: When analyzing data, we often want to focus on certain groups of values to gain insights. Percentiles are a useful tool to help us define these groups. A percentile is a measure that tells us what percentage of values in a dataset are below a certain value. For example, the 75th percentile represents the value below which 75% of the data falls. Similarly, the 25th percentile represents the value below which 25% of the data falls. When we talk about the top 25%, we are referring to the values that fall above the 75th percentile, which represent the top quarter of the data. On the other hand, when we talk about the bottom 25%, we are referring to the values that fall below the 25th percentile, which represent the bottom quarter of the data. By focusing on these groups, we can identify patterns and trends that may be useful for making decisions and taking action.*\n",
    "\n",
    "*Hint: look for a method that gives you the percentile or quantile 0.75 and 0.25 for a Pandas Series.*"
   ]
  },
  {
   "cell_type": "markdown",
   "id": "2d234634-50bd-41e0-88f7-d5ba684455d1",
   "metadata": {},
   "source": [
    "*Hint 2: check `Boolean selection according to the values of a single column` in https://towardsdatascience.com/filtering-data-frames-in-pandas-b570b1f834b9*"
   ]
  },
  {
   "cell_type": "code",
   "execution_count": null,
   "id": "b731bca6-a760-4860-a27b-a33efa712ce0",
   "metadata": {},
   "outputs": [],
   "source": [
    "# Your code here"
   ]
  }
 ],
 "metadata": {
  "kernelspec": {
   "display_name": "Python 3 (ipykernel)",
   "language": "python",
   "name": "python3"
  },
  "language_info": {
   "codemirror_mode": {
    "name": "ipython",
    "version": 3
   },
   "file_extension": ".py",
   "mimetype": "text/x-python",
   "name": "python",
   "nbconvert_exporter": "python",
   "pygments_lexer": "ipython3",
   "version": "3.11.5"
  }
 },
 "nbformat": 4,
 "nbformat_minor": 5
}
