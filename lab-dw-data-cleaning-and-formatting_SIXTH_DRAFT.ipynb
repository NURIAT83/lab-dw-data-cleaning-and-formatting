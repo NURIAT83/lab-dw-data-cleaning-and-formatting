{
  "cells": [
    {
      "cell_type": "markdown",
      "id": "25d7736c-ba17-4aff-b6bb-66eba20fbf4e",
      "metadata": {
        "id": "25d7736c-ba17-4aff-b6bb-66eba20fbf4e"
      },
      "source": [
        "# Lab | Data Cleaning and Formatting"
      ]
    },
    {
      "cell_type": "markdown",
      "id": "d1973e9e-8be6-4039-b70e-d73ee0d94c99",
      "metadata": {
        "id": "d1973e9e-8be6-4039-b70e-d73ee0d94c99"
      },
      "source": [
        "In this lab, we will be working with the customer data from an insurance company, which can be found in the CSV file located at the following link: https://raw.githubusercontent.com/data-bootcamp-v4/data/main/file1.csv\n"
      ]
    },
    {
      "cell_type": "markdown",
      "id": "31b8a9e7-7db9-4604-991b-ef6771603e57",
      "metadata": {
        "id": "31b8a9e7-7db9-4604-991b-ef6771603e57"
      },
      "source": [
        "# Challenge 1: Data Cleaning and Formatting"
      ]
    },
    {
      "cell_type": "markdown",
      "id": "81553f19-9f2c-484b-8940-520aff884022",
      "metadata": {
        "id": "81553f19-9f2c-484b-8940-520aff884022"
      },
      "source": [
        "## Exercise 1: Cleaning Column Names"
      ]
    },
    {
      "cell_type": "markdown",
      "id": "34a929f4-1be4-4fa8-adda-42ffd920be90",
      "metadata": {
        "id": "34a929f4-1be4-4fa8-adda-42ffd920be90"
      },
      "source": [
        "To ensure consistency and ease of use, standardize the column names of the dataframe. Start by taking a first look at the dataframe and identifying any column names that need to be modified. Use appropriate naming conventions and make sure that column names are descriptive and informative.\n",
        "\n",
        "*Hint*:\n",
        "- *Column names should be in lower case*\n",
        "- *White spaces in column names should be replaced by `_`*\n",
        "- *`st` could be replaced for `state`*"
      ]
    },
    {
      "cell_type": "code",
      "execution_count": 1,
      "id": "5810735c-8056-4442-bbf2-dda38d3e284a",
      "metadata": {
        "id": "5810735c-8056-4442-bbf2-dda38d3e284a"
      },
      "outputs": [],
      "source": [
        "# Your code here\n",
        "import pandas as pd\n",
        "import numpy as np\n",
        "url=\"https://raw.githubusercontent.com/data-bootcamp-v4/data/main/file1.csv\"\n",
        "insurance_customers_df=pd.read_csv(url)\n"
      ]
    },
    {
      "cell_type": "code",
      "execution_count": 2,
      "id": "c9440430",
      "metadata": {},
      "outputs": [],
      "source": [
        "#To work better with our columns we are going to convert the titles to lowercase \n",
        "insurance_customers_df.columns=map(str.lower,insurance_customers_df.columns)"
      ]
    },
    {
      "cell_type": "code",
      "execution_count": 3,
      "id": "42abcd8a",
      "metadata": {},
      "outputs": [],
      "source": [
        "#And remove the blank space btw words\n",
        "insurance_customers_df.columns=insurance_customers_df.columns.str.replace(\" \",\"_\")"
      ]
    },
    {
      "cell_type": "code",
      "execution_count": 4,
      "id": "2cf22b8f",
      "metadata": {},
      "outputs": [],
      "source": [
        "#Change  st for state \n",
        "insurance_customers_df['st']=insurance_customers_df['st'].str.replace('st','state')\n"
      ]
    },
    {
      "cell_type": "markdown",
      "id": "9cb501ec-36ff-4589-b872-6252bb150316",
      "metadata": {
        "id": "9cb501ec-36ff-4589-b872-6252bb150316"
      },
      "source": [
        "## Exercise 2: Cleaning invalid Values"
      ]
    },
    {
      "cell_type": "markdown",
      "id": "771fdcf3-8e20-4b06-9c24-3a93ba2b0909",
      "metadata": {
        "id": "771fdcf3-8e20-4b06-9c24-3a93ba2b0909"
      },
      "source": [
        "The dataset contains columns with inconsistent and incorrect values that could affect the accuracy of our analysis. Therefore, we need to clean these columns to ensure that they only contain valid data.\n",
        "\n",
        "Note that this exercise will focus only on cleaning inconsistent values and will not involve handling null values (NaN or None).\n",
        "\n",
        "*Hint*:\n",
        "- *Gender column contains various inconsistent values such as \"F\", \"M\", \"Femal\", \"Male\", \"female\", which need to be standardized, for example, to \"M\" and \"F\".*\n",
        "- *State abbreviations be can replaced with its full name, for example \"AZ\": \"Arizona\", \"Cali\": \"California\", \"WA\": \"Washington\"*\n",
        "- *In education, \"Bachelors\" could be replaced by \"Bachelor\"*\n",
        "- *In Customer Lifetime Value, delete the `%` character*\n",
        "- *In vehicle class, \"Sports Car\", \"Luxury SUV\" and \"Luxury Car\" could be replaced by \"Luxury\"*"
      ]
    },
    {
      "cell_type": "code",
      "execution_count": 5,
      "id": "3f8ee5cb-50ab-48af-8a9f-9a389804033c",
      "metadata": {
        "id": "3f8ee5cb-50ab-48af-8a9f-9a389804033c"
      },
      "outputs": [
        {
          "name": "stderr",
          "output_type": "stream",
          "text": [
            "C:\\Users\\torra\\AppData\\Local\\Temp\\ipykernel_9948\\758632501.py:2: FutureWarning: A value is trying to be set on a copy of a DataFrame or Series through chained assignment using an inplace method.\n",
            "The behavior will change in pandas 3.0. This inplace method will never work because the intermediate object on which we are setting values always behaves as a copy.\n",
            "\n",
            "For example, when doing 'df[col].method(value, inplace=True)', try using 'df.method({col: value}, inplace=True)' or df[col] = df[col].method(value) instead, to perform the operation inplace on the original object.\n",
            "\n",
            "\n",
            "  insurance_customers_df['gender'].replace({'Femal': 'F', 'female': 'F', 'Male': 'M'}, inplace=True)\n"
          ]
        }
      ],
      "source": [
        "# Standarize gender column to \"F\" and \"M\"\n",
        "insurance_customers_df['gender'].replace({'Femal': 'F', 'female': 'F', 'Male': 'M'}, inplace=True)"
      ]
    },
    {
      "cell_type": "code",
      "execution_count": 6,
      "id": "cd76c7cd",
      "metadata": {},
      "outputs": [
        {
          "name": "stderr",
          "output_type": "stream",
          "text": [
            "C:\\Users\\torra\\AppData\\Local\\Temp\\ipykernel_9948\\3995336495.py:2: FutureWarning: A value is trying to be set on a copy of a DataFrame or Series through chained assignment using an inplace method.\n",
            "The behavior will change in pandas 3.0. This inplace method will never work because the intermediate object on which we are setting values always behaves as a copy.\n",
            "\n",
            "For example, when doing 'df[col].method(value, inplace=True)', try using 'df.method({col: value}, inplace=True)' or df[col] = df[col].method(value) instead, to perform the operation inplace on the original object.\n",
            "\n",
            "\n",
            "  insurance_customers_df['education'].replace({'Bachelors': 'Bachelor'}, inplace=True)\n"
          ]
        }
      ],
      "source": [
        "#Standarize education column, when \"Bachelors\" change for \"Bachelor\"\n",
        "insurance_customers_df['education'].replace({'Bachelors': 'Bachelor'}, inplace=True)"
      ]
    },
    {
      "cell_type": "code",
      "execution_count": 7,
      "id": "bf7ddbc3",
      "metadata": {},
      "outputs": [
        {
          "name": "stderr",
          "output_type": "stream",
          "text": [
            "C:\\Users\\torra\\AppData\\Local\\Temp\\ipykernel_9948\\2627226909.py:3: FutureWarning: A value is trying to be set on a copy of a DataFrame or Series through chained assignment using an inplace method.\n",
            "The behavior will change in pandas 3.0. This inplace method will never work because the intermediate object on which we are setting values always behaves as a copy.\n",
            "\n",
            "For example, when doing 'df[col].method(value, inplace=True)', try using 'df.method({col: value}, inplace=True)' or df[col] = df[col].method(value) instead, to perform the operation inplace on the original object.\n",
            "\n",
            "\n",
            "  insurance_customers_df['vehicle_class'].replace({'Sports Car': 'Luxury', 'Luxury SUV': 'Luxury', 'Luxury Car': 'Luxury'}, inplace=True)\n"
          ]
        }
      ],
      "source": [
        "#Standarize vehicle_class column\n",
        "# \"Sports Car\", \"Luxury SUV\", \"Luxury Car\" replace with \"Luxury\"\n",
        "insurance_customers_df['vehicle_class'].replace({'Sports Car': 'Luxury', 'Luxury SUV': 'Luxury', 'Luxury Car': 'Luxury'}, inplace=True)"
      ]
    },
    {
      "cell_type": "code",
      "execution_count": 8,
      "id": "83e46bb2",
      "metadata": {},
      "outputs": [
        {
          "data": {
            "text/plain": [
              "0              NaN\n",
              "1        6979.5359\n",
              "2       12887.4317\n",
              "3        7645.8618\n",
              "4        5363.0765\n",
              "           ...    \n",
              "4003           NaN\n",
              "4004           NaN\n",
              "4005           NaN\n",
              "4006           NaN\n",
              "4007           NaN\n",
              "Name: customer_lifetime_value, Length: 4008, dtype: float64"
            ]
          },
          "execution_count": 8,
          "metadata": {},
          "output_type": "execute_result"
        }
      ],
      "source": [
        "#Delete the % character from customer lifetime value column\n",
        "insurance_customers_df['customer_lifetime_value'].str.replace('%','').astype(float)/100"
      ]
    },
    {
      "cell_type": "code",
      "execution_count": 9,
      "id": "a4014306",
      "metadata": {},
      "outputs": [
        {
          "name": "stdout",
          "output_type": "stream",
          "text": [
            "[nan 'F' 'M']\n"
          ]
        }
      ],
      "source": [
        "#Let's check the columns with changes\n",
        "#Gender column\n",
        "insurance_customers_df['gender'].unique()\n",
        "print(insurance_customers_df['gender'].unique())\n",
        "#The changes have been made, or values are 'F' , 'M' and nan values (to be clean later on)\n"
      ]
    },
    {
      "cell_type": "code",
      "execution_count": 10,
      "id": "84cb681f",
      "metadata": {},
      "outputs": [
        {
          "name": "stdout",
          "output_type": "stream",
          "text": [
            "['Master' 'Bachelor' 'High School or Below' 'College' 'Doctor' nan]\n"
          ]
        }
      ],
      "source": [
        "#Let's check the columns with changes\n",
        "#education column\n",
        "insurance_customers_df['education'].unique()\n",
        "print(insurance_customers_df['education'].unique())\n",
        "#The changes have been done succesfully\n",
        "#Note : there are nan values to adress later on"
      ]
    },
    {
      "cell_type": "code",
      "execution_count": 11,
      "id": "99507228",
      "metadata": {},
      "outputs": [
        {
          "name": "stdout",
          "output_type": "stream",
          "text": [
            "['Four-Door Car' 'Two-Door Car' 'SUV' 'Luxury' nan]\n"
          ]
        }
      ],
      "source": [
        "#Let's check the columns with changes\n",
        "#Vehicle class column\n",
        "insurance_customers_df['vehicle_class'].unique()\n",
        "print(insurance_customers_df['vehicle_class'].unique())\n",
        "#The changes have been done succesfully\n",
        "#Note : there are nan values to adress later on"
      ]
    },
    {
      "cell_type": "code",
      "execution_count": 12,
      "id": "572443cb",
      "metadata": {},
      "outputs": [
        {
          "name": "stdout",
          "output_type": "stream",
          "text": [
            "[nan '697953.59%' '1288743.17%' ... '2031499.76%' '323912.47%'\n",
            " '899704.02%']\n"
          ]
        }
      ],
      "source": [
        "#Let's check the columns with changes\n",
        "#customer lifetime value column\n",
        "insurance_customers_df['customer_lifetime_value'].unique()\n",
        "print(insurance_customers_df['customer_lifetime_value'].unique())"
      ]
    },
    {
      "cell_type": "code",
      "execution_count": 13,
      "id": "60dc2cce",
      "metadata": {},
      "outputs": [],
      "source": [
        "#Change state abbreviations to full name\n",
        "change_states={'AZ': 'Arizona', 'Cali': 'California', 'WA': 'Washington'}\n",
        "insurance_customers_df['st']=insurance_customers_df['st'].replace(change_states)"
      ]
    },
    {
      "cell_type": "code",
      "execution_count": 14,
      "id": "f6b449e6",
      "metadata": {},
      "outputs": [
        {
          "name": "stdout",
          "output_type": "stream",
          "text": [
            "<class 'pandas.core.frame.DataFrame'>\n",
            "RangeIndex: 4008 entries, 0 to 4007\n",
            "Data columns (total 11 columns):\n",
            " #   Column                     Non-Null Count  Dtype  \n",
            "---  ------                     --------------  -----  \n",
            " 0   customer                   1071 non-null   object \n",
            " 1   st                         1071 non-null   object \n",
            " 2   gender                     954 non-null    object \n",
            " 3   education                  1071 non-null   object \n",
            " 4   customer_lifetime_value    1068 non-null   object \n",
            " 5   income                     1071 non-null   float64\n",
            " 6   monthly_premium_auto       1071 non-null   float64\n",
            " 7   number_of_open_complaints  1071 non-null   object \n",
            " 8   policy_type                1071 non-null   object \n",
            " 9   vehicle_class              1071 non-null   object \n",
            " 10  total_claim_amount         1071 non-null   float64\n",
            "dtypes: float64(3), object(8)\n",
            "memory usage: 344.6+ KB\n"
          ]
        }
      ],
      "source": [
        "insurance_customers_df.info()"
      ]
    },
    {
      "cell_type": "markdown",
      "id": "85ff78ce-0174-4890-9db3-8048b7d7d2d0",
      "metadata": {
        "id": "85ff78ce-0174-4890-9db3-8048b7d7d2d0"
      },
      "source": [
        "## Exercise 3: Formatting data types"
      ]
    },
    {
      "cell_type": "markdown",
      "id": "b91c2cf8-79a2-4baf-9f65-ff2fb22270bd",
      "metadata": {
        "id": "b91c2cf8-79a2-4baf-9f65-ff2fb22270bd"
      },
      "source": [
        "The data types of many columns in the dataset appear to be incorrect. This could impact the accuracy of our analysis. To ensure accurate analysis, we need to correct the data types of these columns. Please update the data types of the columns as appropriate."
      ]
    },
    {
      "cell_type": "markdown",
      "id": "43e5d853-ff9e-43b2-9d92-aef2f78764f3",
      "metadata": {
        "id": "43e5d853-ff9e-43b2-9d92-aef2f78764f3"
      },
      "source": [
        "It is important to note that this exercise does not involve handling null values (NaN or None)."
      ]
    },
    {
      "cell_type": "markdown",
      "id": "329ca691-9196-4419-8969-3596746237a1",
      "metadata": {
        "id": "329ca691-9196-4419-8969-3596746237a1"
      },
      "source": [
        "*Hint*:\n",
        "- *Customer lifetime value should be numeric*\n",
        "- *Number of open complaints has an incorrect format. Look at the different values it takes with `unique()` and take the middle value. As an example, 1/5/00 should be 5. Number of open complaints is a string - remember you can use `split()` to deal with it and take the number you need. Finally, since it should be numeric, cast the column to be in its proper type.*"
      ]
    },
    {
      "cell_type": "code",
      "execution_count": 15,
      "id": "eb8f5991-73e9-405f-bf1c-6b7c589379a9",
      "metadata": {
        "id": "eb8f5991-73e9-405f-bf1c-6b7c589379a9"
      },
      "outputs": [
        {
          "data": {
            "text/plain": [
              "array(['1/0/00', '1/2/00', '1/1/00', '1/3/00', '1/5/00', '1/4/00', nan],\n",
              "      dtype=object)"
            ]
          },
          "execution_count": 15,
          "metadata": {},
          "output_type": "execute_result"
        }
      ],
      "source": [
        "#Observe the characteristics of the variable Number of Open Complaints with unique()\n",
        "insurance_customers_df['number_of_open_complaints'].unique()"
      ]
    },
    {
      "cell_type": "code",
      "execution_count": 16,
      "id": "c2565504",
      "metadata": {},
      "outputs": [],
      "source": [
        "#Using only the number on the middle\n",
        "#link:https://pandas.pydata.org/docs/reference/api/pandas.Series.str.split.html#pandas.Series.str.split\n",
        "insurance_customers_df['number_of_open_complaints'] = insurance_customers_df['number_of_open_complaints'].astype(str).str.split(\"/\").str[1]\n",
        "\n",
        "\n"
      ]
    },
    {
      "cell_type": "code",
      "execution_count": 17,
      "id": "5ba581fb",
      "metadata": {},
      "outputs": [
        {
          "data": {
            "text/plain": [
              "array(['0', '2', '1', '3', '5', '4', nan], dtype=object)"
            ]
          },
          "execution_count": 17,
          "metadata": {},
          "output_type": "execute_result"
        }
      ],
      "source": [
        "#We can check how the column is transforming\n",
        "insurance_customers_df['number_of_open_complaints'].unique()"
      ]
    },
    {
      "cell_type": "code",
      "execution_count": null,
      "id": "41c34bc7",
      "metadata": {},
      "outputs": [],
      "source": [
        "\n"
      ]
    },
    {
      "cell_type": "markdown",
      "id": "14c52e28-2d0c-4dd2-8bd5-3476e34fadc1",
      "metadata": {
        "id": "14c52e28-2d0c-4dd2-8bd5-3476e34fadc1"
      },
      "source": [
        "## Exercise 4: Dealing with Null values"
      ]
    },
    {
      "cell_type": "markdown",
      "id": "34b9a20f-7d32-4417-975e-1b4dfb0e16cd",
      "metadata": {
        "id": "34b9a20f-7d32-4417-975e-1b4dfb0e16cd"
      },
      "source": [
        "Identify any columns with null or missing values. Identify how many null values each column has. You can use the `isnull()` function in pandas to find columns with null values.\n",
        "\n",
        "Decide on a strategy for handling the null values. There are several options, including:\n",
        "\n",
        "- Drop the rows or columns with null values\n",
        "- Fill the null values with a specific value (such as the column mean or median for numerical variables, and mode for categorical variables)\n",
        "- Fill the null values with the previous or next value in the column\n",
        "- Fill the null values based on a more complex algorithm or model (note: we haven't covered this yet)\n",
        "\n",
        "Implement your chosen strategy to handle the null values. You can use the `fillna()` function in pandas to fill null values or `dropna()` function to drop null values.\n",
        "\n",
        "Verify that your strategy has successfully handled the null values. You can use the `isnull()` function again to check if there are still null values in the dataset.\n",
        "\n",
        "Remember to document your process and explain your reasoning for choosing a particular strategy for handling null values.\n",
        "\n",
        "After formatting data types, as a last step, convert all the numeric variables to integers."
      ]
    },
    {
      "cell_type": "code",
      "execution_count": 18,
      "id": "31ffa0ee",
      "metadata": {},
      "outputs": [
        {
          "data": {
            "text/plain": [
              "customer                     True\n",
              "st                           True\n",
              "gender                       True\n",
              "education                    True\n",
              "customer_lifetime_value      True\n",
              "income                       True\n",
              "monthly_premium_auto         True\n",
              "number_of_open_complaints    True\n",
              "policy_type                  True\n",
              "vehicle_class                True\n",
              "total_claim_amount           True\n",
              "dtype: bool"
            ]
          },
          "execution_count": 18,
          "metadata": {},
          "output_type": "execute_result"
        }
      ],
      "source": [
        "#Checking for Nan values in each column\n",
        "insurance_customers_df.isna().any()\n",
        "#As we can see all columns have Nan values "
      ]
    },
    {
      "cell_type": "code",
      "execution_count": 19,
      "id": "018c6cf1",
      "metadata": {},
      "outputs": [
        {
          "data": {
            "text/plain": [
              "customer                     2937\n",
              "st                           2937\n",
              "gender                       3054\n",
              "education                    2937\n",
              "customer_lifetime_value      2940\n",
              "income                       2937\n",
              "monthly_premium_auto         2937\n",
              "number_of_open_complaints    2937\n",
              "policy_type                  2937\n",
              "vehicle_class                2937\n",
              "total_claim_amount           2937\n",
              "dtype: int64"
            ]
          },
          "execution_count": 19,
          "metadata": {},
          "output_type": "execute_result"
        }
      ],
      "source": [
        "#It's is useful to know how many Nan values are in each column\n",
        "insurance_customers_df.isna().sum()\n",
        "#The number of Nan values is high in all cases, close to 70% \n",
        "#The column with more Nan values is the 'gender' column\n",
        "#Deleting such a high number of datapoints could potentially harm our analysis\n",
        "\n"
      ]
    },
    {
      "cell_type": "code",
      "execution_count": 20,
      "id": "e74f6548",
      "metadata": {},
      "outputs": [
        {
          "name": "stdout",
          "output_type": "stream",
          "text": [
            "0        2\n",
            "1        0\n",
            "2        0\n",
            "3        0\n",
            "4        0\n",
            "        ..\n",
            "4003    11\n",
            "4004    11\n",
            "4005    11\n",
            "4006    11\n",
            "4007    11\n",
            "Length: 4008, dtype: int64\n"
          ]
        }
      ],
      "source": [
        "#Thoughts going forward\n",
        "#We want to save as much information as possible.\n",
        "#At the same time if there are too many missing values for the same observation, it's not worth saving it\n",
        "#link:https://saturncloud.io/blog/how-to-count-the-number-of-missingnan-values-in-each-row-in-python-pandas/#:~:text=(axis%3D1)-,To%20count%20the%20number%20of%20missing%2FNaN%20values%20in%20each,True%20indicates%20a%20missing%20value.\n",
        "row_nan_count = insurance_customers_df.isna().sum(axis=1)\n",
        "\n",
        "print(row_nan_count)"
      ]
    },
    {
      "cell_type": "code",
      "execution_count": 21,
      "id": "407ba841",
      "metadata": {},
      "outputs": [],
      "source": [
        "#As we can see there are observations with all their values blank and some with just one or two\n",
        "#We can set a limit, if they have more than five values, they are dropped\n",
        "#link:https://pandas.pydata.org/docs/reference/api/pandas.DataFrame.dropna.html\n",
        "insurance_customers_df=insurance_customers_df.dropna(thresh=6) # Keep only the rows with at least 6 non-NA values"
      ]
    },
    {
      "cell_type": "code",
      "execution_count": 22,
      "id": "cf5ac928",
      "metadata": {},
      "outputs": [
        {
          "data": {
            "text/plain": [
              "customer                     False\n",
              "st                           False\n",
              "gender                        True\n",
              "education                    False\n",
              "customer_lifetime_value       True\n",
              "income                       False\n",
              "monthly_premium_auto         False\n",
              "number_of_open_complaints    False\n",
              "policy_type                  False\n",
              "vehicle_class                False\n",
              "total_claim_amount           False\n",
              "dtype: bool"
            ]
          },
          "execution_count": 22,
          "metadata": {},
          "output_type": "execute_result"
        }
      ],
      "source": [
        "#Let's check again if we have any Nan values to clean\n",
        "insurance_customers_df.isna().any()\n",
        "#We can see that we still have Nan values in the columns 'gender' and 'customer lifetime value'\n"
      ]
    },
    {
      "cell_type": "code",
      "execution_count": 23,
      "id": "1766a9f7",
      "metadata": {},
      "outputs": [
        {
          "data": {
            "text/plain": [
              "customer                       0\n",
              "st                             0\n",
              "gender                       117\n",
              "education                      0\n",
              "customer_lifetime_value        3\n",
              "income                         0\n",
              "monthly_premium_auto           0\n",
              "number_of_open_complaints      0\n",
              "policy_type                    0\n",
              "vehicle_class                  0\n",
              "total_claim_amount             0\n",
              "dtype: int64"
            ]
          },
          "execution_count": 23,
          "metadata": {},
          "output_type": "execute_result"
        }
      ],
      "source": [
        "#It's is useful to know how many Nan values are in each column\n",
        "insurance_customers_df.isna().sum()"
      ]
    },
    {
      "cell_type": "code",
      "execution_count": null,
      "id": "cc81c00f",
      "metadata": {},
      "outputs": [],
      "source": []
    },
    {
      "cell_type": "markdown",
      "id": "98416351-e999-4156-9834-9b00a311adfa",
      "metadata": {
        "id": "98416351-e999-4156-9834-9b00a311adfa"
      },
      "source": [
        "## Exercise 5: Dealing with duplicates"
      ]
    },
    {
      "cell_type": "markdown",
      "id": "ea0816a7-a18e-4d4c-b667-a8452a800bd1",
      "metadata": {
        "id": "ea0816a7-a18e-4d4c-b667-a8452a800bd1"
      },
      "source": [
        "Use the `.duplicated()` method to identify any duplicate rows in the dataframe.\n",
        "\n",
        "Decide on a strategy for handling the duplicates. Options include:\n",
        "- Dropping all duplicate rows\n",
        "- Keeping only the first occurrence of each duplicated row\n",
        "- Keeping only the last occurrence of each duplicated row\n",
        "- Dropping duplicates based on a subset of columns\n",
        "- Dropping duplicates based on a specific column\n",
        "\n",
        "Implement your chosen strategy using the `drop_duplicates()` function.\n",
        "\n",
        "Verify that your strategy has successfully handled the duplicates by checking for duplicates again using `.duplicated()`.\n",
        "\n",
        "Remember to document your process and explain your reasoning for choosing a particular strategy for handling duplicates.\n",
        "\n",
        "Save the cleaned dataset to a new CSV file.\n",
        "\n",
        "*Hint*: *after dropping duplicates, reset the index to ensure consistency*."
      ]
    },
    {
      "cell_type": "code",
      "execution_count": 24,
      "id": "1929362c-47ed-47cb-baca-358b78d401a0",
      "metadata": {
        "id": "1929362c-47ed-47cb-baca-358b78d401a0"
      },
      "outputs": [],
      "source": [
        "insurance_customers_df=insurance_customers_df.drop_duplicates(keep='last')"
      ]
    },
    {
      "cell_type": "code",
      "execution_count": 25,
      "id": "bd3aaee4",
      "metadata": {},
      "outputs": [],
      "source": [
        "insurance_customers_df.to_csv(\"insurance_customers_df_clean.csv\")"
      ]
    },
    {
      "cell_type": "markdown",
      "id": "60840701-4783-40e2-b4d8-55303f9100c9",
      "metadata": {
        "id": "60840701-4783-40e2-b4d8-55303f9100c9"
      },
      "source": [
        "# Bonus: Challenge 2: creating functions on a separate `py` file"
      ]
    },
    {
      "cell_type": "markdown",
      "id": "9d1adb3a-17cf-4899-8041-da21a4337fb4",
      "metadata": {
        "id": "9d1adb3a-17cf-4899-8041-da21a4337fb4"
      },
      "source": [
        "Put all the data cleaning and formatting steps into functions, and create a main function that performs all the cleaning and formatting.\n",
        "\n",
        "Write these functions in separate .py file(s). By putting these steps into functions, we can make the code more modular and easier to maintain."
      ]
    },
    {
      "cell_type": "markdown",
      "id": "0e170dc2-b62c-417a-8248-e63ed18a70c4",
      "metadata": {
        "id": "0e170dc2-b62c-417a-8248-e63ed18a70c4"
      },
      "source": [
        "*Hint: autoreload module is a utility module in Python that allows you to automatically reload modules in the current session when changes are made to the source code. This can be useful in situations where you are actively developing code and want to see the effects of changes you make without having to constantly restart the Python interpreter or Jupyter Notebook kernel.*"
      ]
    },
    {
      "cell_type": "code",
      "execution_count": 26,
      "id": "a52c6dfc-cd11-4d01-bda4-f719fa33e9a4",
      "metadata": {
        "id": "a52c6dfc-cd11-4d01-bda4-f719fa33e9a4"
      },
      "outputs": [],
      "source": [
        "# Your code here"
      ]
    },
    {
      "cell_type": "markdown",
      "id": "80f846bb-3f5e-4ca2-96c0-900728daca5a",
      "metadata": {
        "id": "80f846bb-3f5e-4ca2-96c0-900728daca5a",
        "tags": []
      },
      "source": [
        "# Bonus: Challenge 3: Analyzing Clean and Formated Data"
      ]
    },
    {
      "cell_type": "markdown",
      "id": "9021630e-cc90-446c-b5bd-264d6c864207",
      "metadata": {
        "id": "9021630e-cc90-446c-b5bd-264d6c864207"
      },
      "source": [
        "You have been tasked with analyzing the data to identify potential areas for improving customer retention and profitability. Your goal is to identify customers with a high policy claim amount and a low customer lifetime value.\n",
        "\n",
        "In the Pandas Lab, we only looked at high policy claim amounts because we couldn't look into low customer lifetime values. If we had tried to work with that column, we wouldn't have been able to because customer lifetime value wasn't clean and in its proper format. So after cleaning and formatting the data, let's get some more interesting insights!\n",
        "\n",
        "Instructions:\n",
        "\n",
        "- Review the statistics again for total claim amount and customer lifetime value to gain an understanding of the data.\n",
        "- To identify potential areas for improving customer retention and profitability, we want to focus on customers with a high policy claim amount and a low customer lifetime value. Consider customers with a high policy claim amount to be those in the top 25% of the total claim amount, and clients with a low customer lifetime value to be those in the bottom 25% of the customer lifetime value. Create a pandas DataFrame object that contains information about customers with a policy claim amount greater than the 75th percentile and a customer lifetime value in the bottom 25th percentile.\n",
        "- Use DataFrame methods to calculate summary statistics about the high policy claim amount and low customer lifetime value data. To do so, select both columns of the dataframe simultaneously and pass it to the `.describe()` method. This will give you descriptive statistics, such as mean, median, standard deviation, minimum and maximum values for both columns at the same time, allowing you to compare and analyze their characteristics."
      ]
    },
    {
      "cell_type": "code",
      "execution_count": 27,
      "id": "211e82b5-461a-4d6f-8a23-4deccb84173c",
      "metadata": {
        "id": "211e82b5-461a-4d6f-8a23-4deccb84173c"
      },
      "outputs": [],
      "source": [
        "#Get the data\n",
        "#For this lab, we will continue using the csv file that was downloaded in the previous lab as well as the Jupyter Notebook.\n",
        "\n",
        "\n",
        "#EDA (Exploratory Data Analysis) - Complete the following tasks to explore the data:\n",
        "#Show DataFrame info.\n",
        "#Describe DataFrame.\n",
        "#Show a plot of the Gender breakdown.\n",
        "#Show a plot of Income by State.\n",
        "#Show a plot of the Policy Type by the Total Claim Amount.\n",
        "#Show a plot of the Education by Vehicle Class.\n",
        "#What insights can you establish from these plots?\n",
        "#What other plots do you feel would be beneficial?"
      ]
    },
    {
      "cell_type": "code",
      "execution_count": 28,
      "id": "4e5bc88d",
      "metadata": {},
      "outputs": [
        {
          "name": "stdout",
          "output_type": "stream",
          "text": [
            "<class 'pandas.core.frame.DataFrame'>\n",
            "Index: 1071 entries, 0 to 1070\n",
            "Data columns (total 11 columns):\n",
            " #   Column                     Non-Null Count  Dtype  \n",
            "---  ------                     --------------  -----  \n",
            " 0   customer                   1071 non-null   object \n",
            " 1   st                         1071 non-null   object \n",
            " 2   gender                     954 non-null    object \n",
            " 3   education                  1071 non-null   object \n",
            " 4   customer_lifetime_value    1068 non-null   object \n",
            " 5   income                     1071 non-null   float64\n",
            " 6   monthly_premium_auto       1071 non-null   float64\n",
            " 7   number_of_open_complaints  1071 non-null   object \n",
            " 8   policy_type                1071 non-null   object \n",
            " 9   vehicle_class              1071 non-null   object \n",
            " 10  total_claim_amount         1071 non-null   float64\n",
            "dtypes: float64(3), object(8)\n",
            "memory usage: 100.4+ KB\n"
          ]
        }
      ],
      "source": [
        "#Use the clean dataframe from the previous exercise\n",
        "#Show DataFrame info (check we are using the correct dataframe with changes)\n",
        "insurance_customers_df.info()"
      ]
    },
    {
      "cell_type": "code",
      "execution_count": 29,
      "id": "817a121b",
      "metadata": {},
      "outputs": [],
      "source": [
        "#Seeing the above table we get a feeling that there might be more null values in gender\n",
        "#we have to options to drop them or to fill them\n",
        "insurance_customers_df=insurance_customers_df.dropna(subset=['gender'])"
      ]
    },
    {
      "cell_type": "code",
      "execution_count": 30,
      "id": "065125b8",
      "metadata": {},
      "outputs": [
        {
          "name": "stdout",
          "output_type": "stream",
          "text": [
            "<class 'pandas.core.frame.DataFrame'>\n",
            "Index: 954 entries, 1 to 1070\n",
            "Data columns (total 11 columns):\n",
            " #   Column                     Non-Null Count  Dtype  \n",
            "---  ------                     --------------  -----  \n",
            " 0   customer                   954 non-null    object \n",
            " 1   st                         954 non-null    object \n",
            " 2   gender                     954 non-null    object \n",
            " 3   education                  954 non-null    object \n",
            " 4   customer_lifetime_value    952 non-null    object \n",
            " 5   income                     954 non-null    float64\n",
            " 6   monthly_premium_auto       954 non-null    float64\n",
            " 7   number_of_open_complaints  954 non-null    object \n",
            " 8   policy_type                954 non-null    object \n",
            " 9   vehicle_class              954 non-null    object \n",
            " 10  total_claim_amount         954 non-null    float64\n",
            "dtypes: float64(3), object(8)\n",
            "memory usage: 89.4+ KB\n"
          ]
        }
      ],
      "source": [
        "#Let's check \n",
        "insurance_customers_df.info()\n",
        "#Now we know that there are no extra missing values in gender"
      ]
    },
    {
      "cell_type": "code",
      "execution_count": 31,
      "id": "e2cdfa56",
      "metadata": {},
      "outputs": [
        {
          "data": {
            "text/html": [
              "<div>\n",
              "<style scoped>\n",
              "    .dataframe tbody tr th:only-of-type {\n",
              "        vertical-align: middle;\n",
              "    }\n",
              "\n",
              "    .dataframe tbody tr th {\n",
              "        vertical-align: top;\n",
              "    }\n",
              "\n",
              "    .dataframe thead th {\n",
              "        text-align: right;\n",
              "    }\n",
              "</style>\n",
              "<table border=\"1\" class=\"dataframe\">\n",
              "  <thead>\n",
              "    <tr style=\"text-align: right;\">\n",
              "      <th></th>\n",
              "      <th>income</th>\n",
              "      <th>monthly_premium_auto</th>\n",
              "      <th>total_claim_amount</th>\n",
              "    </tr>\n",
              "  </thead>\n",
              "  <tbody>\n",
              "    <tr>\n",
              "      <th>count</th>\n",
              "      <td>954.000000</td>\n",
              "      <td>954.000000</td>\n",
              "      <td>954.000000</td>\n",
              "    </tr>\n",
              "    <tr>\n",
              "      <th>mean</th>\n",
              "      <td>39575.926625</td>\n",
              "      <td>204.967505</td>\n",
              "      <td>404.432066</td>\n",
              "    </tr>\n",
              "    <tr>\n",
              "      <th>std</th>\n",
              "      <td>30716.703798</td>\n",
              "      <td>1695.980015</td>\n",
              "      <td>299.211349</td>\n",
              "    </tr>\n",
              "    <tr>\n",
              "      <th>min</th>\n",
              "      <td>0.000000</td>\n",
              "      <td>61.000000</td>\n",
              "      <td>0.382107</td>\n",
              "    </tr>\n",
              "    <tr>\n",
              "      <th>25%</th>\n",
              "      <td>13364.750000</td>\n",
              "      <td>68.000000</td>\n",
              "      <td>194.621742</td>\n",
              "    </tr>\n",
              "    <tr>\n",
              "      <th>50%</th>\n",
              "      <td>36641.500000</td>\n",
              "      <td>83.000000</td>\n",
              "      <td>350.400000</td>\n",
              "    </tr>\n",
              "    <tr>\n",
              "      <th>75%</th>\n",
              "      <td>64948.000000</td>\n",
              "      <td>110.000000</td>\n",
              "      <td>532.800000</td>\n",
              "    </tr>\n",
              "    <tr>\n",
              "      <th>max</th>\n",
              "      <td>99960.000000</td>\n",
              "      <td>35354.000000</td>\n",
              "      <td>2893.239678</td>\n",
              "    </tr>\n",
              "  </tbody>\n",
              "</table>\n",
              "</div>"
            ],
            "text/plain": [
              "             income  monthly_premium_auto  total_claim_amount\n",
              "count    954.000000            954.000000          954.000000\n",
              "mean   39575.926625            204.967505          404.432066\n",
              "std    30716.703798           1695.980015          299.211349\n",
              "min        0.000000             61.000000            0.382107\n",
              "25%    13364.750000             68.000000          194.621742\n",
              "50%    36641.500000             83.000000          350.400000\n",
              "75%    64948.000000            110.000000          532.800000\n",
              "max    99960.000000          35354.000000         2893.239678"
            ]
          },
          "execution_count": 31,
          "metadata": {},
          "output_type": "execute_result"
        }
      ],
      "source": [
        "#Describe DataFrame.\n",
        "insurance_customers_df.describe()"
      ]
    },
    {
      "cell_type": "code",
      "execution_count": 32,
      "id": "3040ce22",
      "metadata": {},
      "outputs": [],
      "source": [
        "#Before using graphs, import the necessary tools\n",
        "\n",
        "import matplotlib.pyplot as plt\n",
        "import seaborn as sns"
      ]
    },
    {
      "cell_type": "code",
      "execution_count": 33,
      "id": "afda4872",
      "metadata": {},
      "outputs": [
        {
          "data": {
            "text/plain": [
              "[Text(0, 0, 'Male'), Text(1, 0, 'Female')]"
            ]
          },
          "execution_count": 33,
          "metadata": {},
          "output_type": "execute_result"
        },
        {
          "data": {
            "image/png": "[encoded data removed]",
            "text/plain": [
              "<Figure size 600x500 with 1 Axes>"
            ]
          },
          "metadata": {},
          "output_type": "display_data"
        }
      ],
      "source": [
        "#Show a plot of the Gender breakdown.\n",
        "#link :https://stackoverflow.com/questions/70664177/better-way-to-plot-gender-count-using-python\n",
        "gender = insurance_customers_df['gender'].value_counts()\n",
        "plt.figure(figsize=(6, 5))\n",
        "ax = gender.plot(kind='bar', rot=45, color=\"c\")\n",
        "ax.set_title(\"Number of Insurance Customers by Gender\", y = 1)\n",
        "ax.set_xlabel('Gender')\n",
        "ax.set_ylabel('Number of Insurance Customers')\n",
        "ax.set_xticklabels(('Male', 'Female'))\n",
        "#Looking at the graph we can see that there isn't a great difference btw 'female' and 'male'.\n",
        "#A possibility explaining the difference is that some families might have just one car, and the policy is under the husband's name."
      ]
    },
    {
      "cell_type": "code",
      "execution_count": 34,
      "id": "e48d2eee",
      "metadata": {},
      "outputs": [
        {
          "data": {
            "text/plain": [
              "Text(0, 0.5, 'State')"
            ]
          },
          "execution_count": 34,
          "metadata": {},
          "output_type": "execute_result"
        },
        {
          "data": {
            "image/png": "[encoded data removed]",
            "text/plain": [
              "<Figure size 900x700 with 1 Axes>"
            ]
          },
          "metadata": {},
          "output_type": "display_data"
        }
      ],
      "source": [
        "#Show a plot of Income by State.\n",
        "#Note: using a 9:7 size chart instead of the previous 6:5 because there are more variables\n",
        "st_order = insurance_customers_df['st'].value_counts().head(5).index\n",
        "plt.figure(figsize=(9, 7))\n",
        "sns.countplot(data=insurance_customers_df, y='st', order=st_order)\n",
        "plt.title('State Income order by number of insurance policies')\n",
        "plt.xlabel('Income')\n",
        "plt.ylabel('State')\n",
        "#link: https://www.analyticsvidhya.com/blog/2021/08/understanding-bar-plots-in-python-beginners-guide-to-data-visualization/"
      ]
    },
    {
      "cell_type": "code",
      "execution_count": 35,
      "id": "17998e30",
      "metadata": {},
      "outputs": [
        {
          "data": {
            "text/plain": [
              "st\n",
              "California    293\n",
              "Oregon        276\n",
              "Arizona       188\n",
              "Washington    108\n",
              "Nevada         89\n",
              "Name: count, dtype: int64"
            ]
          },
          "execution_count": 35,
          "metadata": {},
          "output_type": "execute_result"
        }
      ],
      "source": [
        "#Checking the order of the graph \n",
        "insurance_customers_df['st'].value_counts()\n",
        "#Observation 1: the state with the largest number of insurance policies is the state with the largest income\n",
        "#Observation 2: Oregon and California have pretty similar numbers\n",
        "#Observation 3: Washington and Nevada have similar numbers\n",
        "#Observation 4: Arizona has mid-tier values, that do not asimilate to the other two groups\n",
        "#IDEAS to explore: Maybe there are three sub-categories: high, medium and low "
      ]
    },
    {
      "cell_type": "code",
      "execution_count": 36,
      "id": "2ce368f6",
      "metadata": {},
      "outputs": [
        {
          "data": {
            "image/png": "[encoded data removed]",
            "text/plain": [
              "<Figure size 640x480 with 1 Axes>"
            ]
          },
          "metadata": {},
          "output_type": "display_data"
        }
      ],
      "source": [
        "#Show a plot of Total Claim Amount by policy type.\n",
        "#Use mean values because there are to many values\n",
        "#Note: mainteining size chart (9:7)\n",
        "TotalCA_df = insurance_customers_df.groupby(['policy_type'])['total_claim_amount'].mean()\n",
        "ax = TotalCA_df.plot.bar(x='policy_type', y='total_claim_amount(mean values)', rot=90)\n",
        "#Observation 1: The isn't a drastic difference btw policy types\n",
        "#Observation 2: We are missing the 'luxury' category, that has been drop because it had to many missing values\n",
        "#Thoughts : it would be intersting to explore the luxury category alone, also i might be intersting to break down this graph by state"
      ]
    },
    {
      "cell_type": "code",
      "execution_count": 37,
      "id": "2e82dd0a",
      "metadata": {},
      "outputs": [
        {
          "data": {
            "image/png": "[encoded data removed]",
            "text/plain": [
              "<Figure size 640x480 with 1 Axes>"
            ]
          },
          "metadata": {},
          "output_type": "display_data"
        }
      ],
      "source": [
        "#Show a plot of the Education by Vehicle Class.\n",
        "sns.scatterplot(x='vehicle_class',y='education',data=insurance_customers_df)\n",
        "plt.show()\n"
      ]
    },
    {
      "cell_type": "code",
      "execution_count": 38,
      "id": "ee57fa72",
      "metadata": {},
      "outputs": [],
      "source": [
        "#What insights can you establish from these plots?\n",
        "#There is a strong difference in income by state\n",
        "#The average claim amount is not so sensitive to the policy type, the corporate premium is small\n",
        "#The difference btw women and men is small; but I might by good to check if this holds the same in all markets (states)"
      ]
    },
    {
      "cell_type": "code",
      "execution_count": 39,
      "id": "19fc8bb2",
      "metadata": {},
      "outputs": [],
      "source": [
        "#What other plots do you feel would be beneficial?\n",
        "#It would be benefitial to do an histogram plot for each variable, to learn their distribution and see if there are outliers\n",
        "#It would be beneficial to analyze the correlation btw variables"
      ]
    },
    {
      "cell_type": "code",
      "execution_count": 40,
      "id": "4518435c",
      "metadata": {},
      "outputs": [],
      "source": [
        "#Use the jupyter file from the last lab (Customer Analysis Round 4)\n",
        "\n",
        "#You do NOT need to fork and clone this lab.\n",
        "#Complete the following task\n",
        "##Check the data types of the columns. Get the numeric data into a dataframe called numerical and categorical columns in a dataframe called categorical. (You can use np.number and object to select the numerical data types and categorical data types respectively)\n",
        "#Now we will try to check the normality of the numerical variables visually\n",
        "#Use seaborn library to construct distribution plots for the numerical variables\n",
        "#Use Matplotlib to construct histograms\n",
        "#Do the distributions for different numerical variables look like a normal distribution?\n",
        "#For the numerical variables, check the multicollinearity between the features. Please note that we will use the column total_claim_amount later as the target variable.\n",
        "#Drop one of the two features that show a high correlation between them (greater than 0.9). Write code for both the correlation matrix and for seaborn heatmap. If there is no pair of features that have a high correlation, then do not drop any features"
      ]
    },
    {
      "cell_type": "code",
      "execution_count": 41,
      "id": "34108ed5",
      "metadata": {},
      "outputs": [
        {
          "data": {
            "text/plain": [
              "customer                      object\n",
              "st                            object\n",
              "gender                        object\n",
              "education                     object\n",
              "customer_lifetime_value       object\n",
              "income                       float64\n",
              "monthly_premium_auto         float64\n",
              "number_of_open_complaints     object\n",
              "policy_type                   object\n",
              "vehicle_class                 object\n",
              "total_claim_amount           float64\n",
              "dtype: object"
            ]
          },
          "execution_count": 41,
          "metadata": {},
          "output_type": "execute_result"
        }
      ],
      "source": [
        "#Check the data types of the columns\n",
        "insurance_customers_df.dtypes"
      ]
    },
    {
      "cell_type": "code",
      "execution_count": 42,
      "id": "bc241f7d",
      "metadata": {},
      "outputs": [],
      "source": [
        "# Get the numeric data into a dataframe called numerical and categorical columns in a dataframe called categorical. \n",
        "#(You can use np.number and object to select the numerical data types and categorical data types respectively)\n",
        "numeric_dataIC = insurance_customers_df.select_dtypes(include=[np.number])\n",
        "categorical_dataIC = insurance_customers_df.select_dtypes(exclude=[np.number])\n",
        "\n"
      ]
    },
    {
      "cell_type": "code",
      "execution_count": 43,
      "id": "c01d9342",
      "metadata": {},
      "outputs": [
        {
          "name": "stdout",
          "output_type": "stream",
          "text": [
            "<class 'pandas.core.frame.DataFrame'>\n",
            "Index: 954 entries, 1 to 1070\n",
            "Data columns (total 3 columns):\n",
            " #   Column                Non-Null Count  Dtype  \n",
            "---  ------                --------------  -----  \n",
            " 0   income                954 non-null    float64\n",
            " 1   monthly_premium_auto  954 non-null    float64\n",
            " 2   total_claim_amount    954 non-null    float64\n",
            "dtypes: float64(3)\n",
            "memory usage: 29.8 KB\n"
          ]
        }
      ],
      "source": [
        "#Let's check the numerical dataframe\n",
        "numeric_dataIC.info()\n"
      ]
    },
    {
      "cell_type": "code",
      "execution_count": 44,
      "id": "1d967f96",
      "metadata": {},
      "outputs": [
        {
          "name": "stdout",
          "output_type": "stream",
          "text": [
            "<class 'pandas.core.frame.DataFrame'>\n",
            "Index: 954 entries, 1 to 1070\n",
            "Data columns (total 8 columns):\n",
            " #   Column                     Non-Null Count  Dtype \n",
            "---  ------                     --------------  ----- \n",
            " 0   customer                   954 non-null    object\n",
            " 1   st                         954 non-null    object\n",
            " 2   gender                     954 non-null    object\n",
            " 3   education                  954 non-null    object\n",
            " 4   customer_lifetime_value    952 non-null    object\n",
            " 5   number_of_open_complaints  954 non-null    object\n",
            " 6   policy_type                954 non-null    object\n",
            " 7   vehicle_class              954 non-null    object\n",
            "dtypes: object(8)\n",
            "memory usage: 67.1+ KB\n"
          ]
        }
      ],
      "source": [
        "#Let's check the categorical dataframe\n",
        "categorical_dataIC.info()"
      ]
    },
    {
      "cell_type": "code",
      "execution_count": 45,
      "id": "ff7b9c7a",
      "metadata": {},
      "outputs": [],
      "source": [
        "#Now we will try to check the normality of the numerical variables visually\n"
      ]
    },
    {
      "cell_type": "code",
      "execution_count": 46,
      "id": "ba2fdd88",
      "metadata": {},
      "outputs": [],
      "source": [
        "#Use seaborn library to construct distribution plots for the numerical variables\n",
        "#link: https://seaborn.pydata.org/generated/seaborn.scatterplot.html\n",
        "#link:https://seaborn.pydata.org/generated/seaborn.scatterplot.html\n"
      ]
    },
    {
      "cell_type": "code",
      "execution_count": 47,
      "id": "08930df7",
      "metadata": {},
      "outputs": [
        {
          "data": {
            "text/plain": [
              "<seaborn.axisgrid.PairGrid at 0x21bc1e64250>"
            ]
          },
          "execution_count": 47,
          "metadata": {},
          "output_type": "execute_result"
        },
        {
          "data": {
            "image/png": "[encoded data removed]",
            "text/plain": [
              "<Figure size 750x750 with 12 Axes>"
            ]
          },
          "metadata": {},
          "output_type": "display_data"
        }
      ],
      "source": [
        "sns.pairplot(numeric_dataIC)"
      ]
    },
    {
      "cell_type": "code",
      "execution_count": 48,
      "id": "450183f0",
      "metadata": {},
      "outputs": [],
      "source": [
        "#As we seen in the graphs above both income and total_claim_amont have what appears to be a log-normal distribution\n",
        "#This resonates specially for income.\n",
        "#link: https://towardsdatascience.com/log-normal-distribution-a-simple-explanation-7605864fb67c\n",
        "# A log-normal distributions implies a long tail to the right"
      ]
    },
    {
      "cell_type": "code",
      "execution_count": 49,
      "id": "d1d25642",
      "metadata": {},
      "outputs": [
        {
          "data": {
            "image/png": "[encoded data removed]",
            "text/plain": [
              "<Figure size 640x480 with 1 Axes>"
            ]
          },
          "metadata": {},
          "output_type": "display_data"
        }
      ],
      "source": [
        "#Histogram for income\n",
        "numeric_dataIC['income'].hist(bins=20)\n",
        "plt.show()"
      ]
    },
    {
      "cell_type": "code",
      "execution_count": 50,
      "id": "17cda301",
      "metadata": {},
      "outputs": [
        {
          "data": {
            "image/png": "[encoded data removed]",
            "text/plain": [
              "<Figure size 640x480 with 1 Axes>"
            ]
          },
          "metadata": {},
          "output_type": "display_data"
        }
      ],
      "source": [
        "#Histogram for monthly premium auto\n",
        "numeric_dataIC['monthly_premium_auto'].hist(bins=20)\n",
        "plt.show()"
      ]
    },
    {
      "cell_type": "code",
      "execution_count": 51,
      "id": "92949d1b",
      "metadata": {},
      "outputs": [
        {
          "data": {
            "image/png": "[encoded data removed]",
            "text/plain": [
              "<Figure size 640x480 with 1 Axes>"
            ]
          },
          "metadata": {},
          "output_type": "display_data"
        }
      ],
      "source": [
        "#Histogram for monthly premium auto\n",
        "numeric_dataIC['total_claim_amount'].hist(bins=20)\n",
        "plt.show()"
      ]
    },
    {
      "cell_type": "code",
      "execution_count": 52,
      "id": "43e02797",
      "metadata": {},
      "outputs": [],
      "source": [
        "#Do the distributions for different numerical variables look like a normal distribution?\n",
        "#The income distribution is not continuous and appears to have a shape similar to a log-normal distribution\n",
        "#The monthly premium auto doesn't have and identifiable distribution.\n",
        "#The total claim amount has a continuous log-normal distribution \n"
      ]
    },
    {
      "cell_type": "code",
      "execution_count": 53,
      "id": "ded21c85",
      "metadata": {},
      "outputs": [],
      "source": [
        "#For the numerical variables, check the multicollinearity between the features.\n",
        "# Please note that we will use the column total_claim_amount later as the target variable.\n",
        "#Note 1: The Pearson’s correlation coefficient metric directly evaluates the strength of the relationship between two variables. \n",
        "#Note 2: Its values range between -1 and 1."
      ]
    },
    {
      "cell_type": "code",
      "execution_count": 54,
      "id": "bd68b000",
      "metadata": {},
      "outputs": [
        {
          "data": {
            "text/html": [
              "<div>\n",
              "<style scoped>\n",
              "    .dataframe tbody tr th:only-of-type {\n",
              "        vertical-align: middle;\n",
              "    }\n",
              "\n",
              "    .dataframe tbody tr th {\n",
              "        vertical-align: top;\n",
              "    }\n",
              "\n",
              "    .dataframe thead th {\n",
              "        text-align: right;\n",
              "    }\n",
              "</style>\n",
              "<table border=\"1\" class=\"dataframe\">\n",
              "  <thead>\n",
              "    <tr style=\"text-align: right;\">\n",
              "      <th></th>\n",
              "      <th>income</th>\n",
              "      <th>monthly_premium_auto</th>\n",
              "      <th>total_claim_amount</th>\n",
              "    </tr>\n",
              "  </thead>\n",
              "  <tbody>\n",
              "    <tr>\n",
              "      <th>income</th>\n",
              "      <td>1.000000</td>\n",
              "      <td>0.051825</td>\n",
              "      <td>-0.366079</td>\n",
              "    </tr>\n",
              "    <tr>\n",
              "      <th>monthly_premium_auto</th>\n",
              "      <td>0.051825</td>\n",
              "      <td>1.000000</td>\n",
              "      <td>-0.041816</td>\n",
              "    </tr>\n",
              "    <tr>\n",
              "      <th>total_claim_amount</th>\n",
              "      <td>-0.366079</td>\n",
              "      <td>-0.041816</td>\n",
              "      <td>1.000000</td>\n",
              "    </tr>\n",
              "  </tbody>\n",
              "</table>\n",
              "</div>"
            ],
            "text/plain": [
              "                        income  monthly_premium_auto  total_claim_amount\n",
              "income                1.000000              0.051825           -0.366079\n",
              "monthly_premium_auto  0.051825              1.000000           -0.041816\n",
              "total_claim_amount   -0.366079             -0.041816            1.000000"
            ]
          },
          "execution_count": 54,
          "metadata": {},
          "output_type": "execute_result"
        }
      ],
      "source": [
        "#Create correlation matrix to check pearson coeficient\n",
        "correlations_matrix = numeric_dataIC.corr()\n",
        "correlations_matrix"
      ]
    },
    {
      "cell_type": "code",
      "execution_count": 55,
      "id": "38e3e2b4",
      "metadata": {},
      "outputs": [],
      "source": [
        "#The results shows that there is not a strong multicolinearity btw variables.\n",
        "#link:https://towardsdatascience.com/targeting-multicollinearity-with-python-3bd3b4088d0b"
      ]
    },
    {
      "cell_type": "code",
      "execution_count": 56,
      "id": "e1f0532b",
      "metadata": {},
      "outputs": [
        {
          "data": {
            "image/png": "[encoded data removed]",
            "text/plain": [
              "<Figure size 640x480 with 2 Axes>"
            ]
          },
          "metadata": {},
          "output_type": "display_data"
        }
      ],
      "source": [
        "#A visual representation of the matrix\n",
        "sns.heatmap(correlations_matrix, annot=True)\n",
        "plt.show()"
      ]
    },
    {
      "cell_type": "code",
      "execution_count": 57,
      "id": "cb027b39",
      "metadata": {},
      "outputs": [],
      "source": [
        "#Round Five\n",
        "##For this lab, we continue using the csv file that that was previously downloaded and the same Jupyter notebook from the previous rounds. \n",
        "#There is NO NEED to fork and clone this repository.\n",
        "\n",
        "#Dealing with the data\n",
        "#Already done in the round 2.\n",
        "\n",
        "#Explore the data\n",
        "#Done in the round 3.\n",
        "\n",
        "#Processing Data\n",
        "#(Further processing...)\n",
        "\n",
        "#X-y split. Remember that at this time yoou need the complete dataset, both numerical and categorical in the X features.\n",
        "#X split into X_numerical and X_categorical\n",
        "#Scaling (X_numerical)."
      ]
    },
    {
      "cell_type": "code",
      "execution_count": 58,
      "id": "4013f9bf",
      "metadata": {},
      "outputs": [],
      "source": [
        "#Import necessary libraries and tools (for later)\n",
        "from sklearn.linear_model import LinearRegression\n",
        "from sklearn.metrics import mean_squared_error, r2_score\n",
        "from sklearn.preprocessing import MinMaxScaler \n",
        "from sklearn.preprocessing import StandardScaler\n"
      ]
    },
    {
      "cell_type": "code",
      "execution_count": 59,
      "id": "288fb47b",
      "metadata": {},
      "outputs": [],
      "source": [
        "#On round 4 it was specified that 'total_claim_amount'  would be the target variable.\n",
        "\n",
        "y = insurance_customers_df['total_claim_amount']\n",
        "X = insurance_customers_df.drop(['total_claim_amount','customer'], axis=1) #removing customer as well"
      ]
    },
    {
      "cell_type": "code",
      "execution_count": 60,
      "id": "69490fce",
      "metadata": {},
      "outputs": [],
      "source": [
        "X_num = X.select_dtypes(include = np.number)\n",
        "X_cat = X.select_dtypes(include = object)"
      ]
    },
    {
      "cell_type": "code",
      "execution_count": 61,
      "id": "41e1a1d5",
      "metadata": {},
      "outputs": [
        {
          "name": "stdout",
          "output_type": "stream",
          "text": [
            "(954, 2)\n"
          ]
        }
      ],
      "source": [
        "#Scaling (X_numerical).\n",
        "transformer = StandardScaler().fit(X_num)\n",
        "x_standardized = transformer.transform(X_num)\n",
        "print(x_standardized.shape)\n",
        "insurance_df_numerical=pd.DataFrame(x_standardized, columns=X_num.columns)\n"
      ]
    },
    {
      "cell_type": "code",
      "execution_count": 62,
      "id": "cdb19f20",
      "metadata": {},
      "outputs": [],
      "source": [
        "insurance_df_numerical=pd.DataFrame(x_standardized, columns=X_num.columns).describe().T"
      ]
    },
    {
      "cell_type": "code",
      "execution_count": 63,
      "id": "e96528d7",
      "metadata": {},
      "outputs": [
        {
          "data": {
            "text/html": [
              "<div>\n",
              "<style scoped>\n",
              "    .dataframe tbody tr th:only-of-type {\n",
              "        vertical-align: middle;\n",
              "    }\n",
              "\n",
              "    .dataframe tbody tr th {\n",
              "        vertical-align: top;\n",
              "    }\n",
              "\n",
              "    .dataframe thead th {\n",
              "        text-align: right;\n",
              "    }\n",
              "</style>\n",
              "<table border=\"1\" class=\"dataframe\">\n",
              "  <thead>\n",
              "    <tr style=\"text-align: right;\">\n",
              "      <th></th>\n",
              "      <th>income</th>\n",
              "      <th>monthly_premium_auto</th>\n",
              "    </tr>\n",
              "  </thead>\n",
              "  <tbody>\n",
              "    <tr>\n",
              "      <th>count</th>\n",
              "      <td>9.540000e+02</td>\n",
              "      <td>9.540000e+02</td>\n",
              "    </tr>\n",
              "    <tr>\n",
              "      <th>mean</th>\n",
              "      <td>1.266166e-16</td>\n",
              "      <td>-2.793014e-18</td>\n",
              "    </tr>\n",
              "    <tr>\n",
              "      <th>std</th>\n",
              "      <td>1.000525e+00</td>\n",
              "      <td>1.000525e+00</td>\n",
              "    </tr>\n",
              "    <tr>\n",
              "      <th>min</th>\n",
              "      <td>-1.289093e+00</td>\n",
              "      <td>-8.493203e-02</td>\n",
              "    </tr>\n",
              "    <tr>\n",
              "      <th>25%</th>\n",
              "      <td>-8.537676e-01</td>\n",
              "      <td>-8.080245e-02</td>\n",
              "    </tr>\n",
              "    <tr>\n",
              "      <th>50%</th>\n",
              "      <td>-9.558206e-02</td>\n",
              "      <td>-7.195337e-02</td>\n",
              "    </tr>\n",
              "    <tr>\n",
              "      <th>75%</th>\n",
              "      <td>8.264357e-01</td>\n",
              "      <td>-5.602502e-02</td>\n",
              "    </tr>\n",
              "    <tr>\n",
              "      <th>max</th>\n",
              "      <td>1.966869e+00</td>\n",
              "      <td>2.073578e+01</td>\n",
              "    </tr>\n",
              "  </tbody>\n",
              "</table>\n",
              "</div>"
            ],
            "text/plain": [
              "             income  monthly_premium_auto\n",
              "count  9.540000e+02          9.540000e+02\n",
              "mean   1.266166e-16         -2.793014e-18\n",
              "std    1.000525e+00          1.000525e+00\n",
              "min   -1.289093e+00         -8.493203e-02\n",
              "25%   -8.537676e-01         -8.080245e-02\n",
              "50%   -9.558206e-02         -7.195337e-02\n",
              "75%    8.264357e-01         -5.602502e-02\n",
              "max    1.966869e+00          2.073578e+01"
            ]
          },
          "execution_count": 63,
          "metadata": {},
          "output_type": "execute_result"
        }
      ],
      "source": [
        "insurance_df_numerical.head(10).T"
      ]
    },
    {
      "cell_type": "code",
      "execution_count": 64,
      "id": "1ec95121",
      "metadata": {},
      "outputs": [],
      "source": [
        "#Round 6\n",
        "#Processing Data\n",
        "#(Further processing...)\n",
        "\n",
        "#X-y split. (done) Round 5\n",
        "#Scaling (numerical). (done) Round 5\n",
        "#Round 6\n",
        "#One Hot/Label Encoding (categorical).\n",
        "#Concat DataFrames\n",
        "#Linear Regression\n",
        "#Train-test split.\n",
        "#Apply linear regression.\n",
        "#Model Validation\n",
        "#Description:\n",
        "#R2.\n",
        "#MSE.\n",
        "#RMSE.\n",
        "#MAE."
      ]
    },
    {
      "cell_type": "code",
      "execution_count": null,
      "id": "76fd637c",
      "metadata": {},
      "outputs": [],
      "source": []
    },
    {
      "cell_type": "code",
      "execution_count": 65,
      "id": "55f332c5",
      "metadata": {},
      "outputs": [],
      "source": [
        "#One Hot/Label Encoding (categorical).\n",
        "#We are not going to use \"customer\"  and \"state\" inside the categorical values\n",
        "categorical_cols = ['gender', 'education','number_of_open_complaints', 'policy_type','vehicle_class',] \n",
        "\n",
        "from sklearn.preprocessing import OneHotEncoder\n",
        "from sklearn.preprocessing import LabelEncoder\n",
        "\n"
      ]
    },
    {
      "cell_type": "code",
      "execution_count": 66,
      "id": "0ae7f43e",
      "metadata": {},
      "outputs": [],
      "source": [
        "ohe = OneHotEncoder()\n",
        "array_hot_encoded = ohe.fit_transform(insurance_customers_df[categorical_cols]).toarray()"
      ]
    },
    {
      "cell_type": "code",
      "execution_count": 67,
      "id": "a172cf40",
      "metadata": {},
      "outputs": [
        {
          "data": {
            "text/plain": [
              "array([[1., 0., 1., ..., 0., 0., 0.],\n",
              "       [1., 0., 1., ..., 0., 0., 1.],\n",
              "       [0., 1., 1., ..., 0., 1., 0.],\n",
              "       ...,\n",
              "       [1., 0., 1., ..., 0., 0., 0.],\n",
              "       [1., 0., 0., ..., 0., 1., 0.],\n",
              "       [1., 0., 0., ..., 0., 0., 1.]])"
            ]
          },
          "execution_count": 67,
          "metadata": {},
          "output_type": "execute_result"
        }
      ],
      "source": [
        "#Display the array to check that the transformation is correct\n",
        "array_hot_encoded"
      ]
    },
    {
      "cell_type": "code",
      "execution_count": 68,
      "id": "c774e5a7",
      "metadata": {},
      "outputs": [
        {
          "data": {
            "text/plain": [
              "[array(['F', 'M'], dtype=object),\n",
              " array(['Bachelor', 'College', 'Doctor', 'High School or Below', 'Master'],\n",
              "       dtype=object),\n",
              " array(['0', '1', '2', '3', '4', '5'], dtype=object),\n",
              " array(['Corporate Auto', 'Personal Auto', 'Special Auto'], dtype=object),\n",
              " array(['Four-Door Car', 'Luxury', 'SUV', 'Two-Door Car'], dtype=object)]"
            ]
          },
          "execution_count": 68,
          "metadata": {},
          "output_type": "execute_result"
        }
      ],
      "source": [
        "# The categories corresponding to each of the categorical columns encoded\n",
        "ohe.categories_"
      ]
    },
    {
      "cell_type": "code",
      "execution_count": 69,
      "id": "9cb98397",
      "metadata": {},
      "outputs": [],
      "source": [
        "#Convert it to df\n",
        "insurance_customers_df_hot_encoded = pd.DataFrame(array_hot_encoded,index=insurance_customers_df.index)"
      ]
    },
    {
      "cell_type": "code",
      "execution_count": 70,
      "id": "55ca97f0",
      "metadata": {},
      "outputs": [
        {
          "data": {
            "text/html": [
              "<div>\n",
              "<style scoped>\n",
              "    .dataframe tbody tr th:only-of-type {\n",
              "        vertical-align: middle;\n",
              "    }\n",
              "\n",
              "    .dataframe tbody tr th {\n",
              "        vertical-align: top;\n",
              "    }\n",
              "\n",
              "    .dataframe thead th {\n",
              "        text-align: right;\n",
              "    }\n",
              "</style>\n",
              "<table border=\"1\" class=\"dataframe\">\n",
              "  <thead>\n",
              "    <tr style=\"text-align: right;\">\n",
              "      <th></th>\n",
              "      <th>0</th>\n",
              "      <th>1</th>\n",
              "      <th>2</th>\n",
              "      <th>3</th>\n",
              "      <th>4</th>\n",
              "      <th>5</th>\n",
              "      <th>6</th>\n",
              "      <th>7</th>\n",
              "      <th>8</th>\n",
              "      <th>9</th>\n",
              "      <th>10</th>\n",
              "      <th>11</th>\n",
              "      <th>12</th>\n",
              "      <th>13</th>\n",
              "      <th>14</th>\n",
              "      <th>15</th>\n",
              "      <th>16</th>\n",
              "      <th>17</th>\n",
              "      <th>18</th>\n",
              "      <th>19</th>\n",
              "    </tr>\n",
              "  </thead>\n",
              "  <tbody>\n",
              "    <tr>\n",
              "      <th>1</th>\n",
              "      <td>1.0</td>\n",
              "      <td>0.0</td>\n",
              "      <td>1.0</td>\n",
              "      <td>0.0</td>\n",
              "      <td>0.0</td>\n",
              "      <td>0.0</td>\n",
              "      <td>0.0</td>\n",
              "      <td>1.0</td>\n",
              "      <td>0.0</td>\n",
              "      <td>0.0</td>\n",
              "      <td>0.0</td>\n",
              "      <td>0.0</td>\n",
              "      <td>0.0</td>\n",
              "      <td>0.0</td>\n",
              "      <td>1.0</td>\n",
              "      <td>0.0</td>\n",
              "      <td>1.0</td>\n",
              "      <td>0.0</td>\n",
              "      <td>0.0</td>\n",
              "      <td>0.0</td>\n",
              "    </tr>\n",
              "    <tr>\n",
              "      <th>2</th>\n",
              "      <td>1.0</td>\n",
              "      <td>0.0</td>\n",
              "      <td>1.0</td>\n",
              "      <td>0.0</td>\n",
              "      <td>0.0</td>\n",
              "      <td>0.0</td>\n",
              "      <td>0.0</td>\n",
              "      <td>1.0</td>\n",
              "      <td>0.0</td>\n",
              "      <td>0.0</td>\n",
              "      <td>0.0</td>\n",
              "      <td>0.0</td>\n",
              "      <td>0.0</td>\n",
              "      <td>0.0</td>\n",
              "      <td>1.0</td>\n",
              "      <td>0.0</td>\n",
              "      <td>0.0</td>\n",
              "      <td>0.0</td>\n",
              "      <td>0.0</td>\n",
              "      <td>1.0</td>\n",
              "    </tr>\n",
              "    <tr>\n",
              "      <th>3</th>\n",
              "      <td>0.0</td>\n",
              "      <td>1.0</td>\n",
              "      <td>1.0</td>\n",
              "      <td>0.0</td>\n",
              "      <td>0.0</td>\n",
              "      <td>0.0</td>\n",
              "      <td>0.0</td>\n",
              "      <td>1.0</td>\n",
              "      <td>0.0</td>\n",
              "      <td>0.0</td>\n",
              "      <td>0.0</td>\n",
              "      <td>0.0</td>\n",
              "      <td>0.0</td>\n",
              "      <td>1.0</td>\n",
              "      <td>0.0</td>\n",
              "      <td>0.0</td>\n",
              "      <td>0.0</td>\n",
              "      <td>0.0</td>\n",
              "      <td>1.0</td>\n",
              "      <td>0.0</td>\n",
              "    </tr>\n",
              "    <tr>\n",
              "      <th>4</th>\n",
              "      <td>0.0</td>\n",
              "      <td>1.0</td>\n",
              "      <td>0.0</td>\n",
              "      <td>0.0</td>\n",
              "      <td>0.0</td>\n",
              "      <td>1.0</td>\n",
              "      <td>0.0</td>\n",
              "      <td>1.0</td>\n",
              "      <td>0.0</td>\n",
              "      <td>0.0</td>\n",
              "      <td>0.0</td>\n",
              "      <td>0.0</td>\n",
              "      <td>0.0</td>\n",
              "      <td>0.0</td>\n",
              "      <td>1.0</td>\n",
              "      <td>0.0</td>\n",
              "      <td>1.0</td>\n",
              "      <td>0.0</td>\n",
              "      <td>0.0</td>\n",
              "      <td>0.0</td>\n",
              "    </tr>\n",
              "    <tr>\n",
              "      <th>5</th>\n",
              "      <td>1.0</td>\n",
              "      <td>0.0</td>\n",
              "      <td>1.0</td>\n",
              "      <td>0.0</td>\n",
              "      <td>0.0</td>\n",
              "      <td>0.0</td>\n",
              "      <td>0.0</td>\n",
              "      <td>1.0</td>\n",
              "      <td>0.0</td>\n",
              "      <td>0.0</td>\n",
              "      <td>0.0</td>\n",
              "      <td>0.0</td>\n",
              "      <td>0.0</td>\n",
              "      <td>0.0</td>\n",
              "      <td>1.0</td>\n",
              "      <td>0.0</td>\n",
              "      <td>0.0</td>\n",
              "      <td>0.0</td>\n",
              "      <td>0.0</td>\n",
              "      <td>1.0</td>\n",
              "    </tr>\n",
              "    <tr>\n",
              "      <th>...</th>\n",
              "      <td>...</td>\n",
              "      <td>...</td>\n",
              "      <td>...</td>\n",
              "      <td>...</td>\n",
              "      <td>...</td>\n",
              "      <td>...</td>\n",
              "      <td>...</td>\n",
              "      <td>...</td>\n",
              "      <td>...</td>\n",
              "      <td>...</td>\n",
              "      <td>...</td>\n",
              "      <td>...</td>\n",
              "      <td>...</td>\n",
              "      <td>...</td>\n",
              "      <td>...</td>\n",
              "      <td>...</td>\n",
              "      <td>...</td>\n",
              "      <td>...</td>\n",
              "      <td>...</td>\n",
              "      <td>...</td>\n",
              "    </tr>\n",
              "    <tr>\n",
              "      <th>1066</th>\n",
              "      <td>0.0</td>\n",
              "      <td>1.0</td>\n",
              "      <td>0.0</td>\n",
              "      <td>0.0</td>\n",
              "      <td>0.0</td>\n",
              "      <td>0.0</td>\n",
              "      <td>1.0</td>\n",
              "      <td>0.0</td>\n",
              "      <td>1.0</td>\n",
              "      <td>0.0</td>\n",
              "      <td>0.0</td>\n",
              "      <td>0.0</td>\n",
              "      <td>0.0</td>\n",
              "      <td>0.0</td>\n",
              "      <td>1.0</td>\n",
              "      <td>0.0</td>\n",
              "      <td>1.0</td>\n",
              "      <td>0.0</td>\n",
              "      <td>0.0</td>\n",
              "      <td>0.0</td>\n",
              "    </tr>\n",
              "    <tr>\n",
              "      <th>1067</th>\n",
              "      <td>1.0</td>\n",
              "      <td>0.0</td>\n",
              "      <td>0.0</td>\n",
              "      <td>0.0</td>\n",
              "      <td>0.0</td>\n",
              "      <td>1.0</td>\n",
              "      <td>0.0</td>\n",
              "      <td>0.0</td>\n",
              "      <td>0.0</td>\n",
              "      <td>1.0</td>\n",
              "      <td>0.0</td>\n",
              "      <td>0.0</td>\n",
              "      <td>0.0</td>\n",
              "      <td>0.0</td>\n",
              "      <td>1.0</td>\n",
              "      <td>0.0</td>\n",
              "      <td>0.0</td>\n",
              "      <td>0.0</td>\n",
              "      <td>1.0</td>\n",
              "      <td>0.0</td>\n",
              "    </tr>\n",
              "    <tr>\n",
              "      <th>1068</th>\n",
              "      <td>1.0</td>\n",
              "      <td>0.0</td>\n",
              "      <td>1.0</td>\n",
              "      <td>0.0</td>\n",
              "      <td>0.0</td>\n",
              "      <td>0.0</td>\n",
              "      <td>0.0</td>\n",
              "      <td>1.0</td>\n",
              "      <td>0.0</td>\n",
              "      <td>0.0</td>\n",
              "      <td>0.0</td>\n",
              "      <td>0.0</td>\n",
              "      <td>0.0</td>\n",
              "      <td>0.0</td>\n",
              "      <td>1.0</td>\n",
              "      <td>0.0</td>\n",
              "      <td>1.0</td>\n",
              "      <td>0.0</td>\n",
              "      <td>0.0</td>\n",
              "      <td>0.0</td>\n",
              "    </tr>\n",
              "    <tr>\n",
              "      <th>1069</th>\n",
              "      <td>1.0</td>\n",
              "      <td>0.0</td>\n",
              "      <td>0.0</td>\n",
              "      <td>0.0</td>\n",
              "      <td>0.0</td>\n",
              "      <td>0.0</td>\n",
              "      <td>1.0</td>\n",
              "      <td>1.0</td>\n",
              "      <td>0.0</td>\n",
              "      <td>0.0</td>\n",
              "      <td>0.0</td>\n",
              "      <td>0.0</td>\n",
              "      <td>0.0</td>\n",
              "      <td>0.0</td>\n",
              "      <td>0.0</td>\n",
              "      <td>1.0</td>\n",
              "      <td>0.0</td>\n",
              "      <td>0.0</td>\n",
              "      <td>1.0</td>\n",
              "      <td>0.0</td>\n",
              "    </tr>\n",
              "    <tr>\n",
              "      <th>1070</th>\n",
              "      <td>1.0</td>\n",
              "      <td>0.0</td>\n",
              "      <td>0.0</td>\n",
              "      <td>1.0</td>\n",
              "      <td>0.0</td>\n",
              "      <td>0.0</td>\n",
              "      <td>0.0</td>\n",
              "      <td>1.0</td>\n",
              "      <td>0.0</td>\n",
              "      <td>0.0</td>\n",
              "      <td>0.0</td>\n",
              "      <td>0.0</td>\n",
              "      <td>0.0</td>\n",
              "      <td>0.0</td>\n",
              "      <td>1.0</td>\n",
              "      <td>0.0</td>\n",
              "      <td>0.0</td>\n",
              "      <td>0.0</td>\n",
              "      <td>0.0</td>\n",
              "      <td>1.0</td>\n",
              "    </tr>\n",
              "  </tbody>\n",
              "</table>\n",
              "<p>954 rows × 20 columns</p>\n",
              "</div>"
            ],
            "text/plain": [
              "       0    1    2    3    4    5    6    7    8    9    10   11   12   13  \\\n",
              "1     1.0  0.0  1.0  0.0  0.0  0.0  0.0  1.0  0.0  0.0  0.0  0.0  0.0  0.0   \n",
              "2     1.0  0.0  1.0  0.0  0.0  0.0  0.0  1.0  0.0  0.0  0.0  0.0  0.0  0.0   \n",
              "3     0.0  1.0  1.0  0.0  0.0  0.0  0.0  1.0  0.0  0.0  0.0  0.0  0.0  1.0   \n",
              "4     0.0  1.0  0.0  0.0  0.0  1.0  0.0  1.0  0.0  0.0  0.0  0.0  0.0  0.0   \n",
              "5     1.0  0.0  1.0  0.0  0.0  0.0  0.0  1.0  0.0  0.0  0.0  0.0  0.0  0.0   \n",
              "...   ...  ...  ...  ...  ...  ...  ...  ...  ...  ...  ...  ...  ...  ...   \n",
              "1066  0.0  1.0  0.0  0.0  0.0  0.0  1.0  0.0  1.0  0.0  0.0  0.0  0.0  0.0   \n",
              "1067  1.0  0.0  0.0  0.0  0.0  1.0  0.0  0.0  0.0  1.0  0.0  0.0  0.0  0.0   \n",
              "1068  1.0  0.0  1.0  0.0  0.0  0.0  0.0  1.0  0.0  0.0  0.0  0.0  0.0  0.0   \n",
              "1069  1.0  0.0  0.0  0.0  0.0  0.0  1.0  1.0  0.0  0.0  0.0  0.0  0.0  0.0   \n",
              "1070  1.0  0.0  0.0  1.0  0.0  0.0  0.0  1.0  0.0  0.0  0.0  0.0  0.0  0.0   \n",
              "\n",
              "       14   15   16   17   18   19  \n",
              "1     1.0  0.0  1.0  0.0  0.0  0.0  \n",
              "2     1.0  0.0  0.0  0.0  0.0  1.0  \n",
              "3     0.0  0.0  0.0  0.0  1.0  0.0  \n",
              "4     1.0  0.0  1.0  0.0  0.0  0.0  \n",
              "5     1.0  0.0  0.0  0.0  0.0  1.0  \n",
              "...   ...  ...  ...  ...  ...  ...  \n",
              "1066  1.0  0.0  1.0  0.0  0.0  0.0  \n",
              "1067  1.0  0.0  0.0  0.0  1.0  0.0  \n",
              "1068  1.0  0.0  1.0  0.0  0.0  0.0  \n",
              "1069  0.0  1.0  0.0  0.0  1.0  0.0  \n",
              "1070  1.0  0.0  0.0  0.0  0.0  1.0  \n",
              "\n",
              "[954 rows x 20 columns]"
            ]
          },
          "execution_count": 70,
          "metadata": {},
          "output_type": "execute_result"
        }
      ],
      "source": [
        "insurance_customers_df_hot_encoded"
      ]
    },
    {
      "cell_type": "code",
      "execution_count": 71,
      "id": "4f7a2d1c",
      "metadata": {},
      "outputs": [
        {
          "data": {
            "text/html": [
              "<div>\n",
              "<style scoped>\n",
              "    .dataframe tbody tr th:only-of-type {\n",
              "        vertical-align: middle;\n",
              "    }\n",
              "\n",
              "    .dataframe tbody tr th {\n",
              "        vertical-align: top;\n",
              "    }\n",
              "\n",
              "    .dataframe thead th {\n",
              "        text-align: right;\n",
              "    }\n",
              "</style>\n",
              "<table border=\"1\" class=\"dataframe\">\n",
              "  <thead>\n",
              "    <tr style=\"text-align: right;\">\n",
              "      <th></th>\n",
              "      <th>income</th>\n",
              "      <th>monthly_premium_auto</th>\n",
              "      <th>0</th>\n",
              "      <th>1</th>\n",
              "      <th>2</th>\n",
              "      <th>3</th>\n",
              "      <th>4</th>\n",
              "      <th>5</th>\n",
              "      <th>6</th>\n",
              "      <th>7</th>\n",
              "      <th>...</th>\n",
              "      <th>10</th>\n",
              "      <th>11</th>\n",
              "      <th>12</th>\n",
              "      <th>13</th>\n",
              "      <th>14</th>\n",
              "      <th>15</th>\n",
              "      <th>16</th>\n",
              "      <th>17</th>\n",
              "      <th>18</th>\n",
              "      <th>19</th>\n",
              "    </tr>\n",
              "  </thead>\n",
              "  <tbody>\n",
              "    <tr>\n",
              "      <th>count</th>\n",
              "      <td>9.540000e+02</td>\n",
              "      <td>9.540000e+02</td>\n",
              "      <td>NaN</td>\n",
              "      <td>NaN</td>\n",
              "      <td>NaN</td>\n",
              "      <td>NaN</td>\n",
              "      <td>NaN</td>\n",
              "      <td>NaN</td>\n",
              "      <td>NaN</td>\n",
              "      <td>NaN</td>\n",
              "      <td>...</td>\n",
              "      <td>NaN</td>\n",
              "      <td>NaN</td>\n",
              "      <td>NaN</td>\n",
              "      <td>NaN</td>\n",
              "      <td>NaN</td>\n",
              "      <td>NaN</td>\n",
              "      <td>NaN</td>\n",
              "      <td>NaN</td>\n",
              "      <td>NaN</td>\n",
              "      <td>NaN</td>\n",
              "    </tr>\n",
              "    <tr>\n",
              "      <th>mean</th>\n",
              "      <td>1.266166e-16</td>\n",
              "      <td>-2.793014e-18</td>\n",
              "      <td>NaN</td>\n",
              "      <td>NaN</td>\n",
              "      <td>NaN</td>\n",
              "      <td>NaN</td>\n",
              "      <td>NaN</td>\n",
              "      <td>NaN</td>\n",
              "      <td>NaN</td>\n",
              "      <td>NaN</td>\n",
              "      <td>...</td>\n",
              "      <td>NaN</td>\n",
              "      <td>NaN</td>\n",
              "      <td>NaN</td>\n",
              "      <td>NaN</td>\n",
              "      <td>NaN</td>\n",
              "      <td>NaN</td>\n",
              "      <td>NaN</td>\n",
              "      <td>NaN</td>\n",
              "      <td>NaN</td>\n",
              "      <td>NaN</td>\n",
              "    </tr>\n",
              "    <tr>\n",
              "      <th>std</th>\n",
              "      <td>1.000525e+00</td>\n",
              "      <td>1.000525e+00</td>\n",
              "      <td>NaN</td>\n",
              "      <td>NaN</td>\n",
              "      <td>NaN</td>\n",
              "      <td>NaN</td>\n",
              "      <td>NaN</td>\n",
              "      <td>NaN</td>\n",
              "      <td>NaN</td>\n",
              "      <td>NaN</td>\n",
              "      <td>...</td>\n",
              "      <td>NaN</td>\n",
              "      <td>NaN</td>\n",
              "      <td>NaN</td>\n",
              "      <td>NaN</td>\n",
              "      <td>NaN</td>\n",
              "      <td>NaN</td>\n",
              "      <td>NaN</td>\n",
              "      <td>NaN</td>\n",
              "      <td>NaN</td>\n",
              "      <td>NaN</td>\n",
              "    </tr>\n",
              "    <tr>\n",
              "      <th>min</th>\n",
              "      <td>-1.289093e+00</td>\n",
              "      <td>-8.493203e-02</td>\n",
              "      <td>NaN</td>\n",
              "      <td>NaN</td>\n",
              "      <td>NaN</td>\n",
              "      <td>NaN</td>\n",
              "      <td>NaN</td>\n",
              "      <td>NaN</td>\n",
              "      <td>NaN</td>\n",
              "      <td>NaN</td>\n",
              "      <td>...</td>\n",
              "      <td>NaN</td>\n",
              "      <td>NaN</td>\n",
              "      <td>NaN</td>\n",
              "      <td>NaN</td>\n",
              "      <td>NaN</td>\n",
              "      <td>NaN</td>\n",
              "      <td>NaN</td>\n",
              "      <td>NaN</td>\n",
              "      <td>NaN</td>\n",
              "      <td>NaN</td>\n",
              "    </tr>\n",
              "    <tr>\n",
              "      <th>25%</th>\n",
              "      <td>-8.537676e-01</td>\n",
              "      <td>-8.080245e-02</td>\n",
              "      <td>NaN</td>\n",
              "      <td>NaN</td>\n",
              "      <td>NaN</td>\n",
              "      <td>NaN</td>\n",
              "      <td>NaN</td>\n",
              "      <td>NaN</td>\n",
              "      <td>NaN</td>\n",
              "      <td>NaN</td>\n",
              "      <td>...</td>\n",
              "      <td>NaN</td>\n",
              "      <td>NaN</td>\n",
              "      <td>NaN</td>\n",
              "      <td>NaN</td>\n",
              "      <td>NaN</td>\n",
              "      <td>NaN</td>\n",
              "      <td>NaN</td>\n",
              "      <td>NaN</td>\n",
              "      <td>NaN</td>\n",
              "      <td>NaN</td>\n",
              "    </tr>\n",
              "    <tr>\n",
              "      <th>50%</th>\n",
              "      <td>-9.558206e-02</td>\n",
              "      <td>-7.195337e-02</td>\n",
              "      <td>NaN</td>\n",
              "      <td>NaN</td>\n",
              "      <td>NaN</td>\n",
              "      <td>NaN</td>\n",
              "      <td>NaN</td>\n",
              "      <td>NaN</td>\n",
              "      <td>NaN</td>\n",
              "      <td>NaN</td>\n",
              "      <td>...</td>\n",
              "      <td>NaN</td>\n",
              "      <td>NaN</td>\n",
              "      <td>NaN</td>\n",
              "      <td>NaN</td>\n",
              "      <td>NaN</td>\n",
              "      <td>NaN</td>\n",
              "      <td>NaN</td>\n",
              "      <td>NaN</td>\n",
              "      <td>NaN</td>\n",
              "      <td>NaN</td>\n",
              "    </tr>\n",
              "    <tr>\n",
              "      <th>75%</th>\n",
              "      <td>8.264357e-01</td>\n",
              "      <td>-5.602502e-02</td>\n",
              "      <td>NaN</td>\n",
              "      <td>NaN</td>\n",
              "      <td>NaN</td>\n",
              "      <td>NaN</td>\n",
              "      <td>NaN</td>\n",
              "      <td>NaN</td>\n",
              "      <td>NaN</td>\n",
              "      <td>NaN</td>\n",
              "      <td>...</td>\n",
              "      <td>NaN</td>\n",
              "      <td>NaN</td>\n",
              "      <td>NaN</td>\n",
              "      <td>NaN</td>\n",
              "      <td>NaN</td>\n",
              "      <td>NaN</td>\n",
              "      <td>NaN</td>\n",
              "      <td>NaN</td>\n",
              "      <td>NaN</td>\n",
              "      <td>NaN</td>\n",
              "    </tr>\n",
              "    <tr>\n",
              "      <th>max</th>\n",
              "      <td>1.966869e+00</td>\n",
              "      <td>2.073578e+01</td>\n",
              "      <td>NaN</td>\n",
              "      <td>NaN</td>\n",
              "      <td>NaN</td>\n",
              "      <td>NaN</td>\n",
              "      <td>NaN</td>\n",
              "      <td>NaN</td>\n",
              "      <td>NaN</td>\n",
              "      <td>NaN</td>\n",
              "      <td>...</td>\n",
              "      <td>NaN</td>\n",
              "      <td>NaN</td>\n",
              "      <td>NaN</td>\n",
              "      <td>NaN</td>\n",
              "      <td>NaN</td>\n",
              "      <td>NaN</td>\n",
              "      <td>NaN</td>\n",
              "      <td>NaN</td>\n",
              "      <td>NaN</td>\n",
              "      <td>NaN</td>\n",
              "    </tr>\n",
              "    <tr>\n",
              "      <th>1</th>\n",
              "      <td>NaN</td>\n",
              "      <td>NaN</td>\n",
              "      <td>1.0</td>\n",
              "      <td>0.0</td>\n",
              "      <td>1.0</td>\n",
              "      <td>0.0</td>\n",
              "      <td>0.0</td>\n",
              "      <td>0.0</td>\n",
              "      <td>0.0</td>\n",
              "      <td>1.0</td>\n",
              "      <td>...</td>\n",
              "      <td>0.0</td>\n",
              "      <td>0.0</td>\n",
              "      <td>0.0</td>\n",
              "      <td>0.0</td>\n",
              "      <td>1.0</td>\n",
              "      <td>0.0</td>\n",
              "      <td>1.0</td>\n",
              "      <td>0.0</td>\n",
              "      <td>0.0</td>\n",
              "      <td>0.0</td>\n",
              "    </tr>\n",
              "    <tr>\n",
              "      <th>2</th>\n",
              "      <td>NaN</td>\n",
              "      <td>NaN</td>\n",
              "      <td>1.0</td>\n",
              "      <td>0.0</td>\n",
              "      <td>1.0</td>\n",
              "      <td>0.0</td>\n",
              "      <td>0.0</td>\n",
              "      <td>0.0</td>\n",
              "      <td>0.0</td>\n",
              "      <td>1.0</td>\n",
              "      <td>...</td>\n",
              "      <td>0.0</td>\n",
              "      <td>0.0</td>\n",
              "      <td>0.0</td>\n",
              "      <td>0.0</td>\n",
              "      <td>1.0</td>\n",
              "      <td>0.0</td>\n",
              "      <td>0.0</td>\n",
              "      <td>0.0</td>\n",
              "      <td>0.0</td>\n",
              "      <td>1.0</td>\n",
              "    </tr>\n",
              "  </tbody>\n",
              "</table>\n",
              "<p>10 rows × 22 columns</p>\n",
              "</div>"
            ],
            "text/plain": [
              "             income  monthly_premium_auto    0    1    2    3    4    5    6  \\\n",
              "count  9.540000e+02          9.540000e+02  NaN  NaN  NaN  NaN  NaN  NaN  NaN   \n",
              "mean   1.266166e-16         -2.793014e-18  NaN  NaN  NaN  NaN  NaN  NaN  NaN   \n",
              "std    1.000525e+00          1.000525e+00  NaN  NaN  NaN  NaN  NaN  NaN  NaN   \n",
              "min   -1.289093e+00         -8.493203e-02  NaN  NaN  NaN  NaN  NaN  NaN  NaN   \n",
              "25%   -8.537676e-01         -8.080245e-02  NaN  NaN  NaN  NaN  NaN  NaN  NaN   \n",
              "50%   -9.558206e-02         -7.195337e-02  NaN  NaN  NaN  NaN  NaN  NaN  NaN   \n",
              "75%    8.264357e-01         -5.602502e-02  NaN  NaN  NaN  NaN  NaN  NaN  NaN   \n",
              "max    1.966869e+00          2.073578e+01  NaN  NaN  NaN  NaN  NaN  NaN  NaN   \n",
              "1               NaN                   NaN  1.0  0.0  1.0  0.0  0.0  0.0  0.0   \n",
              "2               NaN                   NaN  1.0  0.0  1.0  0.0  0.0  0.0  0.0   \n",
              "\n",
              "         7  ...   10   11   12   13   14   15   16   17   18   19  \n",
              "count  NaN  ...  NaN  NaN  NaN  NaN  NaN  NaN  NaN  NaN  NaN  NaN  \n",
              "mean   NaN  ...  NaN  NaN  NaN  NaN  NaN  NaN  NaN  NaN  NaN  NaN  \n",
              "std    NaN  ...  NaN  NaN  NaN  NaN  NaN  NaN  NaN  NaN  NaN  NaN  \n",
              "min    NaN  ...  NaN  NaN  NaN  NaN  NaN  NaN  NaN  NaN  NaN  NaN  \n",
              "25%    NaN  ...  NaN  NaN  NaN  NaN  NaN  NaN  NaN  NaN  NaN  NaN  \n",
              "50%    NaN  ...  NaN  NaN  NaN  NaN  NaN  NaN  NaN  NaN  NaN  NaN  \n",
              "75%    NaN  ...  NaN  NaN  NaN  NaN  NaN  NaN  NaN  NaN  NaN  NaN  \n",
              "max    NaN  ...  NaN  NaN  NaN  NaN  NaN  NaN  NaN  NaN  NaN  NaN  \n",
              "1      1.0  ...  0.0  0.0  0.0  0.0  1.0  0.0  1.0  0.0  0.0  0.0  \n",
              "2      1.0  ...  0.0  0.0  0.0  0.0  1.0  0.0  0.0  0.0  0.0  1.0  \n",
              "\n",
              "[10 rows x 22 columns]"
            ]
          },
          "execution_count": 71,
          "metadata": {},
          "output_type": "execute_result"
        }
      ],
      "source": [
        "df=pd.concat([insurance_df_numerical.T,insurance_customers_df_hot_encoded],axis=1)\n",
        "df.head(10)"
      ]
    },
    {
      "cell_type": "markdown",
      "id": "2659eed6",
      "metadata": {},
      "source": []
    },
    {
      "cell_type": "code",
      "execution_count": 72,
      "id": "c2974be8",
      "metadata": {},
      "outputs": [
        {
          "data": {
            "text/plain": [
              "1    1131.464935\n",
              "2     566.472247\n",
              "3     529.881344\n",
              "4      17.269323\n",
              "5     159.383042\n",
              "Name: total_claim_amount, dtype: float64"
            ]
          },
          "execution_count": 72,
          "metadata": {},
          "output_type": "execute_result"
        }
      ],
      "source": [
        "#Checking on our vertical axis\n",
        "y = insurance_customers_df['total_claim_amount']\n",
        "y.head()"
      ]
    },
    {
      "cell_type": "code",
      "execution_count": 73,
      "id": "8a617866",
      "metadata": {},
      "outputs": [],
      "source": [
        "#Linear Regression\n",
        "#Train-Test_Split\n",
        "from sklearn.model_selection import train_test_split\n",
        "X_train, X_test, y_train, y_test = train_test_split(X, y, test_size=0.2, random_state=42)"
      ]
    },
    {
      "cell_type": "code",
      "execution_count": 74,
      "id": "5c7370a2",
      "metadata": {},
      "outputs": [
        {
          "name": "stdout",
          "output_type": "stream",
          "text": [
            "(763, 9)\n",
            "(191, 9)\n",
            "(763,)\n",
            "(191,)\n"
          ]
        }
      ],
      "source": [
        "#Checking the shape\n",
        "print(X_train.shape)\n",
        "print(X_test.shape)\n",
        "print(y_train.shape)\n",
        "print(y_test.shape)"
      ]
    },
    {
      "cell_type": "code",
      "execution_count": 79,
      "id": "d732eaa5",
      "metadata": {},
      "outputs": [],
      "source": [
        "\n",
        "#Some problems appear when trying to perform a linear regression, saying that the content of a particular column could not be transformed to numeric.\n",
        "#In order to repear this problem a transformation to numeric was done on all variables\n",
        "#link: https://stackoverflow.com/questions/52751718/name-linear-model-is-not-defined\n",
        "X = X.apply(pd.to_numeric, errors='coerce')\n",
        "y = y.apply(pd.to_numeric, errors='coerce')\n",
        "X.fillna(0, inplace=True)\n",
        "y.fillna(0, inplace=True)\n",
        "X_train= X_train.apply(pd.to_numeric, errors='coerce')\n",
        "y_train = y_train.apply(pd.to_numeric, errors='coerce')\n",
        "X_train.fillna(0, inplace=True)\n",
        "y_train.fillna(0, inplace=True)\n",
        "X_test= X_test.apply(pd.to_numeric, errors='coerce')\n",
        "y_test = y_test.apply(pd.to_numeric, errors='coerce')\n",
        "X_test.fillna(0, inplace=True)\n",
        "y_test.fillna(0, inplace=True)"
      ]
    },
    {
      "cell_type": "code",
      "execution_count": 80,
      "id": "bf39b03f",
      "metadata": {},
      "outputs": [],
      "source": [
        "#train/fit the model\n",
        "import sklearn\n",
        "from sklearn import linear_model\n",
        "lr= linear_model.LinearRegression()\n",
        "\n"
      ]
    },
    {
      "cell_type": "code",
      "execution_count": 81,
      "id": "572d17fe",
      "metadata": {},
      "outputs": [
        {
          "data": {
            "text/html": [
              "<style>#sk-container-id-1 {\n",
              "  /* Definition of color scheme common for light and dark mode */\n",
              "  --sklearn-color-text: black;\n",
              "  --sklearn-color-line: gray;\n",
              "  /* Definition of color scheme for unfitted estimators */\n",
              "  --sklearn-color-unfitted-level-0: #fff5e6;\n",
              "  --sklearn-color-unfitted-level-1: #f6e4d2;\n",
              "  --sklearn-color-unfitted-level-2: #ffe0b3;\n",
              "  --sklearn-color-unfitted-level-3: chocolate;\n",
              "  /* Definition of color scheme for fitted estimators */\n",
              "  --sklearn-color-fitted-level-0: #f0f8ff;\n",
              "  --sklearn-color-fitted-level-1: #d4ebff;\n",
              "  --sklearn-color-fitted-level-2: #b3dbfd;\n",
              "  --sklearn-color-fitted-level-3: cornflowerblue;\n",
              "\n",
              "  /* Specific color for light theme */\n",
              "  --sklearn-color-text-on-default-background: var(--sg-text-color, var(--theme-code-foreground, var(--jp-content-font-color1, black)));\n",
              "  --sklearn-color-background: var(--sg-background-color, var(--theme-background, var(--jp-layout-color0, white)));\n",
              "  --sklearn-color-border-box: var(--sg-text-color, var(--theme-code-foreground, var(--jp-content-font-color1, black)));\n",
              "  --sklearn-color-icon: #696969;\n",
              "\n",
              "  @media (prefers-color-scheme: dark) {\n",
              "    /* Redefinition of color scheme for dark theme */\n",
              "    --sklearn-color-text-on-default-background: var(--sg-text-color, var(--theme-code-foreground, var(--jp-content-font-color1, white)));\n",
              "    --sklearn-color-background: var(--sg-background-color, var(--theme-background, var(--jp-layout-color0, #111)));\n",
              "    --sklearn-color-border-box: var(--sg-text-color, var(--theme-code-foreground, var(--jp-content-font-color1, white)));\n",
              "    --sklearn-color-icon: #878787;\n",
              "  }\n",
              "}\n",
              "\n",
              "#sk-container-id-1 {\n",
              "  color: var(--sklearn-color-text);\n",
              "}\n",
              "\n",
              "#sk-container-id-1 pre {\n",
              "  padding: 0;\n",
              "}\n",
              "\n",
              "#sk-container-id-1 input.sk-hidden--visually {\n",
              "  border: 0;\n",
              "  clip: rect(1px 1px 1px 1px);\n",
              "  clip: rect(1px, 1px, 1px, 1px);\n",
              "  height: 1px;\n",
              "  margin: -1px;\n",
              "  overflow: hidden;\n",
              "  padding: 0;\n",
              "  position: absolute;\n",
              "  width: 1px;\n",
              "}\n",
              "\n",
              "#sk-container-id-1 div.sk-dashed-wrapped {\n",
              "  border: 1px dashed var(--sklearn-color-line);\n",
              "  margin: 0 0.4em 0.5em 0.4em;\n",
              "  box-sizing: border-box;\n",
              "  padding-bottom: 0.4em;\n",
              "  background-color: var(--sklearn-color-background);\n",
              "}\n",
              "\n",
              "#sk-container-id-1 div.sk-container {\n",
              "  /* jupyter's `normalize.less` sets `[hidden] { display: none; }`\n",
              "     but bootstrap.min.css set `[hidden] { display: none !important; }`\n",
              "     so we also need the `!important` here to be able to override the\n",
              "     default hidden behavior on the sphinx rendered scikit-learn.org.\n",
              "     See: https://github.com/scikit-learn/scikit-learn/issues/21755 */\n",
              "  display: inline-block !important;\n",
              "  position: relative;\n",
              "}\n",
              "\n",
              "#sk-container-id-1 div.sk-text-repr-fallback {\n",
              "  display: none;\n",
              "}\n",
              "\n",
              "div.sk-parallel-item,\n",
              "div.sk-serial,\n",
              "div.sk-item {\n",
              "  /* draw centered vertical line to link estimators */\n",
              "  background-image: linear-gradient(var(--sklearn-color-text-on-default-background), var(--sklearn-color-text-on-default-background));\n",
              "  background-size: 2px 100%;\n",
              "  background-repeat: no-repeat;\n",
              "  background-position: center center;\n",
              "}\n",
              "\n",
              "/* Parallel-specific style estimator block */\n",
              "\n",
              "#sk-container-id-1 div.sk-parallel-item::after {\n",
              "  content: \"\";\n",
              "  width: 100%;\n",
              "  border-bottom: 2px solid var(--sklearn-color-text-on-default-background);\n",
              "  flex-grow: 1;\n",
              "}\n",
              "\n",
              "#sk-container-id-1 div.sk-parallel {\n",
              "  display: flex;\n",
              "  align-items: stretch;\n",
              "  justify-content: center;\n",
              "  background-color: var(--sklearn-color-background);\n",
              "  position: relative;\n",
              "}\n",
              "\n",
              "#sk-container-id-1 div.sk-parallel-item {\n",
              "  display: flex;\n",
              "  flex-direction: column;\n",
              "}\n",
              "\n",
              "#sk-container-id-1 div.sk-parallel-item:first-child::after {\n",
              "  align-self: flex-end;\n",
              "  width: 50%;\n",
              "}\n",
              "\n",
              "#sk-container-id-1 div.sk-parallel-item:last-child::after {\n",
              "  align-self: flex-start;\n",
              "  width: 50%;\n",
              "}\n",
              "\n",
              "#sk-container-id-1 div.sk-parallel-item:only-child::after {\n",
              "  width: 0;\n",
              "}\n",
              "\n",
              "/* Serial-specific style estimator block */\n",
              "\n",
              "#sk-container-id-1 div.sk-serial {\n",
              "  display: flex;\n",
              "  flex-direction: column;\n",
              "  align-items: center;\n",
              "  background-color: var(--sklearn-color-background);\n",
              "  padding-right: 1em;\n",
              "  padding-left: 1em;\n",
              "}\n",
              "\n",
              "\n",
              "/* Toggleable style: style used for estimator/Pipeline/ColumnTransformer box that is\n",
              "clickable and can be expanded/collapsed.\n",
              "- Pipeline and ColumnTransformer use this feature and define the default style\n",
              "- Estimators will overwrite some part of the style using the `sk-estimator` class\n",
              "*/\n",
              "\n",
              "/* Pipeline and ColumnTransformer style (default) */\n",
              "\n",
              "#sk-container-id-1 div.sk-toggleable {\n",
              "  /* Default theme specific background. It is overwritten whether we have a\n",
              "  specific estimator or a Pipeline/ColumnTransformer */\n",
              "  background-color: var(--sklearn-color-background);\n",
              "}\n",
              "\n",
              "/* Toggleable label */\n",
              "#sk-container-id-1 label.sk-toggleable__label {\n",
              "  cursor: pointer;\n",
              "  display: block;\n",
              "  width: 100%;\n",
              "  margin-bottom: 0;\n",
              "  padding: 0.5em;\n",
              "  box-sizing: border-box;\n",
              "  text-align: center;\n",
              "}\n",
              "\n",
              "#sk-container-id-1 label.sk-toggleable__label-arrow:before {\n",
              "  /* Arrow on the left of the label */\n",
              "  content: \"▸\";\n",
              "  float: left;\n",
              "  margin-right: 0.25em;\n",
              "  color: var(--sklearn-color-icon);\n",
              "}\n",
              "\n",
              "#sk-container-id-1 label.sk-toggleable__label-arrow:hover:before {\n",
              "  color: var(--sklearn-color-text);\n",
              "}\n",
              "\n",
              "/* Toggleable content - dropdown */\n",
              "\n",
              "#sk-container-id-1 div.sk-toggleable__content {\n",
              "  max-height: 0;\n",
              "  max-width: 0;\n",
              "  overflow: hidden;\n",
              "  text-align: left;\n",
              "  /* unfitted */\n",
              "  background-color: var(--sklearn-color-unfitted-level-0);\n",
              "}\n",
              "\n",
              "#sk-container-id-1 div.sk-toggleable__content.fitted {\n",
              "  /* fitted */\n",
              "  background-color: var(--sklearn-color-fitted-level-0);\n",
              "}\n",
              "\n",
              "#sk-container-id-1 div.sk-toggleable__content pre {\n",
              "  margin: 0.2em;\n",
              "  border-radius: 0.25em;\n",
              "  color: var(--sklearn-color-text);\n",
              "  /* unfitted */\n",
              "  background-color: var(--sklearn-color-unfitted-level-0);\n",
              "}\n",
              "\n",
              "#sk-container-id-1 div.sk-toggleable__content.fitted pre {\n",
              "  /* unfitted */\n",
              "  background-color: var(--sklearn-color-fitted-level-0);\n",
              "}\n",
              "\n",
              "#sk-container-id-1 input.sk-toggleable__control:checked~div.sk-toggleable__content {\n",
              "  /* Expand drop-down */\n",
              "  max-height: 200px;\n",
              "  max-width: 100%;\n",
              "  overflow: auto;\n",
              "}\n",
              "\n",
              "#sk-container-id-1 input.sk-toggleable__control:checked~label.sk-toggleable__label-arrow:before {\n",
              "  content: \"▾\";\n",
              "}\n",
              "\n",
              "/* Pipeline/ColumnTransformer-specific style */\n",
              "\n",
              "#sk-container-id-1 div.sk-label input.sk-toggleable__control:checked~label.sk-toggleable__label {\n",
              "  color: var(--sklearn-color-text);\n",
              "  background-color: var(--sklearn-color-unfitted-level-2);\n",
              "}\n",
              "\n",
              "#sk-container-id-1 div.sk-label.fitted input.sk-toggleable__control:checked~label.sk-toggleable__label {\n",
              "  background-color: var(--sklearn-color-fitted-level-2);\n",
              "}\n",
              "\n",
              "/* Estimator-specific style */\n",
              "\n",
              "/* Colorize estimator box */\n",
              "#sk-container-id-1 div.sk-estimator input.sk-toggleable__control:checked~label.sk-toggleable__label {\n",
              "  /* unfitted */\n",
              "  background-color: var(--sklearn-color-unfitted-level-2);\n",
              "}\n",
              "\n",
              "#sk-container-id-1 div.sk-estimator.fitted input.sk-toggleable__control:checked~label.sk-toggleable__label {\n",
              "  /* fitted */\n",
              "  background-color: var(--sklearn-color-fitted-level-2);\n",
              "}\n",
              "\n",
              "#sk-container-id-1 div.sk-label label.sk-toggleable__label,\n",
              "#sk-container-id-1 div.sk-label label {\n",
              "  /* The background is the default theme color */\n",
              "  color: var(--sklearn-color-text-on-default-background);\n",
              "}\n",
              "\n",
              "/* On hover, darken the color of the background */\n",
              "#sk-container-id-1 div.sk-label:hover label.sk-toggleable__label {\n",
              "  color: var(--sklearn-color-text);\n",
              "  background-color: var(--sklearn-color-unfitted-level-2);\n",
              "}\n",
              "\n",
              "/* Label box, darken color on hover, fitted */\n",
              "#sk-container-id-1 div.sk-label.fitted:hover label.sk-toggleable__label.fitted {\n",
              "  color: var(--sklearn-color-text);\n",
              "  background-color: var(--sklearn-color-fitted-level-2);\n",
              "}\n",
              "\n",
              "/* Estimator label */\n",
              "\n",
              "#sk-container-id-1 div.sk-label label {\n",
              "  font-family: monospace;\n",
              "  font-weight: bold;\n",
              "  display: inline-block;\n",
              "  line-height: 1.2em;\n",
              "}\n",
              "\n",
              "#sk-container-id-1 div.sk-label-container {\n",
              "  text-align: center;\n",
              "}\n",
              "\n",
              "/* Estimator-specific */\n",
              "#sk-container-id-1 div.sk-estimator {\n",
              "  font-family: monospace;\n",
              "  border: 1px dotted var(--sklearn-color-border-box);\n",
              "  border-radius: 0.25em;\n",
              "  box-sizing: border-box;\n",
              "  margin-bottom: 0.5em;\n",
              "  /* unfitted */\n",
              "  background-color: var(--sklearn-color-unfitted-level-0);\n",
              "}\n",
              "\n",
              "#sk-container-id-1 div.sk-estimator.fitted {\n",
              "  /* fitted */\n",
              "  background-color: var(--sklearn-color-fitted-level-0);\n",
              "}\n",
              "\n",
              "/* on hover */\n",
              "#sk-container-id-1 div.sk-estimator:hover {\n",
              "  /* unfitted */\n",
              "  background-color: var(--sklearn-color-unfitted-level-2);\n",
              "}\n",
              "\n",
              "#sk-container-id-1 div.sk-estimator.fitted:hover {\n",
              "  /* fitted */\n",
              "  background-color: var(--sklearn-color-fitted-level-2);\n",
              "}\n",
              "\n",
              "/* Specification for estimator info (e.g. \"i\" and \"?\") */\n",
              "\n",
              "/* Common style for \"i\" and \"?\" */\n",
              "\n",
              ".sk-estimator-doc-link,\n",
              "a:link.sk-estimator-doc-link,\n",
              "a:visited.sk-estimator-doc-link {\n",
              "  float: right;\n",
              "  font-size: smaller;\n",
              "  line-height: 1em;\n",
              "  font-family: monospace;\n",
              "  background-color: var(--sklearn-color-background);\n",
              "  border-radius: 1em;\n",
              "  height: 1em;\n",
              "  width: 1em;\n",
              "  text-decoration: none !important;\n",
              "  margin-left: 1ex;\n",
              "  /* unfitted */\n",
              "  border: var(--sklearn-color-unfitted-level-1) 1pt solid;\n",
              "  color: var(--sklearn-color-unfitted-level-1);\n",
              "}\n",
              "\n",
              ".sk-estimator-doc-link.fitted,\n",
              "a:link.sk-estimator-doc-link.fitted,\n",
              "a:visited.sk-estimator-doc-link.fitted {\n",
              "  /* fitted */\n",
              "  border: var(--sklearn-color-fitted-level-1) 1pt solid;\n",
              "  color: var(--sklearn-color-fitted-level-1);\n",
              "}\n",
              "\n",
              "/* On hover */\n",
              "div.sk-estimator:hover .sk-estimator-doc-link:hover,\n",
              ".sk-estimator-doc-link:hover,\n",
              "div.sk-label-container:hover .sk-estimator-doc-link:hover,\n",
              ".sk-estimator-doc-link:hover {\n",
              "  /* unfitted */\n",
              "  background-color: var(--sklearn-color-unfitted-level-3);\n",
              "  color: var(--sklearn-color-background);\n",
              "  text-decoration: none;\n",
              "}\n",
              "\n",
              "div.sk-estimator.fitted:hover .sk-estimator-doc-link.fitted:hover,\n",
              ".sk-estimator-doc-link.fitted:hover,\n",
              "div.sk-label-container:hover .sk-estimator-doc-link.fitted:hover,\n",
              ".sk-estimator-doc-link.fitted:hover {\n",
              "  /* fitted */\n",
              "  background-color: var(--sklearn-color-fitted-level-3);\n",
              "  color: var(--sklearn-color-background);\n",
              "  text-decoration: none;\n",
              "}\n",
              "\n",
              "/* Span, style for the box shown on hovering the info icon */\n",
              ".sk-estimator-doc-link span {\n",
              "  display: none;\n",
              "  z-index: 9999;\n",
              "  position: relative;\n",
              "  font-weight: normal;\n",
              "  right: .2ex;\n",
              "  padding: .5ex;\n",
              "  margin: .5ex;\n",
              "  width: min-content;\n",
              "  min-width: 20ex;\n",
              "  max-width: 50ex;\n",
              "  color: var(--sklearn-color-text);\n",
              "  box-shadow: 2pt 2pt 4pt #999;\n",
              "  /* unfitted */\n",
              "  background: var(--sklearn-color-unfitted-level-0);\n",
              "  border: .5pt solid var(--sklearn-color-unfitted-level-3);\n",
              "}\n",
              "\n",
              ".sk-estimator-doc-link.fitted span {\n",
              "  /* fitted */\n",
              "  background: var(--sklearn-color-fitted-level-0);\n",
              "  border: var(--sklearn-color-fitted-level-3);\n",
              "}\n",
              "\n",
              ".sk-estimator-doc-link:hover span {\n",
              "  display: block;\n",
              "}\n",
              "\n",
              "/* \"?\"-specific style due to the `<a>` HTML tag */\n",
              "\n",
              "#sk-container-id-1 a.estimator_doc_link {\n",
              "  float: right;\n",
              "  font-size: 1rem;\n",
              "  line-height: 1em;\n",
              "  font-family: monospace;\n",
              "  background-color: var(--sklearn-color-background);\n",
              "  border-radius: 1rem;\n",
              "  height: 1rem;\n",
              "  width: 1rem;\n",
              "  text-decoration: none;\n",
              "  /* unfitted */\n",
              "  color: var(--sklearn-color-unfitted-level-1);\n",
              "  border: var(--sklearn-color-unfitted-level-1) 1pt solid;\n",
              "}\n",
              "\n",
              "#sk-container-id-1 a.estimator_doc_link.fitted {\n",
              "  /* fitted */\n",
              "  border: var(--sklearn-color-fitted-level-1) 1pt solid;\n",
              "  color: var(--sklearn-color-fitted-level-1);\n",
              "}\n",
              "\n",
              "/* On hover */\n",
              "#sk-container-id-1 a.estimator_doc_link:hover {\n",
              "  /* unfitted */\n",
              "  background-color: var(--sklearn-color-unfitted-level-3);\n",
              "  color: var(--sklearn-color-background);\n",
              "  text-decoration: none;\n",
              "}\n",
              "\n",
              "#sk-container-id-1 a.estimator_doc_link.fitted:hover {\n",
              "  /* fitted */\n",
              "  background-color: var(--sklearn-color-fitted-level-3);\n",
              "}\n",
              "</style><div id=\"sk-container-id-1\" class=\"sk-top-container\"><div class=\"sk-text-repr-fallback\"><pre>LinearRegression()</pre><b>In a Jupyter environment, please rerun this cell to show the HTML representation or trust the notebook. <br />On GitHub, the HTML representation is unable to render, please try loading this page with nbviewer.org.</b></div><div class=\"sk-container\" hidden><div class=\"sk-item\"><div class=\"sk-estimator fitted sk-toggleable\"><input class=\"sk-toggleable__control sk-hidden--visually\" id=\"sk-estimator-id-1\" type=\"checkbox\" checked><label for=\"sk-estimator-id-1\" class=\"sk-toggleable__label fitted sk-toggleable__label-arrow fitted\">&nbsp;&nbsp;LinearRegression<a class=\"sk-estimator-doc-link fitted\" rel=\"noreferrer\" target=\"_blank\" href=\"https://scikit-learn.org/1.4/modules/generated/sklearn.linear_model.LinearRegression.html\">?<span>Documentation for LinearRegression</span></a><span class=\"sk-estimator-doc-link fitted\">i<span>Fitted</span></span></label><div class=\"sk-toggleable__content fitted\"><pre>LinearRegression()</pre></div> </div></div></div></div>"
            ],
            "text/plain": [
              "LinearRegression()"
            ]
          },
          "execution_count": 81,
          "metadata": {},
          "output_type": "execute_result"
        }
      ],
      "source": [
        "lr.fit(X_train,y_train)"
      ]
    },
    {
      "cell_type": "code",
      "execution_count": 83,
      "id": "663c2788",
      "metadata": {},
      "outputs": [
        {
          "data": {
            "text/plain": [
              "0.11338941035219607"
            ]
          },
          "execution_count": 83,
          "metadata": {},
          "output_type": "execute_result"
        }
      ],
      "source": [
        "#R2 score\n",
        "from sklearn.metrics import r2_score\n",
        "predictions = lr.predict(X_train)\n",
        "r2_score(y_train, predictions)\n",
        "# The r2 score is low, it may indicate that our prective model with all its variables is not the best fit\n",
        "#This was sort of expected, as we have seen with the graphics not all variables present a normal distribution or ar fitted for a linear regression.\n",
        "#It's also important to note that we only perform a visual check (heatmap) on multicolinearity on the numerical variables.\n",
        "# We migth need to address the multicolinearity in the categorical variables\n",
        "#A model with less variables might be a better fit or maybe it's needs another type of regression that it's not linear."
      ]
    },
    {
      "cell_type": "code",
      "execution_count": null,
      "id": "67ffce5e",
      "metadata": {},
      "outputs": [],
      "source": [
        "#Round 7\n",
        "#Explore the data\n",
        "#Already done.\n",
        "\n",
        "#Modeling\n",
        "#Description:\n",
        "\n",
        "#Try to improve the linear regression model. Remember the previous rounds. Follow the steps as shown in previous lectures and try to improve the accuracy of the model.\n",
        "\n",
        "#Some approaches you can try in this exercise:\n",
        "#use the concept of multicollinearity and remove insignificant variables\n",
        "#use a different method of scaling the numerical variables\n",
        "#use a different ratio of train test split\n",
        "#use the transformation on numerical columns which align it more towards a normal distribution"
      ]
    },
    {
      "cell_type": "code",
      "execution_count": null,
      "id": "ebd2fc7a",
      "metadata": {},
      "outputs": [],
      "source": [
        "#Final Round\n",
        "#For this lab, we still keep using the file that you downloaded from the original link. \n",
        "#The purpose now is to present a clean version of the entire process. \n",
        "#You should have a notebook that runs from beginning to end with no errors in the correct order. \n",
        "#The notebook should contain comments, decisions, and headings which clearly show the process from start to finish.\n",
        "#It's time to put it all together. Remember the previous rounds and follow the steps as shown in previous lectures.\n",
        "\n"
      ]
    }
  ],
  "metadata": {
    "colab": {
      "provenance": []
    },
    "kernelspec": {
      "display_name": "Python 3 (ipykernel)",
      "language": "python",
      "name": "python3"
    },
    "language_info": {
      "codemirror_mode": {
        "name": "ipython",
        "version": 3
      },
      "file_extension": ".py",
      "mimetype": "text/x-python",
      "name": "python",
      "nbconvert_exporter": "python",
      "pygments_lexer": "ipython3",
      "version": "3.11.9"
    }
  },
  "nbformat": 4,
  "nbformat_minor": 5
}
