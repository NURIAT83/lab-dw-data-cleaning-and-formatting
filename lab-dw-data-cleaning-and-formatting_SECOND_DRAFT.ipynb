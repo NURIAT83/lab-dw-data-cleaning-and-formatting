{
  "cells": [
    {
      "cell_type": "markdown",
      "id": "25d7736c-ba17-4aff-b6bb-66eba20fbf4e",
      "metadata": {
        "id": "25d7736c-ba17-4aff-b6bb-66eba20fbf4e"
      },
      "source": [
        "# Lab | Data Cleaning and Formatting"
      ]
    },
    {
      "cell_type": "markdown",
      "id": "d1973e9e-8be6-4039-b70e-d73ee0d94c99",
      "metadata": {
        "id": "d1973e9e-8be6-4039-b70e-d73ee0d94c99"
      },
      "source": [
        "In this lab, we will be working with the customer data from an insurance company, which can be found in the CSV file located at the following link: https://raw.githubusercontent.com/data-bootcamp-v4/data/main/file1.csv\n"
      ]
    },
    {
      "cell_type": "markdown",
      "id": "31b8a9e7-7db9-4604-991b-ef6771603e57",
      "metadata": {
        "id": "31b8a9e7-7db9-4604-991b-ef6771603e57"
      },
      "source": [
        "# Challenge 1: Data Cleaning and Formatting"
      ]
    },
    {
      "cell_type": "markdown",
      "id": "81553f19-9f2c-484b-8940-520aff884022",
      "metadata": {
        "id": "81553f19-9f2c-484b-8940-520aff884022"
      },
      "source": [
        "## Exercise 1: Cleaning Column Names"
      ]
    },
    {
      "cell_type": "markdown",
      "id": "34a929f4-1be4-4fa8-adda-42ffd920be90",
      "metadata": {
        "id": "34a929f4-1be4-4fa8-adda-42ffd920be90"
      },
      "source": [
        "To ensure consistency and ease of use, standardize the column names of the dataframe. Start by taking a first look at the dataframe and identifying any column names that need to be modified. Use appropriate naming conventions and make sure that column names are descriptive and informative.\n",
        "\n",
        "*Hint*:\n",
        "- *Column names should be in lower case*\n",
        "- *White spaces in column names should be replaced by `_`*\n",
        "- *`st` could be replaced for `state`*"
      ]
    },
    {
      "cell_type": "code",
      "execution_count": 1,
      "id": "5810735c-8056-4442-bbf2-dda38d3e284a",
      "metadata": {
        "id": "5810735c-8056-4442-bbf2-dda38d3e284a"
      },
      "outputs": [],
      "source": [
        "# Your code here\n",
        "import pandas as pd\n",
        "import numpy as np\n",
        "url=\"https://raw.githubusercontent.com/data-bootcamp-v4/data/main/file1.csv\"\n",
        "insurance_customers_df=pd.read_csv(url)\n"
      ]
    },
    {
      "cell_type": "code",
      "execution_count": 2,
      "id": "c9440430",
      "metadata": {},
      "outputs": [],
      "source": [
        "#To work better with our columns we are going to convert the titles to lowercase \n",
        "insurance_customers_df.columns=map(str.lower,insurance_customers_df.columns)"
      ]
    },
    {
      "cell_type": "code",
      "execution_count": 3,
      "id": "42abcd8a",
      "metadata": {},
      "outputs": [],
      "source": [
        "#And remove the blank space btw words\n",
        "insurance_customers_df.columns=insurance_customers_df.columns.str.replace(\" \",\"_\")"
      ]
    },
    {
      "cell_type": "code",
      "execution_count": 4,
      "id": "2cf22b8f",
      "metadata": {},
      "outputs": [],
      "source": [
        "#Change  st for state \n",
        "insurance_customers_df['st']=insurance_customers_df['st'].str.replace('st','state')"
      ]
    },
    {
      "cell_type": "code",
      "execution_count": null,
      "id": "c4724a9f",
      "metadata": {},
      "outputs": [],
      "source": []
    },
    {
      "cell_type": "markdown",
      "id": "9cb501ec-36ff-4589-b872-6252bb150316",
      "metadata": {
        "id": "9cb501ec-36ff-4589-b872-6252bb150316"
      },
      "source": [
        "## Exercise 2: Cleaning invalid Values"
      ]
    },
    {
      "cell_type": "markdown",
      "id": "771fdcf3-8e20-4b06-9c24-3a93ba2b0909",
      "metadata": {
        "id": "771fdcf3-8e20-4b06-9c24-3a93ba2b0909"
      },
      "source": [
        "The dataset contains columns with inconsistent and incorrect values that could affect the accuracy of our analysis. Therefore, we need to clean these columns to ensure that they only contain valid data.\n",
        "\n",
        "Note that this exercise will focus only on cleaning inconsistent values and will not involve handling null values (NaN or None).\n",
        "\n",
        "*Hint*:\n",
        "- *Gender column contains various inconsistent values such as \"F\", \"M\", \"Femal\", \"Male\", \"female\", which need to be standardized, for example, to \"M\" and \"F\".*\n",
        "- *State abbreviations be can replaced with its full name, for example \"AZ\": \"Arizona\", \"Cali\": \"California\", \"WA\": \"Washington\"*\n",
        "- *In education, \"Bachelors\" could be replaced by \"Bachelor\"*\n",
        "- *In Customer Lifetime Value, delete the `%` character*\n",
        "- *In vehicle class, \"Sports Car\", \"Luxury SUV\" and \"Luxury Car\" could be replaced by \"Luxury\"*"
      ]
    },
    {
      "cell_type": "code",
      "execution_count": 5,
      "id": "3f8ee5cb-50ab-48af-8a9f-9a389804033c",
      "metadata": {
        "id": "3f8ee5cb-50ab-48af-8a9f-9a389804033c"
      },
      "outputs": [],
      "source": [
        "# Standarize gender column to \"F\" and \"M\"\n",
        "insurance_customers_df['gender'].replace({'Femal': 'F', 'female': 'F', 'Male': 'M'}, inplace=True)"
      ]
    },
    {
      "cell_type": "code",
      "execution_count": 6,
      "id": "cd76c7cd",
      "metadata": {},
      "outputs": [],
      "source": [
        "#Standarize education column, when \"Bachelors\" change for \"Bachelor\"\n",
        "insurance_customers_df['education'].replace({'Bachelors': 'Bachelor'}, inplace=True)"
      ]
    },
    {
      "cell_type": "code",
      "execution_count": 7,
      "id": "bf7ddbc3",
      "metadata": {},
      "outputs": [],
      "source": [
        "#Standarize vehicle_class column\n",
        "# \"Sports Car\", \"Luxury SUV\", \"Luxury Car\" replace with \"Luxury\"\n",
        "insurance_customers_df['vehicle_class'].replace({'Sports Car': 'Luxury', 'Luxury SUV': 'Luxury', 'Luxury Car': 'Luxury'}, inplace=True)"
      ]
    },
    {
      "cell_type": "code",
      "execution_count": 8,
      "id": "83e46bb2",
      "metadata": {},
      "outputs": [
        {
          "data": {
            "text/plain": [
              "0              NaN\n",
              "1        6979.5359\n",
              "2       12887.4317\n",
              "3        7645.8618\n",
              "4        5363.0765\n",
              "           ...    \n",
              "4003           NaN\n",
              "4004           NaN\n",
              "4005           NaN\n",
              "4006           NaN\n",
              "4007           NaN\n",
              "Name: customer_lifetime_value, Length: 4008, dtype: float64"
            ]
          },
          "execution_count": 8,
          "metadata": {},
          "output_type": "execute_result"
        }
      ],
      "source": [
        "#Delete the % character from customer lifetime value column\n",
        "insurance_customers_df['customer_lifetime_value'].str.replace('%','').astype(float)/100"
      ]
    },
    {
      "cell_type": "code",
      "execution_count": 9,
      "id": "a4014306",
      "metadata": {},
      "outputs": [
        {
          "name": "stdout",
          "output_type": "stream",
          "text": [
            "[nan 'F' 'M']\n"
          ]
        }
      ],
      "source": [
        "#Let's check the columns with changes\n",
        "#Gender column\n",
        "insurance_customers_df['gender'].unique()\n",
        "print(insurance_customers_df['gender'].unique())\n",
        "#The changes have been made, or values are 'F' , 'M' and nan values (to be clean later on)\n"
      ]
    },
    {
      "cell_type": "code",
      "execution_count": 10,
      "id": "84cb681f",
      "metadata": {},
      "outputs": [
        {
          "name": "stdout",
          "output_type": "stream",
          "text": [
            "['Master' 'Bachelor' 'High School or Below' 'College' 'Doctor' nan]\n"
          ]
        }
      ],
      "source": [
        "#Let's check the columns with changes\n",
        "#education column\n",
        "insurance_customers_df['education'].unique()\n",
        "print(insurance_customers_df['education'].unique())\n",
        "#The changes have been done succesfully\n",
        "#Note : there are nan values to adress later on"
      ]
    },
    {
      "cell_type": "code",
      "execution_count": 11,
      "id": "99507228",
      "metadata": {},
      "outputs": [
        {
          "name": "stdout",
          "output_type": "stream",
          "text": [
            "['Four-Door Car' 'Two-Door Car' 'SUV' 'Luxury' nan]\n"
          ]
        }
      ],
      "source": [
        "#Let's check the columns with changes\n",
        "#Vehicle class column\n",
        "insurance_customers_df['vehicle_class'].unique()\n",
        "print(insurance_customers_df['vehicle_class'].unique())\n",
        "#The changes have been done succesfully\n",
        "#Note : there are nan values to adress later on"
      ]
    },
    {
      "cell_type": "code",
      "execution_count": 12,
      "id": "572443cb",
      "metadata": {},
      "outputs": [
        {
          "name": "stdout",
          "output_type": "stream",
          "text": [
            "[nan '697953.59%' '1288743.17%' ... '2031499.76%' '323912.47%'\n",
            " '899704.02%']\n"
          ]
        }
      ],
      "source": [
        "#Let's check the columns with changes\n",
        "#customer lifetime value column\n",
        "insurance_customers_df['customer_lifetime_value'].unique()\n",
        "print(insurance_customers_df['customer_lifetime_value'].unique())"
      ]
    },
    {
      "cell_type": "code",
      "execution_count": 13,
      "id": "60dc2cce",
      "metadata": {},
      "outputs": [],
      "source": [
        "#Change state abbreviations to full name\n",
        "change_states={'AZ': 'Arizona', 'Cali': 'California', 'WA': 'Washington'}\n",
        "insurance_customers_df['st']=insurance_customers_df['st'].replace(change_states)"
      ]
    },
    {
      "cell_type": "code",
      "execution_count": 14,
      "id": "f6b449e6",
      "metadata": {},
      "outputs": [
        {
          "name": "stdout",
          "output_type": "stream",
          "text": [
            "<class 'pandas.core.frame.DataFrame'>\n",
            "RangeIndex: 4008 entries, 0 to 4007\n",
            "Data columns (total 11 columns):\n",
            " #   Column                     Non-Null Count  Dtype  \n",
            "---  ------                     --------------  -----  \n",
            " 0   customer                   1071 non-null   object \n",
            " 1   st                         1071 non-null   object \n",
            " 2   gender                     954 non-null    object \n",
            " 3   education                  1071 non-null   object \n",
            " 4   customer_lifetime_value    1068 non-null   object \n",
            " 5   income                     1071 non-null   float64\n",
            " 6   monthly_premium_auto       1071 non-null   float64\n",
            " 7   number_of_open_complaints  1071 non-null   object \n",
            " 8   policy_type                1071 non-null   object \n",
            " 9   vehicle_class              1071 non-null   object \n",
            " 10  total_claim_amount         1071 non-null   float64\n",
            "dtypes: float64(3), object(8)\n",
            "memory usage: 344.6+ KB\n"
          ]
        }
      ],
      "source": [
        "insurance_customers_df.info()"
      ]
    },
    {
      "cell_type": "markdown",
      "id": "85ff78ce-0174-4890-9db3-8048b7d7d2d0",
      "metadata": {
        "id": "85ff78ce-0174-4890-9db3-8048b7d7d2d0"
      },
      "source": [
        "## Exercise 3: Formatting data types"
      ]
    },
    {
      "cell_type": "markdown",
      "id": "b91c2cf8-79a2-4baf-9f65-ff2fb22270bd",
      "metadata": {
        "id": "b91c2cf8-79a2-4baf-9f65-ff2fb22270bd"
      },
      "source": [
        "The data types of many columns in the dataset appear to be incorrect. This could impact the accuracy of our analysis. To ensure accurate analysis, we need to correct the data types of these columns. Please update the data types of the columns as appropriate."
      ]
    },
    {
      "cell_type": "markdown",
      "id": "43e5d853-ff9e-43b2-9d92-aef2f78764f3",
      "metadata": {
        "id": "43e5d853-ff9e-43b2-9d92-aef2f78764f3"
      },
      "source": [
        "It is important to note that this exercise does not involve handling null values (NaN or None)."
      ]
    },
    {
      "cell_type": "markdown",
      "id": "329ca691-9196-4419-8969-3596746237a1",
      "metadata": {
        "id": "329ca691-9196-4419-8969-3596746237a1"
      },
      "source": [
        "*Hint*:\n",
        "- *Customer lifetime value should be numeric*\n",
        "- *Number of open complaints has an incorrect format. Look at the different values it takes with `unique()` and take the middle value. As an example, 1/5/00 should be 5. Number of open complaints is a string - remember you can use `split()` to deal with it and take the number you need. Finally, since it should be numeric, cast the column to be in its proper type.*"
      ]
    },
    {
      "cell_type": "code",
      "execution_count": 15,
      "id": "eb8f5991-73e9-405f-bf1c-6b7c589379a9",
      "metadata": {
        "id": "eb8f5991-73e9-405f-bf1c-6b7c589379a9"
      },
      "outputs": [
        {
          "data": {
            "text/plain": [
              "array(['1/0/00', '1/2/00', '1/1/00', '1/3/00', '1/5/00', '1/4/00', nan],\n",
              "      dtype=object)"
            ]
          },
          "execution_count": 15,
          "metadata": {},
          "output_type": "execute_result"
        }
      ],
      "source": [
        "#Observe the characteristics of the variable Number of Open Complaints with unique()\n",
        "insurance_customers_df['number_of_open_complaints'].unique()"
      ]
    },
    {
      "cell_type": "code",
      "execution_count": 16,
      "id": "c2565504",
      "metadata": {},
      "outputs": [],
      "source": [
        "#Using only the number on the middle\n",
        "#link:https://pandas.pydata.org/docs/reference/api/pandas.Series.str.split.html#pandas.Series.str.split\n",
        "insurance_customers_df['number_of_open_complaints'] = insurance_customers_df['number_of_open_complaints'].astype(str).str.split(\"/\").str[1]\n",
        "\n",
        "\n"
      ]
    },
    {
      "cell_type": "code",
      "execution_count": 17,
      "id": "5ba581fb",
      "metadata": {},
      "outputs": [
        {
          "data": {
            "text/plain": [
              "array(['0', '2', '1', '3', '5', '4', nan], dtype=object)"
            ]
          },
          "execution_count": 17,
          "metadata": {},
          "output_type": "execute_result"
        }
      ],
      "source": [
        "#We can check how the column is transforming\n",
        "insurance_customers_df['number_of_open_complaints'].unique()"
      ]
    },
    {
      "cell_type": "code",
      "execution_count": null,
      "id": "41c34bc7",
      "metadata": {},
      "outputs": [],
      "source": [
        "\n"
      ]
    },
    {
      "cell_type": "markdown",
      "id": "14c52e28-2d0c-4dd2-8bd5-3476e34fadc1",
      "metadata": {
        "id": "14c52e28-2d0c-4dd2-8bd5-3476e34fadc1"
      },
      "source": [
        "## Exercise 4: Dealing with Null values"
      ]
    },
    {
      "cell_type": "markdown",
      "id": "34b9a20f-7d32-4417-975e-1b4dfb0e16cd",
      "metadata": {
        "id": "34b9a20f-7d32-4417-975e-1b4dfb0e16cd"
      },
      "source": [
        "Identify any columns with null or missing values. Identify how many null values each column has. You can use the `isnull()` function in pandas to find columns with null values.\n",
        "\n",
        "Decide on a strategy for handling the null values. There are several options, including:\n",
        "\n",
        "- Drop the rows or columns with null values\n",
        "- Fill the null values with a specific value (such as the column mean or median for numerical variables, and mode for categorical variables)\n",
        "- Fill the null values with the previous or next value in the column\n",
        "- Fill the null values based on a more complex algorithm or model (note: we haven't covered this yet)\n",
        "\n",
        "Implement your chosen strategy to handle the null values. You can use the `fillna()` function in pandas to fill null values or `dropna()` function to drop null values.\n",
        "\n",
        "Verify that your strategy has successfully handled the null values. You can use the `isnull()` function again to check if there are still null values in the dataset.\n",
        "\n",
        "Remember to document your process and explain your reasoning for choosing a particular strategy for handling null values.\n",
        "\n",
        "After formatting data types, as a last step, convert all the numeric variables to integers."
      ]
    },
    {
      "cell_type": "code",
      "execution_count": 18,
      "id": "31ffa0ee",
      "metadata": {},
      "outputs": [
        {
          "data": {
            "text/plain": [
              "customer                     True\n",
              "st                           True\n",
              "gender                       True\n",
              "education                    True\n",
              "customer_lifetime_value      True\n",
              "income                       True\n",
              "monthly_premium_auto         True\n",
              "number_of_open_complaints    True\n",
              "policy_type                  True\n",
              "vehicle_class                True\n",
              "total_claim_amount           True\n",
              "dtype: bool"
            ]
          },
          "execution_count": 18,
          "metadata": {},
          "output_type": "execute_result"
        }
      ],
      "source": [
        "#Checking for Nan values in each column\n",
        "insurance_customers_df.isna().any()\n",
        "#As we can see all columns have Nan values "
      ]
    },
    {
      "cell_type": "code",
      "execution_count": 19,
      "id": "018c6cf1",
      "metadata": {},
      "outputs": [
        {
          "data": {
            "text/plain": [
              "customer                     2937\n",
              "st                           2937\n",
              "gender                       3054\n",
              "education                    2937\n",
              "customer_lifetime_value      2940\n",
              "income                       2937\n",
              "monthly_premium_auto         2937\n",
              "number_of_open_complaints    2937\n",
              "policy_type                  2937\n",
              "vehicle_class                2937\n",
              "total_claim_amount           2937\n",
              "dtype: int64"
            ]
          },
          "execution_count": 19,
          "metadata": {},
          "output_type": "execute_result"
        }
      ],
      "source": [
        "#It's is useful to know how many Nan values are in each column\n",
        "insurance_customers_df.isna().sum()\n",
        "#The number of Nan values is high in all cases, close to 70% \n",
        "#The column with more Nan values is the 'gender' column\n",
        "#Deleting such a high number of datapoints could potentially harm our analysis\n",
        "\n"
      ]
    },
    {
      "cell_type": "code",
      "execution_count": 20,
      "id": "e74f6548",
      "metadata": {},
      "outputs": [
        {
          "name": "stdout",
          "output_type": "stream",
          "text": [
            "0        2\n",
            "1        0\n",
            "2        0\n",
            "3        0\n",
            "4        0\n",
            "        ..\n",
            "4003    11\n",
            "4004    11\n",
            "4005    11\n",
            "4006    11\n",
            "4007    11\n",
            "Length: 4008, dtype: int64\n"
          ]
        }
      ],
      "source": [
        "#Thoughts going forward\n",
        "#We want to save as much information as possible.\n",
        "#At the same time if there are too many missing values for the same observation, it's not worth saving it\n",
        "#link:https://saturncloud.io/blog/how-to-count-the-number-of-missingnan-values-in-each-row-in-python-pandas/#:~:text=(axis%3D1)-,To%20count%20the%20number%20of%20missing%2FNaN%20values%20in%20each,True%20indicates%20a%20missing%20value.\n",
        "row_nan_count = insurance_customers_df.isna().sum(axis=1)\n",
        "\n",
        "print(row_nan_count)"
      ]
    },
    {
      "cell_type": "code",
      "execution_count": 21,
      "id": "407ba841",
      "metadata": {},
      "outputs": [],
      "source": [
        "#As we can see there are observations with all their values blank and some with just one or two\n",
        "#We can set a limit, if they have more than five values, they are dropped\n",
        "#link:https://pandas.pydata.org/docs/reference/api/pandas.DataFrame.dropna.html\n",
        "insurance_customers_df=insurance_customers_df.dropna(thresh=6) # Keep only the rows with at least 6 non-NA values"
      ]
    },
    {
      "cell_type": "code",
      "execution_count": 22,
      "id": "cf5ac928",
      "metadata": {},
      "outputs": [
        {
          "data": {
            "text/plain": [
              "customer                     False\n",
              "st                           False\n",
              "gender                        True\n",
              "education                    False\n",
              "customer_lifetime_value       True\n",
              "income                       False\n",
              "monthly_premium_auto         False\n",
              "number_of_open_complaints    False\n",
              "policy_type                  False\n",
              "vehicle_class                False\n",
              "total_claim_amount           False\n",
              "dtype: bool"
            ]
          },
          "execution_count": 22,
          "metadata": {},
          "output_type": "execute_result"
        }
      ],
      "source": [
        "#Let's check again if we have any Nan values to clean\n",
        "insurance_customers_df.isna().any()\n",
        "#We can see that we still have Nan values in the columns 'gender' and 'customer lifetime value'\n"
      ]
    },
    {
      "cell_type": "code",
      "execution_count": 23,
      "id": "1766a9f7",
      "metadata": {},
      "outputs": [
        {
          "data": {
            "text/plain": [
              "customer                       0\n",
              "st                             0\n",
              "gender                       117\n",
              "education                      0\n",
              "customer_lifetime_value        3\n",
              "income                         0\n",
              "monthly_premium_auto           0\n",
              "number_of_open_complaints      0\n",
              "policy_type                    0\n",
              "vehicle_class                  0\n",
              "total_claim_amount             0\n",
              "dtype: int64"
            ]
          },
          "execution_count": 23,
          "metadata": {},
          "output_type": "execute_result"
        }
      ],
      "source": [
        "#It's is useful to know how many Nan values are in each column\n",
        "insurance_customers_df.isna().sum()"
      ]
    },
    {
      "cell_type": "code",
      "execution_count": null,
      "id": "cc81c00f",
      "metadata": {},
      "outputs": [],
      "source": []
    },
    {
      "cell_type": "markdown",
      "id": "98416351-e999-4156-9834-9b00a311adfa",
      "metadata": {
        "id": "98416351-e999-4156-9834-9b00a311adfa"
      },
      "source": [
        "## Exercise 5: Dealing with duplicates"
      ]
    },
    {
      "cell_type": "markdown",
      "id": "ea0816a7-a18e-4d4c-b667-a8452a800bd1",
      "metadata": {
        "id": "ea0816a7-a18e-4d4c-b667-a8452a800bd1"
      },
      "source": [
        "Use the `.duplicated()` method to identify any duplicate rows in the dataframe.\n",
        "\n",
        "Decide on a strategy for handling the duplicates. Options include:\n",
        "- Dropping all duplicate rows\n",
        "- Keeping only the first occurrence of each duplicated row\n",
        "- Keeping only the last occurrence of each duplicated row\n",
        "- Dropping duplicates based on a subset of columns\n",
        "- Dropping duplicates based on a specific column\n",
        "\n",
        "Implement your chosen strategy using the `drop_duplicates()` function.\n",
        "\n",
        "Verify that your strategy has successfully handled the duplicates by checking for duplicates again using `.duplicated()`.\n",
        "\n",
        "Remember to document your process and explain your reasoning for choosing a particular strategy for handling duplicates.\n",
        "\n",
        "Save the cleaned dataset to a new CSV file.\n",
        "\n",
        "*Hint*: *after dropping duplicates, reset the index to ensure consistency*."
      ]
    },
    {
      "cell_type": "code",
      "execution_count": 24,
      "id": "1929362c-47ed-47cb-baca-358b78d401a0",
      "metadata": {
        "id": "1929362c-47ed-47cb-baca-358b78d401a0"
      },
      "outputs": [],
      "source": [
        "insurance_customers_df=insurance_customers_df.drop_duplicates(keep='last')"
      ]
    },
    {
      "cell_type": "code",
      "execution_count": 25,
      "id": "bd3aaee4",
      "metadata": {},
      "outputs": [],
      "source": [
        "insurance_customers_df.to_csv(\"insurance_customers_df_clean.csv\")"
      ]
    },
    {
      "cell_type": "markdown",
      "id": "60840701-4783-40e2-b4d8-55303f9100c9",
      "metadata": {
        "id": "60840701-4783-40e2-b4d8-55303f9100c9"
      },
      "source": [
        "# Bonus: Challenge 2: creating functions on a separate `py` file"
      ]
    },
    {
      "cell_type": "markdown",
      "id": "9d1adb3a-17cf-4899-8041-da21a4337fb4",
      "metadata": {
        "id": "9d1adb3a-17cf-4899-8041-da21a4337fb4"
      },
      "source": [
        "Put all the data cleaning and formatting steps into functions, and create a main function that performs all the cleaning and formatting.\n",
        "\n",
        "Write these functions in separate .py file(s). By putting these steps into functions, we can make the code more modular and easier to maintain."
      ]
    },
    {
      "cell_type": "markdown",
      "id": "0e170dc2-b62c-417a-8248-e63ed18a70c4",
      "metadata": {
        "id": "0e170dc2-b62c-417a-8248-e63ed18a70c4"
      },
      "source": [
        "*Hint: autoreload module is a utility module in Python that allows you to automatically reload modules in the current session when changes are made to the source code. This can be useful in situations where you are actively developing code and want to see the effects of changes you make without having to constantly restart the Python interpreter or Jupyter Notebook kernel.*"
      ]
    },
    {
      "cell_type": "code",
      "execution_count": 26,
      "id": "a52c6dfc-cd11-4d01-bda4-f719fa33e9a4",
      "metadata": {
        "id": "a52c6dfc-cd11-4d01-bda4-f719fa33e9a4"
      },
      "outputs": [],
      "source": [
        "# Your code here"
      ]
    },
    {
      "cell_type": "markdown",
      "id": "80f846bb-3f5e-4ca2-96c0-900728daca5a",
      "metadata": {
        "id": "80f846bb-3f5e-4ca2-96c0-900728daca5a",
        "tags": []
      },
      "source": [
        "# Bonus: Challenge 3: Analyzing Clean and Formated Data"
      ]
    },
    {
      "cell_type": "markdown",
      "id": "9021630e-cc90-446c-b5bd-264d6c864207",
      "metadata": {
        "id": "9021630e-cc90-446c-b5bd-264d6c864207"
      },
      "source": [
        "You have been tasked with analyzing the data to identify potential areas for improving customer retention and profitability. Your goal is to identify customers with a high policy claim amount and a low customer lifetime value.\n",
        "\n",
        "In the Pandas Lab, we only looked at high policy claim amounts because we couldn't look into low customer lifetime values. If we had tried to work with that column, we wouldn't have been able to because customer lifetime value wasn't clean and in its proper format. So after cleaning and formatting the data, let's get some more interesting insights!\n",
        "\n",
        "Instructions:\n",
        "\n",
        "- Review the statistics again for total claim amount and customer lifetime value to gain an understanding of the data.\n",
        "- To identify potential areas for improving customer retention and profitability, we want to focus on customers with a high policy claim amount and a low customer lifetime value. Consider customers with a high policy claim amount to be those in the top 25% of the total claim amount, and clients with a low customer lifetime value to be those in the bottom 25% of the customer lifetime value. Create a pandas DataFrame object that contains information about customers with a policy claim amount greater than the 75th percentile and a customer lifetime value in the bottom 25th percentile.\n",
        "- Use DataFrame methods to calculate summary statistics about the high policy claim amount and low customer lifetime value data. To do so, select both columns of the dataframe simultaneously and pass it to the `.describe()` method. This will give you descriptive statistics, such as mean, median, standard deviation, minimum and maximum values for both columns at the same time, allowing you to compare and analyze their characteristics."
      ]
    },
    {
      "cell_type": "code",
      "execution_count": 27,
      "id": "211e82b5-461a-4d6f-8a23-4deccb84173c",
      "metadata": {
        "id": "211e82b5-461a-4d6f-8a23-4deccb84173c"
      },
      "outputs": [],
      "source": [
        "# Your code here"
      ]
    }
  ],
  "metadata": {
    "colab": {
      "provenance": []
    },
    "kernelspec": {
      "display_name": "Python 3 (ipykernel)",
      "language": "python",
      "name": "python3"
    },
    "language_info": {
      "codemirror_mode": {
        "name": "ipython",
        "version": 3
      },
      "file_extension": ".py",
      "mimetype": "text/x-python",
      "name": "python",
      "nbconvert_exporter": "python",
      "pygments_lexer": "ipython3",
      "version": "3.11.5"
    }
  },
  "nbformat": 4,
  "nbformat_minor": 5
}
