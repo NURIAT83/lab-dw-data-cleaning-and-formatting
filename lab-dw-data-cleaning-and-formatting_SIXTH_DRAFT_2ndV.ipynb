{
  "cells": [
    {
      "cell_type": "markdown",
      "id": "25d7736c-ba17-4aff-b6bb-66eba20fbf4e",
      "metadata": {
        "id": "25d7736c-ba17-4aff-b6bb-66eba20fbf4e"
      },
      "source": [
        "# Lab | Data Cleaning and Formatting"
      ]
    },
    {
      "cell_type": "markdown",
      "id": "d1973e9e-8be6-4039-b70e-d73ee0d94c99",
      "metadata": {
        "id": "d1973e9e-8be6-4039-b70e-d73ee0d94c99"
      },
      "source": [
        "In this lab, we will be working with the customer data from an insurance company, which can be found in the CSV file located at the following link: https://raw.githubusercontent.com/data-bootcamp-v4/data/main/file1.csv\n"
      ]
    },
    {
      "cell_type": "markdown",
      "id": "31b8a9e7-7db9-4604-991b-ef6771603e57",
      "metadata": {
        "id": "31b8a9e7-7db9-4604-991b-ef6771603e57"
      },
      "source": [
        "# Challenge 1: Data Cleaning and Formatting"
      ]
    },
    {
      "cell_type": "markdown",
      "id": "81553f19-9f2c-484b-8940-520aff884022",
      "metadata": {
        "id": "81553f19-9f2c-484b-8940-520aff884022"
      },
      "source": [
        "## Exercise 1: Cleaning Column Names"
      ]
    },
    {
      "cell_type": "markdown",
      "id": "34a929f4-1be4-4fa8-adda-42ffd920be90",
      "metadata": {
        "id": "34a929f4-1be4-4fa8-adda-42ffd920be90"
      },
      "source": [
        "To ensure consistency and ease of use, standardize the column names of the dataframe. Start by taking a first look at the dataframe and identifying any column names that need to be modified. Use appropriate naming conventions and make sure that column names are descriptive and informative.\n",
        "\n",
        "*Hint*:\n",
        "- *Column names should be in lower case*\n",
        "- *White spaces in column names should be replaced by `_`*\n",
        "- *`st` could be replaced for `state`*"
      ]
    },
    {
      "cell_type": "code",
      "execution_count": 1,
      "id": "5810735c-8056-4442-bbf2-dda38d3e284a",
      "metadata": {
        "id": "5810735c-8056-4442-bbf2-dda38d3e284a"
      },
      "outputs": [],
      "source": [
        "# Your code here\n",
        "import pandas as pd\n",
        "import numpy as np\n",
        "url=\"https://raw.githubusercontent.com/data-bootcamp-v4/data/main/file1.csv\"\n",
        "insurance_customers_df=pd.read_csv(url)\n"
      ]
    },
    {
      "cell_type": "code",
      "execution_count": 2,
      "id": "c9440430",
      "metadata": {},
      "outputs": [],
      "source": [
        "#To work better with our columns we are going to convert the titles to lowercase \n",
        "insurance_customers_df.columns=map(str.lower,insurance_customers_df.columns)"
      ]
    },
    {
      "cell_type": "code",
      "execution_count": 3,
      "id": "42abcd8a",
      "metadata": {},
      "outputs": [],
      "source": [
        "#And remove the blank space btw words\n",
        "insurance_customers_df.columns=insurance_customers_df.columns.str.replace(\" \",\"_\")"
      ]
    },
    {
      "cell_type": "code",
      "execution_count": 4,
      "id": "2cf22b8f",
      "metadata": {},
      "outputs": [],
      "source": [
        "#Change  st for state \n",
        "insurance_customers_df['st']=insurance_customers_df['st'].str.replace('st','state')\n"
      ]
    },
    {
      "cell_type": "markdown",
      "id": "9cb501ec-36ff-4589-b872-6252bb150316",
      "metadata": {
        "id": "9cb501ec-36ff-4589-b872-6252bb150316"
      },
      "source": [
        "## Exercise 2: Cleaning invalid Values"
      ]
    },
    {
      "cell_type": "markdown",
      "id": "771fdcf3-8e20-4b06-9c24-3a93ba2b0909",
      "metadata": {
        "id": "771fdcf3-8e20-4b06-9c24-3a93ba2b0909"
      },
      "source": [
        "The dataset contains columns with inconsistent and incorrect values that could affect the accuracy of our analysis. Therefore, we need to clean these columns to ensure that they only contain valid data.\n",
        "\n",
        "Note that this exercise will focus only on cleaning inconsistent values and will not involve handling null values (NaN or None).\n",
        "\n",
        "*Hint*:\n",
        "- *Gender column contains various inconsistent values such as \"F\", \"M\", \"Femal\", \"Male\", \"female\", which need to be standardized, for example, to \"M\" and \"F\".*\n",
        "- *State abbreviations be can replaced with its full name, for example \"AZ\": \"Arizona\", \"Cali\": \"California\", \"WA\": \"Washington\"*\n",
        "- *In education, \"Bachelors\" could be replaced by \"Bachelor\"*\n",
        "- *In Customer Lifetime Value, delete the `%` character*\n",
        "- *In vehicle class, \"Sports Car\", \"Luxury SUV\" and \"Luxury Car\" could be replaced by \"Luxury\"*"
      ]
    },
    {
      "cell_type": "code",
      "execution_count": 5,
      "id": "3f8ee5cb-50ab-48af-8a9f-9a389804033c",
      "metadata": {
        "id": "3f8ee5cb-50ab-48af-8a9f-9a389804033c"
      },
      "outputs": [],
      "source": [
        "# Standarize gender column to \"F\" and \"M\"\n",
        "insurance_customers_df['gender']=insurance_customers_df['gender'].str.replace({'Femal': 'F', 'female': 'F', 'Male': 'M'})"
      ]
    },
    {
      "cell_type": "code",
      "execution_count": 6,
      "id": "cd76c7cd",
      "metadata": {},
      "outputs": [
        {
          "ename": "KeyError",
          "evalue": "'education'",
          "output_type": "error",
          "traceback": [
            "\u001b[1;31m---------------------------------------------------------------------------\u001b[0m",
            "\u001b[1;31mKeyError\u001b[0m                                  Traceback (most recent call last)",
            "Cell \u001b[1;32mIn[6], line 2\u001b[0m\n\u001b[0;32m      1\u001b[0m \u001b[38;5;66;03m#Standarize education column, when \"Bachelors\" change for \"Bachelor\"\u001b[39;00m\n\u001b[1;32m----> 2\u001b[0m insurance_customers_df\u001b[38;5;241m=\u001b[39m\u001b[43minsurance_customers_df\u001b[49m\u001b[43m[\u001b[49m\u001b[38;5;124;43m'\u001b[39;49m\u001b[38;5;124;43meducation\u001b[39;49m\u001b[38;5;124;43m'\u001b[39;49m\u001b[43m]\u001b[49m\u001b[38;5;241m.\u001b[39mreplace({\u001b[38;5;124m'\u001b[39m\u001b[38;5;124mBachelors\u001b[39m\u001b[38;5;124m'\u001b[39m:\u001b[38;5;124m'\u001b[39m\u001b[38;5;124mBachelor\u001b[39m\u001b[38;5;124m'\u001b[39m})\n",
            "File \u001b[1;32m~\\AppData\\Local\\Packages\\PythonSoftwareFoundation.Python.3.11_qbz5n2kfra8p0\\LocalCache\\local-packages\\Python311\\site-packages\\pandas\\core\\series.py:1112\u001b[0m, in \u001b[0;36mSeries.__getitem__\u001b[1;34m(self, key)\u001b[0m\n\u001b[0;32m   1109\u001b[0m     \u001b[38;5;28;01mreturn\u001b[39;00m \u001b[38;5;28mself\u001b[39m\u001b[38;5;241m.\u001b[39m_values[key]\n\u001b[0;32m   1111\u001b[0m \u001b[38;5;28;01melif\u001b[39;00m key_is_scalar:\n\u001b[1;32m-> 1112\u001b[0m     \u001b[38;5;28;01mreturn\u001b[39;00m \u001b[38;5;28;43mself\u001b[39;49m\u001b[38;5;241;43m.\u001b[39;49m\u001b[43m_get_value\u001b[49m\u001b[43m(\u001b[49m\u001b[43mkey\u001b[49m\u001b[43m)\u001b[49m\n\u001b[0;32m   1114\u001b[0m \u001b[38;5;66;03m# Convert generator to list before going through hashable part\u001b[39;00m\n\u001b[0;32m   1115\u001b[0m \u001b[38;5;66;03m# (We will iterate through the generator there to check for slices)\u001b[39;00m\n\u001b[0;32m   1116\u001b[0m \u001b[38;5;28;01mif\u001b[39;00m is_iterator(key):\n",
            "File \u001b[1;32m~\\AppData\\Local\\Packages\\PythonSoftwareFoundation.Python.3.11_qbz5n2kfra8p0\\LocalCache\\local-packages\\Python311\\site-packages\\pandas\\core\\series.py:1228\u001b[0m, in \u001b[0;36mSeries._get_value\u001b[1;34m(self, label, takeable)\u001b[0m\n\u001b[0;32m   1225\u001b[0m     \u001b[38;5;28;01mreturn\u001b[39;00m \u001b[38;5;28mself\u001b[39m\u001b[38;5;241m.\u001b[39m_values[label]\n\u001b[0;32m   1227\u001b[0m \u001b[38;5;66;03m# Similar to Index.get_value, but we do not fall back to positional\u001b[39;00m\n\u001b[1;32m-> 1228\u001b[0m loc \u001b[38;5;241m=\u001b[39m \u001b[38;5;28;43mself\u001b[39;49m\u001b[38;5;241;43m.\u001b[39;49m\u001b[43mindex\u001b[49m\u001b[38;5;241;43m.\u001b[39;49m\u001b[43mget_loc\u001b[49m\u001b[43m(\u001b[49m\u001b[43mlabel\u001b[49m\u001b[43m)\u001b[49m\n\u001b[0;32m   1230\u001b[0m \u001b[38;5;28;01mif\u001b[39;00m is_integer(loc):\n\u001b[0;32m   1231\u001b[0m     \u001b[38;5;28;01mreturn\u001b[39;00m \u001b[38;5;28mself\u001b[39m\u001b[38;5;241m.\u001b[39m_values[loc]\n",
            "File \u001b[1;32m~\\AppData\\Local\\Packages\\PythonSoftwareFoundation.Python.3.11_qbz5n2kfra8p0\\LocalCache\\local-packages\\Python311\\site-packages\\pandas\\core\\indexes\\range.py:417\u001b[0m, in \u001b[0;36mRangeIndex.get_loc\u001b[1;34m(self, key)\u001b[0m\n\u001b[0;32m    415\u001b[0m         \u001b[38;5;28;01mraise\u001b[39;00m \u001b[38;5;167;01mKeyError\u001b[39;00m(key) \u001b[38;5;28;01mfrom\u001b[39;00m \u001b[38;5;21;01merr\u001b[39;00m\n\u001b[0;32m    416\u001b[0m \u001b[38;5;28;01mif\u001b[39;00m \u001b[38;5;28misinstance\u001b[39m(key, Hashable):\n\u001b[1;32m--> 417\u001b[0m     \u001b[38;5;28;01mraise\u001b[39;00m \u001b[38;5;167;01mKeyError\u001b[39;00m(key)\n\u001b[0;32m    418\u001b[0m \u001b[38;5;28mself\u001b[39m\u001b[38;5;241m.\u001b[39m_check_indexing_error(key)\n\u001b[0;32m    419\u001b[0m \u001b[38;5;28;01mraise\u001b[39;00m \u001b[38;5;167;01mKeyError\u001b[39;00m(key)\n",
            "\u001b[1;31mKeyError\u001b[0m: 'education'"
          ]
        }
      ],
      "source": [
        "#Standarize education column, when \"Bachelors\" change for \"Bachelor\"\n",
        "insurance_customers_df['education']=insurance_customers_df['education'].str.replace({'Bachelors':'Bachelor'})"
      ]
    },
    {
      "cell_type": "code",
      "execution_count": 7,
      "id": "bf7ddbc3",
      "metadata": {},
      "outputs": [
        {
          "ename": "KeyError",
          "evalue": "'vehicle_class'",
          "output_type": "error",
          "traceback": [
            "\u001b[1;31m---------------------------------------------------------------------------\u001b[0m",
            "\u001b[1;31mKeyError\u001b[0m                                  Traceback (most recent call last)",
            "Cell \u001b[1;32mIn[7], line 3\u001b[0m\n\u001b[0;32m      1\u001b[0m \u001b[38;5;66;03m#Standarize vehicle_class column\u001b[39;00m\n\u001b[0;32m      2\u001b[0m \u001b[38;5;66;03m# \"Sports Car\", \"Luxury SUV\", \"Luxury Car\" replace with \"Luxury\"\u001b[39;00m\n\u001b[1;32m----> 3\u001b[0m insurance_customers_df\u001b[38;5;241m=\u001b[39m\u001b[43minsurance_customers_df\u001b[49m\u001b[43m[\u001b[49m\u001b[38;5;124;43m'\u001b[39;49m\u001b[38;5;124;43mvehicle_class\u001b[39;49m\u001b[38;5;124;43m'\u001b[39;49m\u001b[43m]\u001b[49m\u001b[38;5;241m.\u001b[39mreplace({\u001b[38;5;124m'\u001b[39m\u001b[38;5;124mSports Car\u001b[39m\u001b[38;5;124m'\u001b[39m: \u001b[38;5;124m'\u001b[39m\u001b[38;5;124mLuxury\u001b[39m\u001b[38;5;124m'\u001b[39m, \u001b[38;5;124m'\u001b[39m\u001b[38;5;124mLuxury SUV\u001b[39m\u001b[38;5;124m'\u001b[39m: \u001b[38;5;124m'\u001b[39m\u001b[38;5;124mLuxury\u001b[39m\u001b[38;5;124m'\u001b[39m, \u001b[38;5;124m'\u001b[39m\u001b[38;5;124mLuxury Car\u001b[39m\u001b[38;5;124m'\u001b[39m: \u001b[38;5;124m'\u001b[39m\u001b[38;5;124mLuxury\u001b[39m\u001b[38;5;124m'\u001b[39m})\n",
            "File \u001b[1;32m~\\AppData\\Local\\Packages\\PythonSoftwareFoundation.Python.3.11_qbz5n2kfra8p0\\LocalCache\\local-packages\\Python311\\site-packages\\pandas\\core\\series.py:1112\u001b[0m, in \u001b[0;36mSeries.__getitem__\u001b[1;34m(self, key)\u001b[0m\n\u001b[0;32m   1109\u001b[0m     \u001b[38;5;28;01mreturn\u001b[39;00m \u001b[38;5;28mself\u001b[39m\u001b[38;5;241m.\u001b[39m_values[key]\n\u001b[0;32m   1111\u001b[0m \u001b[38;5;28;01melif\u001b[39;00m key_is_scalar:\n\u001b[1;32m-> 1112\u001b[0m     \u001b[38;5;28;01mreturn\u001b[39;00m \u001b[38;5;28;43mself\u001b[39;49m\u001b[38;5;241;43m.\u001b[39;49m\u001b[43m_get_value\u001b[49m\u001b[43m(\u001b[49m\u001b[43mkey\u001b[49m\u001b[43m)\u001b[49m\n\u001b[0;32m   1114\u001b[0m \u001b[38;5;66;03m# Convert generator to list before going through hashable part\u001b[39;00m\n\u001b[0;32m   1115\u001b[0m \u001b[38;5;66;03m# (We will iterate through the generator there to check for slices)\u001b[39;00m\n\u001b[0;32m   1116\u001b[0m \u001b[38;5;28;01mif\u001b[39;00m is_iterator(key):\n",
            "File \u001b[1;32m~\\AppData\\Local\\Packages\\PythonSoftwareFoundation.Python.3.11_qbz5n2kfra8p0\\LocalCache\\local-packages\\Python311\\site-packages\\pandas\\core\\series.py:1228\u001b[0m, in \u001b[0;36mSeries._get_value\u001b[1;34m(self, label, takeable)\u001b[0m\n\u001b[0;32m   1225\u001b[0m     \u001b[38;5;28;01mreturn\u001b[39;00m \u001b[38;5;28mself\u001b[39m\u001b[38;5;241m.\u001b[39m_values[label]\n\u001b[0;32m   1227\u001b[0m \u001b[38;5;66;03m# Similar to Index.get_value, but we do not fall back to positional\u001b[39;00m\n\u001b[1;32m-> 1228\u001b[0m loc \u001b[38;5;241m=\u001b[39m \u001b[38;5;28;43mself\u001b[39;49m\u001b[38;5;241;43m.\u001b[39;49m\u001b[43mindex\u001b[49m\u001b[38;5;241;43m.\u001b[39;49m\u001b[43mget_loc\u001b[49m\u001b[43m(\u001b[49m\u001b[43mlabel\u001b[49m\u001b[43m)\u001b[49m\n\u001b[0;32m   1230\u001b[0m \u001b[38;5;28;01mif\u001b[39;00m is_integer(loc):\n\u001b[0;32m   1231\u001b[0m     \u001b[38;5;28;01mreturn\u001b[39;00m \u001b[38;5;28mself\u001b[39m\u001b[38;5;241m.\u001b[39m_values[loc]\n",
            "File \u001b[1;32m~\\AppData\\Local\\Packages\\PythonSoftwareFoundation.Python.3.11_qbz5n2kfra8p0\\LocalCache\\local-packages\\Python311\\site-packages\\pandas\\core\\indexes\\range.py:417\u001b[0m, in \u001b[0;36mRangeIndex.get_loc\u001b[1;34m(self, key)\u001b[0m\n\u001b[0;32m    415\u001b[0m         \u001b[38;5;28;01mraise\u001b[39;00m \u001b[38;5;167;01mKeyError\u001b[39;00m(key) \u001b[38;5;28;01mfrom\u001b[39;00m \u001b[38;5;21;01merr\u001b[39;00m\n\u001b[0;32m    416\u001b[0m \u001b[38;5;28;01mif\u001b[39;00m \u001b[38;5;28misinstance\u001b[39m(key, Hashable):\n\u001b[1;32m--> 417\u001b[0m     \u001b[38;5;28;01mraise\u001b[39;00m \u001b[38;5;167;01mKeyError\u001b[39;00m(key)\n\u001b[0;32m    418\u001b[0m \u001b[38;5;28mself\u001b[39m\u001b[38;5;241m.\u001b[39m_check_indexing_error(key)\n\u001b[0;32m    419\u001b[0m \u001b[38;5;28;01mraise\u001b[39;00m \u001b[38;5;167;01mKeyError\u001b[39;00m(key)\n",
            "\u001b[1;31mKeyError\u001b[0m: 'vehicle_class'"
          ]
        }
      ],
      "source": [
        "#Standarize vehicle_class column\n",
        "# \"Sports Car\", \"Luxury SUV\", \"Luxury Car\" replace with \"Luxury\"\n",
        "insurance_customers_df['vehicle_class']=insurance_customers_df['vehicle_class']..replace({'Sports Car': 'Luxury', 'Luxury SUV': 'Luxury', 'Luxury Car': 'Luxury'})"
      ]
    },
    {
      "cell_type": "code",
      "execution_count": 8,
      "id": "83e46bb2",
      "metadata": {},
      "outputs": [
        {
          "ename": "KeyError",
          "evalue": "'customer_lifetime_value'",
          "output_type": "error",
          "traceback": [
            "\u001b[1;31m---------------------------------------------------------------------------\u001b[0m",
            "\u001b[1;31mKeyError\u001b[0m                                  Traceback (most recent call last)",
            "Cell \u001b[1;32mIn[8], line 2\u001b[0m\n\u001b[0;32m      1\u001b[0m \u001b[38;5;66;03m#Delete the % character from customer lifetime value column\u001b[39;00m\n\u001b[1;32m----> 2\u001b[0m insurance_customers_df\u001b[38;5;241m=\u001b[39m\u001b[43minsurance_customers_df\u001b[49m\u001b[43m[\u001b[49m\u001b[38;5;124;43m'\u001b[39;49m\u001b[38;5;124;43mcustomer_lifetime_value\u001b[39;49m\u001b[38;5;124;43m'\u001b[39;49m\u001b[43m]\u001b[49m\u001b[38;5;241m.\u001b[39mstr\u001b[38;5;241m.\u001b[39mreplace(\u001b[38;5;124m'\u001b[39m\u001b[38;5;124m%\u001b[39m\u001b[38;5;124m'\u001b[39m,\u001b[38;5;124m'\u001b[39m\u001b[38;5;124m'\u001b[39m)\u001b[38;5;241m.\u001b[39mastype(\u001b[38;5;28mfloat\u001b[39m)\u001b[38;5;241m/\u001b[39m\u001b[38;5;241m100\u001b[39m\n",
            "File \u001b[1;32m~\\AppData\\Local\\Packages\\PythonSoftwareFoundation.Python.3.11_qbz5n2kfra8p0\\LocalCache\\local-packages\\Python311\\site-packages\\pandas\\core\\series.py:1112\u001b[0m, in \u001b[0;36mSeries.__getitem__\u001b[1;34m(self, key)\u001b[0m\n\u001b[0;32m   1109\u001b[0m     \u001b[38;5;28;01mreturn\u001b[39;00m \u001b[38;5;28mself\u001b[39m\u001b[38;5;241m.\u001b[39m_values[key]\n\u001b[0;32m   1111\u001b[0m \u001b[38;5;28;01melif\u001b[39;00m key_is_scalar:\n\u001b[1;32m-> 1112\u001b[0m     \u001b[38;5;28;01mreturn\u001b[39;00m \u001b[38;5;28;43mself\u001b[39;49m\u001b[38;5;241;43m.\u001b[39;49m\u001b[43m_get_value\u001b[49m\u001b[43m(\u001b[49m\u001b[43mkey\u001b[49m\u001b[43m)\u001b[49m\n\u001b[0;32m   1114\u001b[0m \u001b[38;5;66;03m# Convert generator to list before going through hashable part\u001b[39;00m\n\u001b[0;32m   1115\u001b[0m \u001b[38;5;66;03m# (We will iterate through the generator there to check for slices)\u001b[39;00m\n\u001b[0;32m   1116\u001b[0m \u001b[38;5;28;01mif\u001b[39;00m is_iterator(key):\n",
            "File \u001b[1;32m~\\AppData\\Local\\Packages\\PythonSoftwareFoundation.Python.3.11_qbz5n2kfra8p0\\LocalCache\\local-packages\\Python311\\site-packages\\pandas\\core\\series.py:1228\u001b[0m, in \u001b[0;36mSeries._get_value\u001b[1;34m(self, label, takeable)\u001b[0m\n\u001b[0;32m   1225\u001b[0m     \u001b[38;5;28;01mreturn\u001b[39;00m \u001b[38;5;28mself\u001b[39m\u001b[38;5;241m.\u001b[39m_values[label]\n\u001b[0;32m   1227\u001b[0m \u001b[38;5;66;03m# Similar to Index.get_value, but we do not fall back to positional\u001b[39;00m\n\u001b[1;32m-> 1228\u001b[0m loc \u001b[38;5;241m=\u001b[39m \u001b[38;5;28;43mself\u001b[39;49m\u001b[38;5;241;43m.\u001b[39;49m\u001b[43mindex\u001b[49m\u001b[38;5;241;43m.\u001b[39;49m\u001b[43mget_loc\u001b[49m\u001b[43m(\u001b[49m\u001b[43mlabel\u001b[49m\u001b[43m)\u001b[49m\n\u001b[0;32m   1230\u001b[0m \u001b[38;5;28;01mif\u001b[39;00m is_integer(loc):\n\u001b[0;32m   1231\u001b[0m     \u001b[38;5;28;01mreturn\u001b[39;00m \u001b[38;5;28mself\u001b[39m\u001b[38;5;241m.\u001b[39m_values[loc]\n",
            "File \u001b[1;32m~\\AppData\\Local\\Packages\\PythonSoftwareFoundation.Python.3.11_qbz5n2kfra8p0\\LocalCache\\local-packages\\Python311\\site-packages\\pandas\\core\\indexes\\range.py:417\u001b[0m, in \u001b[0;36mRangeIndex.get_loc\u001b[1;34m(self, key)\u001b[0m\n\u001b[0;32m    415\u001b[0m         \u001b[38;5;28;01mraise\u001b[39;00m \u001b[38;5;167;01mKeyError\u001b[39;00m(key) \u001b[38;5;28;01mfrom\u001b[39;00m \u001b[38;5;21;01merr\u001b[39;00m\n\u001b[0;32m    416\u001b[0m \u001b[38;5;28;01mif\u001b[39;00m \u001b[38;5;28misinstance\u001b[39m(key, Hashable):\n\u001b[1;32m--> 417\u001b[0m     \u001b[38;5;28;01mraise\u001b[39;00m \u001b[38;5;167;01mKeyError\u001b[39;00m(key)\n\u001b[0;32m    418\u001b[0m \u001b[38;5;28mself\u001b[39m\u001b[38;5;241m.\u001b[39m_check_indexing_error(key)\n\u001b[0;32m    419\u001b[0m \u001b[38;5;28;01mraise\u001b[39;00m \u001b[38;5;167;01mKeyError\u001b[39;00m(key)\n",
            "\u001b[1;31mKeyError\u001b[0m: 'customer_lifetime_value'"
          ]
        }
      ],
      "source": [
        "#Delete the % character from customer lifetime value column\n",
        "insurance_customers_df=insurance_customers_df['customer_lifetime_value'].str.replace('%','').astype(float)/100"
      ]
    },
    {
      "cell_type": "code",
      "execution_count": 9,
      "id": "a4014306",
      "metadata": {},
      "outputs": [
        {
          "ename": "KeyError",
          "evalue": "'gender'",
          "output_type": "error",
          "traceback": [
            "\u001b[1;31m---------------------------------------------------------------------------\u001b[0m",
            "\u001b[1;31mKeyError\u001b[0m                                  Traceback (most recent call last)",
            "Cell \u001b[1;32mIn[9], line 3\u001b[0m\n\u001b[0;32m      1\u001b[0m \u001b[38;5;66;03m#Let's check the columns with changes\u001b[39;00m\n\u001b[0;32m      2\u001b[0m \u001b[38;5;66;03m#Gender column\u001b[39;00m\n\u001b[1;32m----> 3\u001b[0m \u001b[43minsurance_customers_df\u001b[49m\u001b[43m[\u001b[49m\u001b[38;5;124;43m'\u001b[39;49m\u001b[38;5;124;43mgender\u001b[39;49m\u001b[38;5;124;43m'\u001b[39;49m\u001b[43m]\u001b[49m\u001b[38;5;241m.\u001b[39munique()\n\u001b[0;32m      4\u001b[0m \u001b[38;5;28mprint\u001b[39m(insurance_customers_df[\u001b[38;5;124m'\u001b[39m\u001b[38;5;124mgender\u001b[39m\u001b[38;5;124m'\u001b[39m]\u001b[38;5;241m.\u001b[39munique())\n\u001b[0;32m      5\u001b[0m \u001b[38;5;66;03m#The changes have been made, or values are 'F' , 'M' and nan values (to be clean later on)\u001b[39;00m\n",
            "File \u001b[1;32m~\\AppData\\Local\\Packages\\PythonSoftwareFoundation.Python.3.11_qbz5n2kfra8p0\\LocalCache\\local-packages\\Python311\\site-packages\\pandas\\core\\series.py:1112\u001b[0m, in \u001b[0;36mSeries.__getitem__\u001b[1;34m(self, key)\u001b[0m\n\u001b[0;32m   1109\u001b[0m     \u001b[38;5;28;01mreturn\u001b[39;00m \u001b[38;5;28mself\u001b[39m\u001b[38;5;241m.\u001b[39m_values[key]\n\u001b[0;32m   1111\u001b[0m \u001b[38;5;28;01melif\u001b[39;00m key_is_scalar:\n\u001b[1;32m-> 1112\u001b[0m     \u001b[38;5;28;01mreturn\u001b[39;00m \u001b[38;5;28;43mself\u001b[39;49m\u001b[38;5;241;43m.\u001b[39;49m\u001b[43m_get_value\u001b[49m\u001b[43m(\u001b[49m\u001b[43mkey\u001b[49m\u001b[43m)\u001b[49m\n\u001b[0;32m   1114\u001b[0m \u001b[38;5;66;03m# Convert generator to list before going through hashable part\u001b[39;00m\n\u001b[0;32m   1115\u001b[0m \u001b[38;5;66;03m# (We will iterate through the generator there to check for slices)\u001b[39;00m\n\u001b[0;32m   1116\u001b[0m \u001b[38;5;28;01mif\u001b[39;00m is_iterator(key):\n",
            "File \u001b[1;32m~\\AppData\\Local\\Packages\\PythonSoftwareFoundation.Python.3.11_qbz5n2kfra8p0\\LocalCache\\local-packages\\Python311\\site-packages\\pandas\\core\\series.py:1228\u001b[0m, in \u001b[0;36mSeries._get_value\u001b[1;34m(self, label, takeable)\u001b[0m\n\u001b[0;32m   1225\u001b[0m     \u001b[38;5;28;01mreturn\u001b[39;00m \u001b[38;5;28mself\u001b[39m\u001b[38;5;241m.\u001b[39m_values[label]\n\u001b[0;32m   1227\u001b[0m \u001b[38;5;66;03m# Similar to Index.get_value, but we do not fall back to positional\u001b[39;00m\n\u001b[1;32m-> 1228\u001b[0m loc \u001b[38;5;241m=\u001b[39m \u001b[38;5;28;43mself\u001b[39;49m\u001b[38;5;241;43m.\u001b[39;49m\u001b[43mindex\u001b[49m\u001b[38;5;241;43m.\u001b[39;49m\u001b[43mget_loc\u001b[49m\u001b[43m(\u001b[49m\u001b[43mlabel\u001b[49m\u001b[43m)\u001b[49m\n\u001b[0;32m   1230\u001b[0m \u001b[38;5;28;01mif\u001b[39;00m is_integer(loc):\n\u001b[0;32m   1231\u001b[0m     \u001b[38;5;28;01mreturn\u001b[39;00m \u001b[38;5;28mself\u001b[39m\u001b[38;5;241m.\u001b[39m_values[loc]\n",
            "File \u001b[1;32m~\\AppData\\Local\\Packages\\PythonSoftwareFoundation.Python.3.11_qbz5n2kfra8p0\\LocalCache\\local-packages\\Python311\\site-packages\\pandas\\core\\indexes\\range.py:417\u001b[0m, in \u001b[0;36mRangeIndex.get_loc\u001b[1;34m(self, key)\u001b[0m\n\u001b[0;32m    415\u001b[0m         \u001b[38;5;28;01mraise\u001b[39;00m \u001b[38;5;167;01mKeyError\u001b[39;00m(key) \u001b[38;5;28;01mfrom\u001b[39;00m \u001b[38;5;21;01merr\u001b[39;00m\n\u001b[0;32m    416\u001b[0m \u001b[38;5;28;01mif\u001b[39;00m \u001b[38;5;28misinstance\u001b[39m(key, Hashable):\n\u001b[1;32m--> 417\u001b[0m     \u001b[38;5;28;01mraise\u001b[39;00m \u001b[38;5;167;01mKeyError\u001b[39;00m(key)\n\u001b[0;32m    418\u001b[0m \u001b[38;5;28mself\u001b[39m\u001b[38;5;241m.\u001b[39m_check_indexing_error(key)\n\u001b[0;32m    419\u001b[0m \u001b[38;5;28;01mraise\u001b[39;00m \u001b[38;5;167;01mKeyError\u001b[39;00m(key)\n",
            "\u001b[1;31mKeyError\u001b[0m: 'gender'"
          ]
        }
      ],
      "source": [
        "#Let's check the columns with changes\n",
        "#Gender column\n",
        "insurance_customers_df['gender'].unique()\n",
        "print(insurance_customers_df['gender'].unique())\n",
        "#The changes have been made, or values are 'F' , 'M' and nan values (to be clean later on)\n"
      ]
    },
    {
      "cell_type": "code",
      "execution_count": null,
      "id": "84cb681f",
      "metadata": {},
      "outputs": [],
      "source": [
        "#Let's check the columns with changes\n",
        "#education column\n",
        "insurance_customers_df['education'].unique()\n",
        "print(insurance_customers_df['education'].unique())\n",
        "#The changes have been done succesfully\n",
        "#Note : there are nan values to adress later on"
      ]
    },
    {
      "cell_type": "code",
      "execution_count": null,
      "id": "99507228",
      "metadata": {},
      "outputs": [],
      "source": [
        "#Let's check the columns with changes\n",
        "#Vehicle class column\n",
        "insurance_customers_df['vehicle_class'].unique()\n",
        "print(insurance_customers_df['vehicle_class'].unique())\n",
        "#The changes have been done succesfully\n",
        "#Note : there are nan values to adress later on"
      ]
    },
    {
      "cell_type": "code",
      "execution_count": null,
      "id": "572443cb",
      "metadata": {},
      "outputs": [],
      "source": [
        "#Let's check the columns with changes\n",
        "#customer lifetime value column\n",
        "insurance_customers_df['customer_lifetime_value'].unique()\n",
        "print(insurance_customers_df['customer_lifetime_value'].unique())"
      ]
    },
    {
      "cell_type": "code",
      "execution_count": null,
      "id": "60dc2cce",
      "metadata": {},
      "outputs": [],
      "source": [
        "#Change state abbreviations to full name\n",
        "change_states={'AZ':'Arizona','Cali':'California','WA':'Washington'}\n",
        "insurance_customers_df['st']=insurance_customers_df['st'].replace(change_states)"
      ]
    },
    {
      "cell_type": "code",
      "execution_count": null,
      "id": "f6b449e6",
      "metadata": {},
      "outputs": [],
      "source": [
        "insurance_customers_df.info()"
      ]
    },
    {
      "cell_type": "markdown",
      "id": "85ff78ce-0174-4890-9db3-8048b7d7d2d0",
      "metadata": {
        "id": "85ff78ce-0174-4890-9db3-8048b7d7d2d0"
      },
      "source": [
        "## Exercise 3: Formatting data types"
      ]
    },
    {
      "cell_type": "markdown",
      "id": "b91c2cf8-79a2-4baf-9f65-ff2fb22270bd",
      "metadata": {
        "id": "b91c2cf8-79a2-4baf-9f65-ff2fb22270bd"
      },
      "source": [
        "The data types of many columns in the dataset appear to be incorrect. This could impact the accuracy of our analysis. To ensure accurate analysis, we need to correct the data types of these columns. Please update the data types of the columns as appropriate."
      ]
    },
    {
      "cell_type": "markdown",
      "id": "43e5d853-ff9e-43b2-9d92-aef2f78764f3",
      "metadata": {
        "id": "43e5d853-ff9e-43b2-9d92-aef2f78764f3"
      },
      "source": [
        "It is important to note that this exercise does not involve handling null values (NaN or None)."
      ]
    },
    {
      "cell_type": "markdown",
      "id": "329ca691-9196-4419-8969-3596746237a1",
      "metadata": {
        "id": "329ca691-9196-4419-8969-3596746237a1"
      },
      "source": [
        "*Hint*:\n",
        "- *Customer lifetime value should be numeric*\n",
        "- *Number of open complaints has an incorrect format. Look at the different values it takes with `unique()` and take the middle value. As an example, 1/5/00 should be 5. Number of open complaints is a string - remember you can use `split()` to deal with it and take the number you need. Finally, since it should be numeric, cast the column to be in its proper type.*"
      ]
    },
    {
      "cell_type": "code",
      "execution_count": null,
      "id": "eb8f5991-73e9-405f-bf1c-6b7c589379a9",
      "metadata": {
        "id": "eb8f5991-73e9-405f-bf1c-6b7c589379a9"
      },
      "outputs": [],
      "source": [
        "#Observe the characteristics of the variable Number of Open Complaints with unique()\n",
        "insurance_customers_df['number_of_open_complaints'].unique()"
      ]
    },
    {
      "cell_type": "code",
      "execution_count": null,
      "id": "c2565504",
      "metadata": {},
      "outputs": [],
      "source": [
        "#Using only the number on the middle\n",
        "#link:https://pandas.pydata.org/docs/reference/api/pandas.Series.str.split.html#pandas.Series.str.split\n",
        "insurance_customers_df['number_of_open_complaints'] = insurance_customers_df['number_of_open_complaints'].astype(str).str.split(\"/\").str[1]\n",
        "\n",
        "\n"
      ]
    },
    {
      "cell_type": "code",
      "execution_count": null,
      "id": "5ba581fb",
      "metadata": {},
      "outputs": [],
      "source": [
        "#We can check how the column is transforming\n",
        "insurance_customers_df['number_of_open_complaints'].unique()"
      ]
    },
    {
      "cell_type": "code",
      "execution_count": null,
      "id": "41c34bc7",
      "metadata": {},
      "outputs": [],
      "source": [
        "insurance_customers_df[customer_lifetime_value]\n"
      ]
    },
    {
      "cell_type": "markdown",
      "id": "14c52e28-2d0c-4dd2-8bd5-3476e34fadc1",
      "metadata": {
        "id": "14c52e28-2d0c-4dd2-8bd5-3476e34fadc1"
      },
      "source": [
        "## Exercise 4: Dealing with Null values"
      ]
    },
    {
      "cell_type": "markdown",
      "id": "34b9a20f-7d32-4417-975e-1b4dfb0e16cd",
      "metadata": {
        "id": "34b9a20f-7d32-4417-975e-1b4dfb0e16cd"
      },
      "source": [
        "Identify any columns with null or missing values. Identify how many null values each column has. You can use the `isnull()` function in pandas to find columns with null values.\n",
        "\n",
        "Decide on a strategy for handling the null values. There are several options, including:\n",
        "\n",
        "- Drop the rows or columns with null values\n",
        "- Fill the null values with a specific value (such as the column mean or median for numerical variables, and mode for categorical variables)\n",
        "- Fill the null values with the previous or next value in the column\n",
        "- Fill the null values based on a more complex algorithm or model (note: we haven't covered this yet)\n",
        "\n",
        "Implement your chosen strategy to handle the null values. You can use the `fillna()` function in pandas to fill null values or `dropna()` function to drop null values.\n",
        "\n",
        "Verify that your strategy has successfully handled the null values. You can use the `isnull()` function again to check if there are still null values in the dataset.\n",
        "\n",
        "Remember to document your process and explain your reasoning for choosing a particular strategy for handling null values.\n",
        "\n",
        "After formatting data types, as a last step, convert all the numeric variables to integers."
      ]
    },
    {
      "cell_type": "code",
      "execution_count": null,
      "id": "31ffa0ee",
      "metadata": {},
      "outputs": [],
      "source": [
        "#Checking for Nan values in each column\n",
        "insurance_customers_df.isna().any()\n",
        "#As we can see all columns have Nan values "
      ]
    },
    {
      "cell_type": "code",
      "execution_count": null,
      "id": "018c6cf1",
      "metadata": {},
      "outputs": [],
      "source": [
        "#It's is useful to know how many Nan values are in each column\n",
        "insurance_customers_df.isna().sum()\n",
        "#The number of Nan values is high in all cases, close to 70% \n",
        "#The column with more Nan values is the 'gender' column\n",
        "#Deleting such a high number of datapoints could potentially harm our analysis\n",
        "\n"
      ]
    },
    {
      "cell_type": "code",
      "execution_count": null,
      "id": "e74f6548",
      "metadata": {},
      "outputs": [],
      "source": [
        "#Thoughts going forward\n",
        "#We want to save as much information as possible.\n",
        "#At the same time if there are too many missing values for the same observation, it's not worth saving it\n",
        "#link:https://saturncloud.io/blog/how-to-count-the-number-of-missingnan-values-in-each-row-in-python-pandas/#:~:text=(axis%3D1)-,To%20count%20the%20number%20of%20missing%2FNaN%20values%20in%20each,True%20indicates%20a%20missing%20value.\n",
        "row_nan_count = insurance_customers_df.isna().sum(axis=1)\n",
        "\n",
        "print(row_nan_count)"
      ]
    },
    {
      "cell_type": "code",
      "execution_count": null,
      "id": "407ba841",
      "metadata": {},
      "outputs": [],
      "source": [
        "#As we can see there are observations with all their values blank and some with just one or two\n",
        "#We can set a limit, if they have more than five values, they are dropped\n",
        "#link:https://pandas.pydata.org/docs/reference/api/pandas.DataFrame.dropna.html\n",
        "insurance_customers_df=insurance_customers_df.dropna(thresh=6) # Keep only the rows with at least 6 non-NA values"
      ]
    },
    {
      "cell_type": "code",
      "execution_count": null,
      "id": "cf5ac928",
      "metadata": {},
      "outputs": [],
      "source": [
        "#Let's check again if we have any Nan values to clean\n",
        "insurance_customers_df.isna().any()\n",
        "#We can see that we still have Nan values in the columns 'gender' and 'customer lifetime value'\n"
      ]
    },
    {
      "cell_type": "code",
      "execution_count": null,
      "id": "1766a9f7",
      "metadata": {},
      "outputs": [],
      "source": [
        "#It's is useful to know how many Nan values are in each column\n",
        "insurance_customers_df.isna().sum()"
      ]
    },
    {
      "cell_type": "code",
      "execution_count": null,
      "id": "cc81c00f",
      "metadata": {},
      "outputs": [],
      "source": [
        "#To handle the remaining cases of missing data, we are going to fill in the missing values.\n",
        "#As we have allready lost to many observation because of the null values.\n",
        "#In the case of gender, which has the most missing values we are going to replace it with the most frequent.\n",
        "#In the case of customer lifetime value we are going to replace it with the mean value.\n",
        "#Link: https://scikit-learn.org/stable/modules/generated/sklearn.impute.SimpleImputer.html\n",
        "import pandas as pd\n",
        "import numpy as np\n",
        "from sklearn.impute import SimpleImputer\n",
        "imp_mean=SimpleImputer(strategy='mean')\n",
        "imp_mean.fit_transform(customer_lifetime_value)\n",
        "imp_constant_cat=SimpleImputer(strategy='constant', fill_value=\"U\")"
      ]
    },
    {
      "cell_type": "markdown",
      "id": "98416351-e999-4156-9834-9b00a311adfa",
      "metadata": {
        "id": "98416351-e999-4156-9834-9b00a311adfa"
      },
      "source": [
        "## Exercise 5: Dealing with duplicates"
      ]
    },
    {
      "cell_type": "markdown",
      "id": "ea0816a7-a18e-4d4c-b667-a8452a800bd1",
      "metadata": {
        "id": "ea0816a7-a18e-4d4c-b667-a8452a800bd1"
      },
      "source": [
        "Use the `.duplicated()` method to identify any duplicate rows in the dataframe.\n",
        "\n",
        "Decide on a strategy for handling the duplicates. Options include:\n",
        "- Dropping all duplicate rows\n",
        "- Keeping only the first occurrence of each duplicated row\n",
        "- Keeping only the last occurrence of each duplicated row\n",
        "- Dropping duplicates based on a subset of columns\n",
        "- Dropping duplicates based on a specific column\n",
        "\n",
        "Implement your chosen strategy using the `drop_duplicates()` function.\n",
        "\n",
        "Verify that your strategy has successfully handled the duplicates by checking for duplicates again using `.duplicated()`.\n",
        "\n",
        "Remember to document your process and explain your reasoning for choosing a particular strategy for handling duplicates.\n",
        "\n",
        "Save the cleaned dataset to a new CSV file.\n",
        "\n",
        "*Hint*: *after dropping duplicates, reset the index to ensure consistency*."
      ]
    },
    {
      "cell_type": "code",
      "execution_count": null,
      "id": "1929362c-47ed-47cb-baca-358b78d401a0",
      "metadata": {
        "id": "1929362c-47ed-47cb-baca-358b78d401a0"
      },
      "outputs": [],
      "source": [
        "insurance_customers_df=insurance_customers_df.drop_duplicates(keep='last')"
      ]
    },
    {
      "cell_type": "code",
      "execution_count": null,
      "id": "bd3aaee4",
      "metadata": {},
      "outputs": [],
      "source": [
        "insurance_customers_df.to_csv(\"insurance_customers_df_clean.csv\")"
      ]
    },
    {
      "cell_type": "markdown",
      "id": "60840701-4783-40e2-b4d8-55303f9100c9",
      "metadata": {
        "id": "60840701-4783-40e2-b4d8-55303f9100c9"
      },
      "source": [
        "# Bonus: Challenge 2: creating functions on a separate `py` file"
      ]
    },
    {
      "cell_type": "markdown",
      "id": "9d1adb3a-17cf-4899-8041-da21a4337fb4",
      "metadata": {
        "id": "9d1adb3a-17cf-4899-8041-da21a4337fb4"
      },
      "source": [
        "Put all the data cleaning and formatting steps into functions, and create a main function that performs all the cleaning and formatting.\n",
        "\n",
        "Write these functions in separate .py file(s). By putting these steps into functions, we can make the code more modular and easier to maintain."
      ]
    },
    {
      "cell_type": "markdown",
      "id": "0e170dc2-b62c-417a-8248-e63ed18a70c4",
      "metadata": {
        "id": "0e170dc2-b62c-417a-8248-e63ed18a70c4"
      },
      "source": [
        "*Hint: autoreload module is a utility module in Python that allows you to automatically reload modules in the current session when changes are made to the source code. This can be useful in situations where you are actively developing code and want to see the effects of changes you make without having to constantly restart the Python interpreter or Jupyter Notebook kernel.*"
      ]
    },
    {
      "cell_type": "code",
      "execution_count": null,
      "id": "a52c6dfc-cd11-4d01-bda4-f719fa33e9a4",
      "metadata": {
        "id": "a52c6dfc-cd11-4d01-bda4-f719fa33e9a4"
      },
      "outputs": [],
      "source": [
        "# Your code here"
      ]
    },
    {
      "cell_type": "markdown",
      "id": "80f846bb-3f5e-4ca2-96c0-900728daca5a",
      "metadata": {
        "id": "80f846bb-3f5e-4ca2-96c0-900728daca5a",
        "tags": []
      },
      "source": [
        "# Bonus: Challenge 3: Analyzing Clean and Formated Data"
      ]
    },
    {
      "cell_type": "markdown",
      "id": "9021630e-cc90-446c-b5bd-264d6c864207",
      "metadata": {
        "id": "9021630e-cc90-446c-b5bd-264d6c864207"
      },
      "source": [
        "You have been tasked with analyzing the data to identify potential areas for improving customer retention and profitability. Your goal is to identify customers with a high policy claim amount and a low customer lifetime value.\n",
        "\n",
        "In the Pandas Lab, we only looked at high policy claim amounts because we couldn't look into low customer lifetime values. If we had tried to work with that column, we wouldn't have been able to because customer lifetime value wasn't clean and in its proper format. So after cleaning and formatting the data, let's get some more interesting insights!\n",
        "\n",
        "Instructions:\n",
        "\n",
        "- Review the statistics again for total claim amount and customer lifetime value to gain an understanding of the data.\n",
        "- To identify potential areas for improving customer retention and profitability, we want to focus on customers with a high policy claim amount and a low customer lifetime value. Consider customers with a high policy claim amount to be those in the top 25% of the total claim amount, and clients with a low customer lifetime value to be those in the bottom 25% of the customer lifetime value. Create a pandas DataFrame object that contains information about customers with a policy claim amount greater than the 75th percentile and a customer lifetime value in the bottom 25th percentile.\n",
        "- Use DataFrame methods to calculate summary statistics about the high policy claim amount and low customer lifetime value data. To do so, select both columns of the dataframe simultaneously and pass it to the `.describe()` method. This will give you descriptive statistics, such as mean, median, standard deviation, minimum and maximum values for both columns at the same time, allowing you to compare and analyze their characteristics."
      ]
    },
    {
      "cell_type": "code",
      "execution_count": null,
      "id": "211e82b5-461a-4d6f-8a23-4deccb84173c",
      "metadata": {
        "id": "211e82b5-461a-4d6f-8a23-4deccb84173c"
      },
      "outputs": [],
      "source": [
        "#Get the data\n",
        "#For this lab, we will continue using the csv file that was downloaded in the previous lab as well as the Jupyter Notebook.\n",
        "\n",
        "\n",
        "#EDA (Exploratory Data Analysis) - Complete the following tasks to explore the data:\n",
        "#Show DataFrame info.\n",
        "#Describe DataFrame.\n",
        "#Show a plot of the Gender breakdown.\n",
        "#Show a plot of Income by State.\n",
        "#Show a plot of the Policy Type by the Total Claim Amount.\n",
        "#Show a plot of the Education by Vehicle Class.\n",
        "#What insights can you establish from these plots?\n",
        "#What other plots do you feel would be beneficial?"
      ]
    },
    {
      "cell_type": "code",
      "execution_count": null,
      "id": "4e5bc88d",
      "metadata": {},
      "outputs": [],
      "source": [
        "#Use the clean dataframe from the previous exercise\n",
        "#Show DataFrame info (check we are using the correct dataframe with changes)\n",
        "insurance_customers_df.info()"
      ]
    },
    {
      "cell_type": "code",
      "execution_count": null,
      "id": "817a121b",
      "metadata": {},
      "outputs": [],
      "source": [
        "#Seeing the above table we get a feeling that there might be more null values in gender\n",
        "#we have to options to drop them or to fill them\n",
        "insurance_customers_df=insurance_customers_df.dropna(subset=['gender'])"
      ]
    },
    {
      "cell_type": "code",
      "execution_count": null,
      "id": "065125b8",
      "metadata": {},
      "outputs": [],
      "source": [
        "#Let's check \n",
        "insurance_customers_df.info()\n",
        "#Now we know that there are no extra missing values in gender"
      ]
    },
    {
      "cell_type": "code",
      "execution_count": null,
      "id": "e2cdfa56",
      "metadata": {},
      "outputs": [],
      "source": [
        "#Describe DataFrame.\n",
        "insurance_customers_df.describe()"
      ]
    },
    {
      "cell_type": "code",
      "execution_count": null,
      "id": "3040ce22",
      "metadata": {},
      "outputs": [],
      "source": [
        "#Before using graphs, import the necessary tools\n",
        "\n",
        "import matplotlib.pyplot as plt\n",
        "import seaborn as sns"
      ]
    },
    {
      "cell_type": "code",
      "execution_count": null,
      "id": "afda4872",
      "metadata": {},
      "outputs": [],
      "source": [
        "#Show a plot of the Gender breakdown.\n",
        "#link :https://stackoverflow.com/questions/70664177/better-way-to-plot-gender-count-using-python\n",
        "gender = insurance_customers_df['gender'].value_counts()\n",
        "plt.figure(figsize=(6, 5))\n",
        "ax = gender.plot(kind='bar', rot=45, color=\"c\")\n",
        "ax.set_title(\"Number of Insurance Customers by Gender\", y = 1)\n",
        "ax.set_xlabel('Gender')\n",
        "ax.set_ylabel('Number of Insurance Customers')\n",
        "ax.set_xticklabels(('Male', 'Female'))\n",
        "#Looking at the graph we can see that there isn't a great difference btw 'female' and 'male'.\n",
        "#A possibility explaining the difference is that some families might have just one car, and the policy is under the husband's name."
      ]
    },
    {
      "cell_type": "code",
      "execution_count": null,
      "id": "e48d2eee",
      "metadata": {},
      "outputs": [],
      "source": [
        "#Show a plot of Income by State.\n",
        "#Note: using a 9:7 size chart instead of the previous 6:5 because there are more variables\n",
        "st_order = insurance_customers_df['st'].value_counts().head(5).index\n",
        "plt.figure(figsize=(9, 7))\n",
        "sns.countplot(data=insurance_customers_df, y='st', order=st_order)\n",
        "plt.title('State Income order by number of insurance policies')\n",
        "plt.xlabel('Income')\n",
        "plt.ylabel('State')\n",
        "#link: https://www.analyticsvidhya.com/blog/2021/08/understanding-bar-plots-in-python-beginners-guide-to-data-visualization/"
      ]
    },
    {
      "cell_type": "code",
      "execution_count": null,
      "id": "17998e30",
      "metadata": {},
      "outputs": [],
      "source": [
        "#Checking the order of the graph \n",
        "insurance_customers_df['st'].value_counts()\n",
        "#Observation 1: the state with the largest number of insurance policies is the state with the largest income\n",
        "#Observation 2: Oregon and California have pretty similar numbers\n",
        "#Observation 3: Washington and Nevada have similar numbers\n",
        "#Observation 4: Arizona has mid-tier values, that do not asimilate to the other two groups\n",
        "#IDEAS to explore: Maybe there are three sub-categories: high, medium and low "
      ]
    },
    {
      "cell_type": "code",
      "execution_count": null,
      "id": "2ce368f6",
      "metadata": {},
      "outputs": [],
      "source": [
        "#Show a plot of Total Claim Amount by policy type.\n",
        "#Use mean values because there are to many values\n",
        "#Note: mainteining size chart (9:7)\n",
        "TotalCA_df = insurance_customers_df.groupby(['policy_type'])['total_claim_amount'].mean()\n",
        "ax = TotalCA_df.plot.bar(x='policy_type', y='total_claim_amount(mean values)', rot=90)\n",
        "#Observation 1: The isn't a drastic difference btw policy types\n",
        "#Observation 2: We are missing the 'luxury' category, that has been drop because it had to many missing values\n",
        "#Thoughts : it would be intersting to explore the luxury category alone, also i might be intersting to break down this graph by state"
      ]
    },
    {
      "cell_type": "code",
      "execution_count": null,
      "id": "2e82dd0a",
      "metadata": {},
      "outputs": [],
      "source": [
        "#Show a plot of the Education by Vehicle Class.\n",
        "sns.scatterplot(x='vehicle_class',y='education',data=insurance_customers_df)\n",
        "plt.show()\n"
      ]
    },
    {
      "cell_type": "code",
      "execution_count": null,
      "id": "ee57fa72",
      "metadata": {},
      "outputs": [],
      "source": [
        "#What insights can you establish from these plots?\n",
        "#There is a strong difference in income by state\n",
        "#The average claim amount is not so sensitive to the policy type, the corporate premium is small\n",
        "#The difference btw women and men is small; but I might by good to check if this holds the same in all markets (states)"
      ]
    },
    {
      "cell_type": "code",
      "execution_count": null,
      "id": "19fc8bb2",
      "metadata": {},
      "outputs": [],
      "source": [
        "#What other plots do you feel would be beneficial?\n",
        "#It would be benefitial to do an histogram plot for each variable, to learn their distribution and see if there are outliers\n",
        "#It would be beneficial to analyze the correlation btw variables"
      ]
    },
    {
      "cell_type": "code",
      "execution_count": null,
      "id": "4518435c",
      "metadata": {},
      "outputs": [],
      "source": [
        "#Use the jupyter file from the last lab (Customer Analysis Round 4)\n",
        "\n",
        "#You do NOT need to fork and clone this lab.\n",
        "#Complete the following task\n",
        "##Check the data types of the columns. Get the numeric data into a dataframe called numerical and categorical columns in a dataframe called categorical. (You can use np.number and object to select the numerical data types and categorical data types respectively)\n",
        "#Now we will try to check the normality of the numerical variables visually\n",
        "#Use seaborn library to construct distribution plots for the numerical variables\n",
        "#Use Matplotlib to construct histograms\n",
        "#Do the distributions for different numerical variables look like a normal distribution?\n",
        "#For the numerical variables, check the multicollinearity between the features. Please note that we will use the column total_claim_amount later as the target variable.\n",
        "#Drop one of the two features that show a high correlation between them (greater than 0.9). Write code for both the correlation matrix and for seaborn heatmap. If there is no pair of features that have a high correlation, then do not drop any features"
      ]
    },
    {
      "cell_type": "code",
      "execution_count": null,
      "id": "34108ed5",
      "metadata": {},
      "outputs": [],
      "source": [
        "#Check the data types of the columns\n",
        "insurance_customers_df.dtypes"
      ]
    },
    {
      "cell_type": "code",
      "execution_count": null,
      "id": "bc241f7d",
      "metadata": {},
      "outputs": [],
      "source": [
        "# Get the numeric data into a dataframe called numerical and categorical columns in a dataframe called categorical. \n",
        "#(You can use np.number and object to select the numerical data types and categorical data types respectively)\n",
        "numeric_dataIC = insurance_customers_df.select_dtypes(include=[np.number])\n",
        "categorical_dataIC = insurance_customers_df.select_dtypes(exclude=[np.number])\n",
        "\n"
      ]
    },
    {
      "cell_type": "code",
      "execution_count": null,
      "id": "c01d9342",
      "metadata": {},
      "outputs": [],
      "source": [
        "#Let's check the numerical dataframe\n",
        "numeric_dataIC.info()\n"
      ]
    },
    {
      "cell_type": "code",
      "execution_count": null,
      "id": "1d967f96",
      "metadata": {},
      "outputs": [],
      "source": [
        "#Let's check the categorical dataframe\n",
        "categorical_dataIC.info()"
      ]
    },
    {
      "cell_type": "code",
      "execution_count": null,
      "id": "ff7b9c7a",
      "metadata": {},
      "outputs": [],
      "source": [
        "#Now we will try to check the normality of the numerical variables visually\n"
      ]
    },
    {
      "cell_type": "code",
      "execution_count": null,
      "id": "ba2fdd88",
      "metadata": {},
      "outputs": [],
      "source": [
        "#Use seaborn library to construct distribution plots for the numerical variables\n",
        "#link: https://seaborn.pydata.org/generated/seaborn.scatterplot.html\n",
        "#link:https://seaborn.pydata.org/generated/seaborn.scatterplot.html\n"
      ]
    },
    {
      "cell_type": "code",
      "execution_count": null,
      "id": "08930df7",
      "metadata": {},
      "outputs": [],
      "source": [
        "sns.pairplot(numeric_dataIC)"
      ]
    },
    {
      "cell_type": "code",
      "execution_count": null,
      "id": "450183f0",
      "metadata": {},
      "outputs": [],
      "source": [
        "#As we seen in the graphs above both income and total_claim_amont have what appears to be a log-normal distribution\n",
        "#This resonates specially for income.\n",
        "#link: https://towardsdatascience.com/log-normal-distribution-a-simple-explanation-7605864fb67c\n",
        "# A log-normal distributions implies a long tail to the right"
      ]
    },
    {
      "cell_type": "code",
      "execution_count": null,
      "id": "d1d25642",
      "metadata": {},
      "outputs": [],
      "source": [
        "#Histogram for income\n",
        "numeric_dataIC['income'].hist(bins=20)\n",
        "plt.show()"
      ]
    },
    {
      "cell_type": "code",
      "execution_count": null,
      "id": "17cda301",
      "metadata": {},
      "outputs": [],
      "source": [
        "#Histogram for monthly premium auto\n",
        "numeric_dataIC['monthly_premium_auto'].hist(bins=20)\n",
        "plt.show()"
      ]
    },
    {
      "cell_type": "code",
      "execution_count": null,
      "id": "92949d1b",
      "metadata": {},
      "outputs": [],
      "source": [
        "#Histogram for monthly premium auto\n",
        "numeric_dataIC['total_claim_amount'].hist(bins=20)\n",
        "plt.show()"
      ]
    },
    {
      "cell_type": "code",
      "execution_count": null,
      "id": "43e02797",
      "metadata": {},
      "outputs": [],
      "source": [
        "#Do the distributions for different numerical variables look like a normal distribution?\n",
        "#The income distribution is not continuous and appears to have a shape similar to a log-normal distribution\n",
        "#The monthly premium auto doesn't have and identifiable distribution.\n",
        "#The total claim amount has a continuous log-normal distribution \n"
      ]
    },
    {
      "cell_type": "code",
      "execution_count": null,
      "id": "ded21c85",
      "metadata": {},
      "outputs": [],
      "source": [
        "#For the numerical variables, check the multicollinearity between the features.\n",
        "# Please note that we will use the column total_claim_amount later as the target variable.\n",
        "#Note 1: The Pearson’s correlation coefficient metric directly evaluates the strength of the relationship between two variables. \n",
        "#Note 2: Its values range between -1 and 1."
      ]
    },
    {
      "cell_type": "code",
      "execution_count": null,
      "id": "bd68b000",
      "metadata": {},
      "outputs": [],
      "source": [
        "#Create correlation matrix to check pearson coeficient\n",
        "correlations_matrix = numeric_dataIC.corr()\n",
        "correlations_matrix"
      ]
    },
    {
      "cell_type": "code",
      "execution_count": null,
      "id": "38e3e2b4",
      "metadata": {},
      "outputs": [],
      "source": [
        "#The results shows that there is not a strong multicolinearity btw variables.\n",
        "#link:https://towardsdatascience.com/targeting-multicollinearity-with-python-3bd3b4088d0b"
      ]
    },
    {
      "cell_type": "code",
      "execution_count": null,
      "id": "e1f0532b",
      "metadata": {},
      "outputs": [],
      "source": [
        "#A visual representation of the matrix\n",
        "sns.heatmap(correlations_matrix, annot=True)\n",
        "plt.show()"
      ]
    },
    {
      "cell_type": "code",
      "execution_count": null,
      "id": "cb027b39",
      "metadata": {},
      "outputs": [],
      "source": [
        "#Round Five\n",
        "##For this lab, we continue using the csv file that that was previously downloaded and the same Jupyter notebook from the previous rounds. \n",
        "#There is NO NEED to fork and clone this repository.\n",
        "\n",
        "#Dealing with the data\n",
        "#Already done in the round 2.\n",
        "\n",
        "#Explore the data\n",
        "#Done in the round 3.\n",
        "\n",
        "#Processing Data\n",
        "#(Further processing...)\n",
        "\n",
        "#X-y split. Remember that at this time yoou need the complete dataset, both numerical and categorical in the X features.\n",
        "#X split into X_numerical and X_categorical\n",
        "#Scaling (X_numerical)."
      ]
    },
    {
      "cell_type": "code",
      "execution_count": null,
      "id": "4013f9bf",
      "metadata": {},
      "outputs": [],
      "source": [
        "#Import necessary libraries and tools (for later)\n",
        "from sklearn.linear_model import LinearRegression\n",
        "from sklearn.metrics import mean_squared_error, r2_score\n",
        "from sklearn.preprocessing import MinMaxScaler \n",
        "from sklearn.preprocessing import StandardScaler\n"
      ]
    },
    {
      "cell_type": "code",
      "execution_count": null,
      "id": "288fb47b",
      "metadata": {},
      "outputs": [],
      "source": [
        "#On round 4 it was specified that 'total_claim_amount'  would be the target variable.\n",
        "\n",
        "y = insurance_customers_df['total_claim_amount']\n",
        "X = insurance_customers_df.drop(['total_claim_amount','customer'], axis=1) #removing customer as well"
      ]
    },
    {
      "cell_type": "code",
      "execution_count": null,
      "id": "69490fce",
      "metadata": {},
      "outputs": [],
      "source": [
        "X_num = X.select_dtypes(include = np.number)\n",
        "X_cat = X.select_dtypes(include = object)"
      ]
    },
    {
      "cell_type": "code",
      "execution_count": null,
      "id": "41e1a1d5",
      "metadata": {},
      "outputs": [],
      "source": [
        "#Scaling (X_numerical).\n",
        "transformer = StandardScaler().fit(X_num)\n",
        "x_standardized = transformer.transform(X_num)\n",
        "print(x_standardized.shape)\n",
        "insurance_df_numerical=pd.DataFrame(x_standardized, columns=X_num.columns)\n"
      ]
    },
    {
      "cell_type": "code",
      "execution_count": null,
      "id": "cdb19f20",
      "metadata": {},
      "outputs": [],
      "source": [
        "insurance_df_numerical=pd.DataFrame(x_standardized, columns=X_num.columns).describe().T"
      ]
    },
    {
      "cell_type": "code",
      "execution_count": null,
      "id": "e96528d7",
      "metadata": {},
      "outputs": [],
      "source": [
        "insurance_df_numerical.head(10).T"
      ]
    },
    {
      "cell_type": "code",
      "execution_count": null,
      "id": "1ec95121",
      "metadata": {},
      "outputs": [],
      "source": [
        "#Round 6\n",
        "#Processing Data\n",
        "#(Further processing...)\n",
        "\n",
        "#X-y split. (done) Round 5\n",
        "#Scaling (numerical). (done) Round 5\n",
        "#Round 6\n",
        "#One Hot/Label Encoding (categorical).\n",
        "#Concat DataFrames\n",
        "#Linear Regression\n",
        "#Train-test split.\n",
        "#Apply linear regression.\n",
        "#Model Validation\n",
        "#Description:\n",
        "#R2.\n",
        "#MSE.\n",
        "#RMSE.\n",
        "#MAE."
      ]
    },
    {
      "cell_type": "code",
      "execution_count": null,
      "id": "76fd637c",
      "metadata": {},
      "outputs": [],
      "source": []
    },
    {
      "cell_type": "code",
      "execution_count": null,
      "id": "55f332c5",
      "metadata": {},
      "outputs": [],
      "source": [
        "#One Hot/Label Encoding (categorical).\n",
        "#We are not going to use \"customer\"  and \"state\" inside the categorical values\n",
        "categorical_cols = ['gender', 'education','number_of_open_complaints', 'policy_type','vehicle_class',] \n",
        "\n",
        "from sklearn.preprocessing import OneHotEncoder\n",
        "from sklearn.preprocessing import LabelEncoder\n",
        "\n"
      ]
    },
    {
      "cell_type": "code",
      "execution_count": null,
      "id": "0ae7f43e",
      "metadata": {},
      "outputs": [],
      "source": [
        "ohe = OneHotEncoder()\n",
        "array_hot_encoded = ohe.fit_transform(insurance_customers_df[categorical_cols]).toarray()"
      ]
    },
    {
      "cell_type": "code",
      "execution_count": null,
      "id": "a172cf40",
      "metadata": {},
      "outputs": [],
      "source": [
        "#Display the array to check that the transformation is correct\n",
        "array_hot_encoded"
      ]
    },
    {
      "cell_type": "code",
      "execution_count": null,
      "id": "c774e5a7",
      "metadata": {},
      "outputs": [],
      "source": [
        "# The categories corresponding to each of the categorical columns encoded\n",
        "ohe.categories_"
      ]
    },
    {
      "cell_type": "code",
      "execution_count": null,
      "id": "9cb98397",
      "metadata": {},
      "outputs": [],
      "source": [
        "#Convert it to df\n",
        "insurance_customers_df_hot_encoded = pd.DataFrame(array_hot_encoded,index=insurance_customers_df.index)"
      ]
    },
    {
      "cell_type": "code",
      "execution_count": null,
      "id": "55ca97f0",
      "metadata": {},
      "outputs": [],
      "source": [
        "insurance_customers_df_hot_encoded"
      ]
    },
    {
      "cell_type": "code",
      "execution_count": null,
      "id": "4f7a2d1c",
      "metadata": {},
      "outputs": [],
      "source": [
        "df=pd.concat([insurance_df_numerical.T,insurance_customers_df_hot_encoded],axis=1)\n",
        "df.head(10)"
      ]
    },
    {
      "cell_type": "markdown",
      "id": "2659eed6",
      "metadata": {},
      "source": []
    },
    {
      "cell_type": "code",
      "execution_count": null,
      "id": "c2974be8",
      "metadata": {},
      "outputs": [],
      "source": [
        "#Checking on our vertical axis\n",
        "y = insurance_customers_df['total_claim_amount']\n",
        "y.head()"
      ]
    },
    {
      "cell_type": "code",
      "execution_count": null,
      "id": "8a617866",
      "metadata": {},
      "outputs": [],
      "source": [
        "#Linear Regression\n",
        "#Train-Test_Split\n",
        "from sklearn.model_selection import train_test_split\n",
        "X_train, X_test, y_train, y_test = train_test_split(X, y, test_size=0.2, random_state=42)"
      ]
    },
    {
      "cell_type": "code",
      "execution_count": null,
      "id": "5c7370a2",
      "metadata": {},
      "outputs": [],
      "source": [
        "#Checking the shape\n",
        "print(X_train.shape)\n",
        "print(X_test.shape)\n",
        "print(y_train.shape)\n",
        "print(y_test.shape)"
      ]
    },
    {
      "cell_type": "code",
      "execution_count": null,
      "id": "d732eaa5",
      "metadata": {},
      "outputs": [],
      "source": [
        "\n",
        "#Some problems appear when trying to perform a linear regression, saying that the content of a particular column could not be transformed to numeric.\n",
        "#In order to repear this problem a transformation to numeric was done on all variables\n",
        "#link: https://stackoverflow.com/questions/52751718/name-linear-model-is-not-defined\n",
        "X = X.apply(pd.to_numeric, errors='coerce')\n",
        "y = y.apply(pd.to_numeric, errors='coerce')\n",
        "X.fillna(0, inplace=True)\n",
        "y.fillna(0, inplace=True)\n",
        "X_train= X_train.apply(pd.to_numeric, errors='coerce')\n",
        "y_train = y_train.apply(pd.to_numeric, errors='coerce')\n",
        "X_train.fillna(0, inplace=True)\n",
        "y_train.fillna(0, inplace=True)\n",
        "X_test= X_test.apply(pd.to_numeric, errors='coerce')\n",
        "y_test = y_test.apply(pd.to_numeric, errors='coerce')\n",
        "X_test.fillna(0, inplace=True)\n",
        "y_test.fillna(0, inplace=True)"
      ]
    },
    {
      "cell_type": "code",
      "execution_count": null,
      "id": "bf39b03f",
      "metadata": {},
      "outputs": [],
      "source": [
        "#train/fit the model\n",
        "import sklearn\n",
        "from sklearn import linear_model\n",
        "lr= linear_model.LinearRegression()\n",
        "\n"
      ]
    },
    {
      "cell_type": "code",
      "execution_count": null,
      "id": "572d17fe",
      "metadata": {},
      "outputs": [],
      "source": [
        "lr.fit(X_train,y_train)"
      ]
    },
    {
      "cell_type": "code",
      "execution_count": null,
      "id": "663c2788",
      "metadata": {},
      "outputs": [],
      "source": [
        "#R2 score\n",
        "from sklearn.metrics import r2_score\n",
        "predictions = lr.predict(X_train)\n",
        "r2_score(y_train, predictions)\n",
        "# The r2 score is low, it may indicate that our prective model with all its variables is not the best fit\n",
        "#This was sort of expected, as we have seen with the graphics not all variables present a normal distribution or ar fitted for a linear regression.\n",
        "#It's also important to note that we only perform a visual check (heatmap) on multicolinearity on the numerical variables.\n",
        "# We migth need to address the multicolinearity in the categorical variables\n",
        "#A model with less variables might be a better fit or maybe it's needs another type of regression that it's not linear."
      ]
    },
    {
      "cell_type": "code",
      "execution_count": null,
      "id": "83dd875b",
      "metadata": {},
      "outputs": [],
      "source": [
        "X_test_transpose= X_test.T"
      ]
    },
    {
      "cell_type": "code",
      "execution_count": null,
      "id": "711a1987",
      "metadata": {},
      "outputs": [],
      "source": [
        "predictions"
      ]
    },
    {
      "cell_type": "code",
      "execution_count": null,
      "id": "44ad89ab",
      "metadata": {},
      "outputs": [],
      "source": [
        "from sklearn.metrics import mean_squared_error\n",
        "mse=mean_squared_error(X_test_transpose,predictions)\n",
        "mse"
      ]
    },
    {
      "cell_type": "code",
      "execution_count": null,
      "id": "826680ef",
      "metadata": {},
      "outputs": [],
      "source": [
        "len(y)"
      ]
    },
    {
      "cell_type": "code",
      "execution_count": null,
      "id": "9a69f879",
      "metadata": {},
      "outputs": [],
      "source": [
        "X.shape\n"
      ]
    },
    {
      "cell_type": "code",
      "execution_count": null,
      "id": "27cf8639",
      "metadata": {},
      "outputs": [],
      "source": [
        "X.T"
      ]
    },
    {
      "cell_type": "code",
      "execution_count": null,
      "id": "67ffce5e",
      "metadata": {},
      "outputs": [],
      "source": [
        "#Round 7\n",
        "#Explore the data\n",
        "#Already done.\n",
        "\n",
        "#Modeling\n",
        "#Description:\n",
        "\n",
        "#Try to improve the linear regression model. Remember the previous rounds. Follow the steps as shown in previous lectures and try to improve the accuracy of the model.\n",
        "\n",
        "#Some approaches you can try in this exercise:\n",
        "#use the concept of multicollinearity and remove insignificant variables\n",
        "#use a different method of scaling the numerical variables\n",
        "#use a different ratio of train test split\n",
        "#use the transformation on numerical columns which align it more towards a normal distribution"
      ]
    },
    {
      "cell_type": "code",
      "execution_count": null,
      "id": "ebd2fc7a",
      "metadata": {},
      "outputs": [],
      "source": [
        "#Final Round\n",
        "#For this lab, we still keep using the file that you downloaded from the original link. \n",
        "#The purpose now is to present a clean version of the entire process. \n",
        "#You should have a notebook that runs from beginning to end with no errors in the correct order. \n",
        "#The notebook should contain comments, decisions, and headings which clearly show the process from start to finish.\n",
        "#It's time to put it all together. Remember the previous rounds and follow the steps as shown in previous lectures.\n",
        "\n"
      ]
    }
  ],
  "metadata": {
    "colab": {
      "provenance": []
    },
    "kernelspec": {
      "display_name": "Python 3 (ipykernel)",
      "language": "python",
      "name": "python3"
    },
    "language_info": {
      "codemirror_mode": {
        "name": "ipython",
        "version": 3
      },
      "file_extension": ".py",
      "mimetype": "text/x-python",
      "name": "python",
      "nbconvert_exporter": "python",
      "pygments_lexer": "ipython3",
      "version": "3.11.9"
    }
  },
  "nbformat": 4,
  "nbformat_minor": 5
}
